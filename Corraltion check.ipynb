{
 "cells": [
  {
   "cell_type": "code",
   "execution_count": 37,
   "id": "d2c0aa8f",
   "metadata": {},
   "outputs": [],
   "source": [
    "import numpy as np\n",
    "import pandas as pd\n",
    "import matplotlib.pyplot as plt\n",
    "import seaborn as sns\n",
    "from sklearn.preprocessing import MinMaxScaler\n",
    "\n",
    "cars = pd.read_csv(r'C:\\Users\\Alon\\Desktop\\קורסים\\מדעי הנתונים\\cars_data.csv', index_col='index')\n",
    "train_set = pd.read_csv(r'C:\\Users\\Alon\\Desktop\\קורסים\\מדעי הנתונים\\train_set.csv', index_col='index')\n",
    "test_set = pd.read_csv(r'C:\\Users\\Alon\\Desktop\\קורסים\\מדעי הנתונים\\test_set.csv', index_col='index')\n",
    "demo_cars = pd.read_csv(r'C:\\Users\\Alon\\Desktop\\קורסים\\מדעי הנתונים\\ScaledTrainSet_data.csv', index_col='index')"
   ]
  },
  {
   "cell_type": "code",
   "execution_count": null,
   "id": "3251f783",
   "metadata": {},
   "outputs": [],
   "source": [
    "#building a fake table to see the correlation between 'price' and the rest\n",
    "decars = cars\n",
    "min_max_scaler = MinMaxScaler()\n",
    "decars[[\"year\", \"current_mileage\", \"annual_licensing_fee\", \"engine_size\",  \"next_test_in\" , \"car_length\", \"price\"]] = min_max_scaler.fit_transform(demo_cars[[\"year\", \"current_mileage\", \"annual_licensing_fee\", \"engine_size\",  \"next_test_in\" , \"car_length\", \"price\"]])"
   ]
  },
  {
   "cell_type": "code",
   "execution_count": 49,
   "id": "2d4efd8f",
   "metadata": {},
   "outputs": [
    {
     "data": {
      "text/plain": [
       "price                   1.000000\n",
       "annual_licensing_fee    0.900354\n",
       "year                    0.522056\n",
       "engine_size             0.418389\n",
       "is_mercedes             0.388515\n",
       "                          ...   \n",
       "small                  -0.159597\n",
       "mini                   -0.175787\n",
       "hand                   -0.187873\n",
       "is_leasing             -0.214572\n",
       "current_mileage        -0.464100\n",
       "Name: price, Length: 64, dtype: float64"
      ]
     },
     "execution_count": 49,
     "metadata": {},
     "output_type": "execute_result"
    }
   ],
   "source": [
    "from pandas.plotting import scatter_matrix\n",
    "corr_matrix = decars.corr()\n",
    "corr_matrix[\"price\"].sort_values(ascending = False)"
   ]
  },
  {
   "cell_type": "code",
   "execution_count": 65,
   "id": "1c3fd8dc",
   "metadata": {
    "scrolled": true
   },
   "outputs": [],
   "source": [
    "def itemToEnglish (item):\n",
    "    if (item == \"אלפא\"): \n",
    "        item = 'alfa-romeo'  \n",
    "    elif (item =='ניסאן'): \n",
    "        item = 'nissan'\n",
    "    elif (item == \"מאזדה\"): \n",
    "        item = 'mazda'\n",
    "    elif (item == \"סובארו\"): \n",
    "        item = 'subaru'\n",
    "    elif (item == \"מרצדס\"): \n",
    "        item = 'mercedes'\n",
    "    elif (item == \"סיאט\"): \n",
    "        item = 'siat'   \n",
    "    elif (item == \"סיטרואן\"): \n",
    "        item = 'citroen'   \n",
    "    elif (item == \"טויוטה\"): \n",
    "        item = 'toyota'   \n",
    "    elif (item ==\"ג'יפ\"): \n",
    "        item = 'jeep'   \n",
    "    elif (item == \"קיה\"): \n",
    "        item = 'kia'   \n",
    "    elif (item == \"יונדאי\"): \n",
    "        item = 'hyundai'   \n",
    "    elif (item == \"דייהטסו\"): \n",
    "        item = 'daihatsu'   \n",
    "    elif (item == \"פורשה\"): \n",
    "        item = 'porsche'   \n",
    "    elif (item == \"פיאט\"): \n",
    "        item = 'fiat'   \n",
    "    elif (item == \"פורד\"): \n",
    "        item = 'ford'   \n",
    "    elif (item == \"סוזוקי\"): \n",
    "        item = 'suzuki'   \n",
    "    elif (item == \"דאצ'יה\"): \n",
    "        item = 'dacia'   \n",
    "    elif (item == \"ב.מ.וו\"): \n",
    "        item = 'bmw'   \n",
    "    elif (item == \"פיג'ו\"): \n",
    "        item = 'peugeot'   \n",
    "    elif (item == \"מיצובישי\"): \n",
    "        item = 'mitsubishi'   \n",
    "    elif (item == \"פולקסווגן\"): \n",
    "        item = 'volkswagen'   \n",
    "    elif (item == \"רנו\"): \n",
    "        item = 'reno' \n",
    "    elif (item == \"הונדה\"): \n",
    "        item = 'honda' \n",
    "    elif (item == \"אאודי\"): \n",
    "        item = 'audi' \n",
    "    elif (item == \"סקודה\"): \n",
    "        item = 'skoda' \n",
    "    elif (item == \"מיני\"): \n",
    "        item = 'mini' \n",
    "    elif (item == \"אינפיניטי\"): \n",
    "        item = 'infinity'\n",
    "    elif (item == \"לנד\"): \n",
    "        item = 'landrover' \n",
    "    elif (item == \"שברולט\"): \n",
    "        item = 'chevrolet'\n",
    "    elif (item == \"אופל\"): \n",
    "        item = 'opel'\n",
    "    elif (item == \"MG\"): \n",
    "        item = 'MG'\n",
    "    elif (item == \"טסלה\"): \n",
    "        item = 'tesla'\n",
    "    elif (item == \"'דודג\"): \n",
    "        item = 'dodge'\n",
    "    elif (item == \"ביואיק\"): \n",
    "        item = 'buick'\n",
    "    elif (item == \"יגואר\"): \n",
    "        item = 'jaguar'   \n",
    "    elif (item == \"לקסוס\"): \n",
    "        item = 'lexus' \n",
    "    elif (item == \"סמארט\"): \n",
    "        item = 'smart'\n",
    "    elif (item == \"סאנגיונג\"): \n",
    "        item = 'sangiang'\n",
    "    elif (item == \"קאדילק\"): \n",
    "        item = 'cadillac'\n",
    "    elif (item == \"קופרה\"): \n",
    "        item = 'cupra'   \n",
    "    elif (item == \"קרייזלר\"): \n",
    "        item = 'chrysler'\n",
    "    elif (item == \"מזארטי\"): \n",
    "        item = 'maserati' \n",
    "    elif (item == \"וולבו\"): \n",
    "        item = 'volvo'\n",
    "    elif (item == \"איסוזו\"): \n",
    "        item = 'isuzu'\n",
    "    elif (item == \"GMC\"): \n",
    "        item = 'gmc'\n",
    "    elif (item == 'DS'):\n",
    "        item = 'ds'\n",
    "    elif (item == \"קאדילאק\"):\n",
    "        item = 'cadillac'\n",
    "    elif (item == 'SERES'):\n",
    "        item = 'seres'\n",
    "    return item"
   ]
  },
  {
   "cell_type": "code",
   "execution_count": 63,
   "id": "c1786a39",
   "metadata": {},
   "outputs": [
    {
     "name": "stdout",
     "output_type": "stream",
     "text": [
      "price                   1.000000\n",
      "annual_licensing_fee    0.900354\n",
      "year                    0.522056\n",
      "engine_size             0.418389\n",
      "is_mercedes             0.388515\n",
      "is_bmw                  0.363043\n",
      "car_length              0.362608\n",
      "large                   0.358672\n",
      "Name: price, dtype: float64\n",
      "mini               0.175787\n",
      "hand               0.187873\n",
      "is_leasing         0.214572\n",
      "current_mileage    0.464100\n",
      "Name: price, dtype: float64\n"
     ]
    }
   ],
   "source": [
    "#the \"strongest\" correlation of 'price'\n",
    "print(corr_matrix[\"price\"].sort_values(ascending = False).head(8))\n",
    "print(corr_matrix[\"price\"].sort_values(ascending = False).tail(4)*-1)"
   ]
  },
  {
   "cell_type": "code",
   "execution_count": 8,
   "id": "eb0d8e51",
   "metadata": {
    "scrolled": true
   },
   "outputs": [
    {
     "data": {
      "text/html": [
       "<div>\n",
       "<style scoped>\n",
       "    .dataframe tbody tr th:only-of-type {\n",
       "        vertical-align: middle;\n",
       "    }\n",
       "\n",
       "    .dataframe tbody tr th {\n",
       "        vertical-align: top;\n",
       "    }\n",
       "\n",
       "    .dataframe thead th {\n",
       "        text-align: right;\n",
       "    }\n",
       "</style>\n",
       "<table border=\"1\" class=\"dataframe\">\n",
       "  <thead>\n",
       "    <tr style=\"text-align: right;\">\n",
       "      <th></th>\n",
       "      <th>index</th>\n",
       "      <th>index.1</th>\n",
       "      <th>version</th>\n",
       "      <th>CompanyName</th>\n",
       "      <th>is_GAC</th>\n",
       "      <th>is_maserati</th>\n",
       "      <th>is_daihatsu</th>\n",
       "      <th>is_porsche</th>\n",
       "      <th>is_ds</th>\n",
       "      <th>is_smart</th>\n",
       "      <th>...</th>\n",
       "      <th>is_private</th>\n",
       "      <th>next_test_in</th>\n",
       "      <th>annual_licensing_fee</th>\n",
       "      <th>car_length</th>\n",
       "      <th>size</th>\n",
       "      <th>large</th>\n",
       "      <th>small</th>\n",
       "      <th>mini</th>\n",
       "      <th>medium</th>\n",
       "      <th>price</th>\n",
       "    </tr>\n",
       "  </thead>\n",
       "  <tbody>\n",
       "    <tr>\n",
       "      <th>0</th>\n",
       "      <td>0</td>\n",
       "      <td>0</td>\n",
       "      <td>קופרה פורמנטור SILVER STORM</td>\n",
       "      <td>קופרה</td>\n",
       "      <td>0</td>\n",
       "      <td>0</td>\n",
       "      <td>0</td>\n",
       "      <td>0</td>\n",
       "      <td>0</td>\n",
       "      <td>0</td>\n",
       "      <td>...</td>\n",
       "      <td>1</td>\n",
       "      <td>5</td>\n",
       "      <td>2417</td>\n",
       "      <td>445.0</td>\n",
       "      <td>medium</td>\n",
       "      <td>0</td>\n",
       "      <td>0</td>\n",
       "      <td>0</td>\n",
       "      <td>1</td>\n",
       "      <td>176000</td>\n",
       "    </tr>\n",
       "    <tr>\n",
       "      <th>1</th>\n",
       "      <td>1</td>\n",
       "      <td>1</td>\n",
       "      <td>טויוטה קורולה GLI</td>\n",
       "      <td>טויוטה</td>\n",
       "      <td>0</td>\n",
       "      <td>0</td>\n",
       "      <td>0</td>\n",
       "      <td>0</td>\n",
       "      <td>0</td>\n",
       "      <td>0</td>\n",
       "      <td>...</td>\n",
       "      <td>1</td>\n",
       "      <td>4</td>\n",
       "      <td>1262</td>\n",
       "      <td>454.5</td>\n",
       "      <td>medium</td>\n",
       "      <td>0</td>\n",
       "      <td>0</td>\n",
       "      <td>0</td>\n",
       "      <td>1</td>\n",
       "      <td>45000</td>\n",
       "    </tr>\n",
       "    <tr>\n",
       "      <th>2</th>\n",
       "      <td>2</td>\n",
       "      <td>2</td>\n",
       "      <td>קיה פיקנטו LX</td>\n",
       "      <td>קיה</td>\n",
       "      <td>0</td>\n",
       "      <td>0</td>\n",
       "      <td>0</td>\n",
       "      <td>0</td>\n",
       "      <td>0</td>\n",
       "      <td>0</td>\n",
       "      <td>...</td>\n",
       "      <td>1</td>\n",
       "      <td>9</td>\n",
       "      <td>1235</td>\n",
       "      <td>359.5</td>\n",
       "      <td>mini</td>\n",
       "      <td>0</td>\n",
       "      <td>0</td>\n",
       "      <td>1</td>\n",
       "      <td>0</td>\n",
       "      <td>79900</td>\n",
       "    </tr>\n",
       "    <tr>\n",
       "      <th>3</th>\n",
       "      <td>3</td>\n",
       "      <td>3</td>\n",
       "      <td>הונדה סיוויק COMFORT</td>\n",
       "      <td>הונדה</td>\n",
       "      <td>0</td>\n",
       "      <td>0</td>\n",
       "      <td>0</td>\n",
       "      <td>0</td>\n",
       "      <td>0</td>\n",
       "      <td>0</td>\n",
       "      <td>...</td>\n",
       "      <td>0</td>\n",
       "      <td>2</td>\n",
       "      <td>1424</td>\n",
       "      <td>430.0</td>\n",
       "      <td>medium</td>\n",
       "      <td>0</td>\n",
       "      <td>0</td>\n",
       "      <td>0</td>\n",
       "      <td>1</td>\n",
       "      <td>44900</td>\n",
       "    </tr>\n",
       "    <tr>\n",
       "      <th>4</th>\n",
       "      <td>4</td>\n",
       "      <td>4</td>\n",
       "      <td>פיאט 500 1.2 POP STAR</td>\n",
       "      <td>פיאט</td>\n",
       "      <td>0</td>\n",
       "      <td>0</td>\n",
       "      <td>0</td>\n",
       "      <td>0</td>\n",
       "      <td>0</td>\n",
       "      <td>0</td>\n",
       "      <td>...</td>\n",
       "      <td>1</td>\n",
       "      <td>2</td>\n",
       "      <td>1353</td>\n",
       "      <td>357.1</td>\n",
       "      <td>mini</td>\n",
       "      <td>0</td>\n",
       "      <td>0</td>\n",
       "      <td>1</td>\n",
       "      <td>0</td>\n",
       "      <td>42900</td>\n",
       "    </tr>\n",
       "    <tr>\n",
       "      <th>...</th>\n",
       "      <td>...</td>\n",
       "      <td>...</td>\n",
       "      <td>...</td>\n",
       "      <td>...</td>\n",
       "      <td>...</td>\n",
       "      <td>...</td>\n",
       "      <td>...</td>\n",
       "      <td>...</td>\n",
       "      <td>...</td>\n",
       "      <td>...</td>\n",
       "      <td>...</td>\n",
       "      <td>...</td>\n",
       "      <td>...</td>\n",
       "      <td>...</td>\n",
       "      <td>...</td>\n",
       "      <td>...</td>\n",
       "      <td>...</td>\n",
       "      <td>...</td>\n",
       "      <td>...</td>\n",
       "      <td>...</td>\n",
       "      <td>...</td>\n",
       "    </tr>\n",
       "    <tr>\n",
       "      <th>2967</th>\n",
       "      <td>2997</td>\n",
       "      <td>2997</td>\n",
       "      <td>סקודה קודיאק AMBITION</td>\n",
       "      <td>סקודה</td>\n",
       "      <td>0</td>\n",
       "      <td>0</td>\n",
       "      <td>0</td>\n",
       "      <td>0</td>\n",
       "      <td>0</td>\n",
       "      <td>0</td>\n",
       "      <td>...</td>\n",
       "      <td>0</td>\n",
       "      <td>5</td>\n",
       "      <td>2019</td>\n",
       "      <td>448.0</td>\n",
       "      <td>medium</td>\n",
       "      <td>0</td>\n",
       "      <td>0</td>\n",
       "      <td>0</td>\n",
       "      <td>1</td>\n",
       "      <td>132000</td>\n",
       "    </tr>\n",
       "    <tr>\n",
       "      <th>2968</th>\n",
       "      <td>2998</td>\n",
       "      <td>2998</td>\n",
       "      <td>סקודה פאביה AMBITION</td>\n",
       "      <td>סקודה</td>\n",
       "      <td>0</td>\n",
       "      <td>0</td>\n",
       "      <td>0</td>\n",
       "      <td>0</td>\n",
       "      <td>0</td>\n",
       "      <td>0</td>\n",
       "      <td>...</td>\n",
       "      <td>0</td>\n",
       "      <td>4</td>\n",
       "      <td>1102</td>\n",
       "      <td>399.2</td>\n",
       "      <td>small</td>\n",
       "      <td>0</td>\n",
       "      <td>1</td>\n",
       "      <td>0</td>\n",
       "      <td>0</td>\n",
       "      <td>59000</td>\n",
       "    </tr>\n",
       "    <tr>\n",
       "      <th>2969</th>\n",
       "      <td>2999</td>\n",
       "      <td>2999</td>\n",
       "      <td>מאזדה 3</td>\n",
       "      <td>מאזדה</td>\n",
       "      <td>0</td>\n",
       "      <td>0</td>\n",
       "      <td>0</td>\n",
       "      <td>0</td>\n",
       "      <td>0</td>\n",
       "      <td>0</td>\n",
       "      <td>...</td>\n",
       "      <td>1</td>\n",
       "      <td>11</td>\n",
       "      <td>2130</td>\n",
       "      <td>466.0</td>\n",
       "      <td>medium</td>\n",
       "      <td>0</td>\n",
       "      <td>0</td>\n",
       "      <td>0</td>\n",
       "      <td>1</td>\n",
       "      <td>130500</td>\n",
       "    </tr>\n",
       "    <tr>\n",
       "      <th>2970</th>\n",
       "      <td>3000</td>\n",
       "      <td>3000</td>\n",
       "      <td>קרייזלר PT-CRUISE LIMITED</td>\n",
       "      <td>קרייזלר</td>\n",
       "      <td>0</td>\n",
       "      <td>0</td>\n",
       "      <td>0</td>\n",
       "      <td>0</td>\n",
       "      <td>0</td>\n",
       "      <td>0</td>\n",
       "      <td>...</td>\n",
       "      <td>1</td>\n",
       "      <td>3</td>\n",
       "      <td>1427</td>\n",
       "      <td>429.0</td>\n",
       "      <td>medium</td>\n",
       "      <td>0</td>\n",
       "      <td>0</td>\n",
       "      <td>0</td>\n",
       "      <td>1</td>\n",
       "      <td>17000</td>\n",
       "    </tr>\n",
       "    <tr>\n",
       "      <th>2971</th>\n",
       "      <td>3001</td>\n",
       "      <td>3001</td>\n",
       "      <td>טויוטה פריוס PLUG IN COMFORT</td>\n",
       "      <td>טויוטה</td>\n",
       "      <td>0</td>\n",
       "      <td>0</td>\n",
       "      <td>0</td>\n",
       "      <td>0</td>\n",
       "      <td>0</td>\n",
       "      <td>0</td>\n",
       "      <td>...</td>\n",
       "      <td>1</td>\n",
       "      <td>11</td>\n",
       "      <td>2417</td>\n",
       "      <td>464.5</td>\n",
       "      <td>medium</td>\n",
       "      <td>0</td>\n",
       "      <td>0</td>\n",
       "      <td>0</td>\n",
       "      <td>1</td>\n",
       "      <td>147000</td>\n",
       "    </tr>\n",
       "  </tbody>\n",
       "</table>\n",
       "<p>2972 rows × 73 columns</p>\n",
       "</div>"
      ],
      "text/plain": [
       "      index  index.1                       version CompanyName  is_GAC  \\\n",
       "0         0        0   קופרה פורמנטור SILVER STORM       קופרה       0   \n",
       "1         1        1             טויוטה קורולה GLI      טויוטה       0   \n",
       "2         2        2                 קיה פיקנטו LX         קיה       0   \n",
       "3         3        3          הונדה סיוויק COMFORT       הונדה       0   \n",
       "4         4        4         פיאט 500 1.2 POP STAR        פיאט       0   \n",
       "...     ...      ...                           ...         ...     ...   \n",
       "2967   2997     2997         סקודה קודיאק AMBITION       סקודה       0   \n",
       "2968   2998     2998          סקודה פאביה AMBITION       סקודה       0   \n",
       "2969   2999     2999                       מאזדה 3       מאזדה       0   \n",
       "2970   3000     3000     קרייזלר PT-CRUISE LIMITED     קרייזלר       0   \n",
       "2971   3001     3001  טויוטה פריוס PLUG IN COMFORT      טויוטה       0   \n",
       "\n",
       "      is_maserati  is_daihatsu  is_porsche  is_ds  is_smart  ...  is_private  \\\n",
       "0               0            0           0      0         0  ...           1   \n",
       "1               0            0           0      0         0  ...           1   \n",
       "2               0            0           0      0         0  ...           1   \n",
       "3               0            0           0      0         0  ...           0   \n",
       "4               0            0           0      0         0  ...           1   \n",
       "...           ...          ...         ...    ...       ...  ...         ...   \n",
       "2967            0            0           0      0         0  ...           0   \n",
       "2968            0            0           0      0         0  ...           0   \n",
       "2969            0            0           0      0         0  ...           1   \n",
       "2970            0            0           0      0         0  ...           1   \n",
       "2971            0            0           0      0         0  ...           1   \n",
       "\n",
       "      next_test_in  annual_licensing_fee  car_length    size  large  small  \\\n",
       "0                5                  2417       445.0  medium      0      0   \n",
       "1                4                  1262       454.5  medium      0      0   \n",
       "2                9                  1235       359.5    mini      0      0   \n",
       "3                2                  1424       430.0  medium      0      0   \n",
       "4                2                  1353       357.1    mini      0      0   \n",
       "...            ...                   ...         ...     ...    ...    ...   \n",
       "2967             5                  2019       448.0  medium      0      0   \n",
       "2968             4                  1102       399.2   small      0      1   \n",
       "2969            11                  2130       466.0  medium      0      0   \n",
       "2970             3                  1427       429.0  medium      0      0   \n",
       "2971            11                  2417       464.5  medium      0      0   \n",
       "\n",
       "      mini  medium   price  \n",
       "0        0       1  176000  \n",
       "1        0       1   45000  \n",
       "2        1       0   79900  \n",
       "3        0       1   44900  \n",
       "4        1       0   42900  \n",
       "...    ...     ...     ...  \n",
       "2967     0       1  132000  \n",
       "2968     0       0   59000  \n",
       "2969     0       1  130500  \n",
       "2970     0       1   17000  \n",
       "2971     0       1  147000  \n",
       "\n",
       "[2972 rows x 73 columns]"
      ]
     },
     "execution_count": 8,
     "metadata": {},
     "output_type": "execute_result"
    }
   ],
   "source": [
    "cars"
   ]
  },
  {
   "cell_type": "markdown",
   "id": "9f006646",
   "metadata": {},
   "source": [
    "# tiyota"
   ]
  },
  {
   "cell_type": "code",
   "execution_count": 66,
   "id": "58a710d4",
   "metadata": {},
   "outputs": [],
   "source": [
    "car_names = cars.CompanyName.unique()\n",
    "corol_com = np.zeros(len(car_names))\n",
    "counter = 0\n",
    "\n",
    "for x in car_names:\n",
    "    tempStr = \"is_\" + itemToEnglish(x)\n",
    "    corol_com[counter] = abs(corr_matrix[\"price\"].sort_values(ascending = False)[tempStr])\n",
    "    counter = counter+1;\n"
   ]
  },
  {
   "cell_type": "code",
   "execution_count": 67,
   "id": "734966a3",
   "metadata": {
    "scrolled": true
   },
   "outputs": [
    {
     "data": {
      "text/plain": [
       "<BarContainer object of 46 artists>"
      ]
     },
     "execution_count": 67,
     "metadata": {},
     "output_type": "execute_result"
    },
    {
     "data": {
      "image/png": "[encoded data removed]",
      "text/plain": [
       "<Figure size 432x288 with 1 Axes>"
      ]
     },
     "metadata": {
      "needs_background": "light"
     },
     "output_type": "display_data"
    }
   ],
   "source": [
    "plt.bar(car_names, corol_com)"
   ]
  },
  {
   "cell_type": "code",
   "execution_count": 68,
   "id": "8200a637",
   "metadata": {},
   "outputs": [
    {
     "data": {
      "text/plain": [
       "<BarContainer object of 9 artists>"
      ]
     },
     "execution_count": 68,
     "metadata": {},
     "output_type": "execute_result"
    },
    {
     "data": {
      "image/png": "[encoded data removed]",
      "text/plain": [
       "<Figure size 432x288 with 1 Axes>"
      ]
     },
     "metadata": {
      "needs_background": "light"
     },
     "output_type": "display_data"
    }
   ],
   "source": [
    "plt.bar(car_names[0:9], corol_com[0:9])"
   ]
  },
  {
   "cell_type": "code",
   "execution_count": 69,
   "id": "b3d18753",
   "metadata": {},
   "outputs": [
    {
     "data": {
      "text/plain": [
       "<BarContainer object of 9 artists>"
      ]
     },
     "execution_count": 69,
     "metadata": {},
     "output_type": "execute_result"
    },
    {
     "data": {
      "image/png": "[encoded data removed]",
      "text/plain": [
       "<Figure size 432x288 with 1 Axes>"
      ]
     },
     "metadata": {
      "needs_background": "light"
     },
     "output_type": "display_data"
    }
   ],
   "source": [
    "plt.bar(car_names[10:19], corol_com[10:19])"
   ]
  },
  {
   "cell_type": "code",
   "execution_count": 70,
   "id": "ad64ae3d",
   "metadata": {},
   "outputs": [
    {
     "data": {
      "text/plain": [
       "<BarContainer object of 9 artists>"
      ]
     },
     "execution_count": 70,
     "metadata": {},
     "output_type": "execute_result"
    },
    {
     "data": {
      "image/png": "[encoded data removed]",
      "text/plain": [
       "<Figure size 432x288 with 1 Axes>"
      ]
     },
     "metadata": {
      "needs_background": "light"
     },
     "output_type": "display_data"
    }
   ],
   "source": [
    "plt.bar(car_names[20:29], corol_com[20:29])"
   ]
  },
  {
   "cell_type": "code",
   "execution_count": 71,
   "id": "6a4554e4",
   "metadata": {},
   "outputs": [
    {
     "data": {
      "text/plain": [
       "<BarContainer object of 9 artists>"
      ]
     },
     "execution_count": 71,
     "metadata": {},
     "output_type": "execute_result"
    },
    {
     "data": {
      "image/png": "[encoded data removed]",
      "text/plain": [
       "<Figure size 432x288 with 1 Axes>"
      ]
     },
     "metadata": {
      "needs_background": "light"
     },
     "output_type": "display_data"
    }
   ],
   "source": [
    "plt.bar(car_names[30:39], corol_com[30:39])"
   ]
  },
  {
   "cell_type": "code",
   "execution_count": 72,
   "id": "4659bedc",
   "metadata": {},
   "outputs": [
    {
     "data": {
      "text/plain": [
       "<BarContainer object of 5 artists>"
      ]
     },
     "execution_count": 72,
     "metadata": {},
     "output_type": "execute_result"
    },
    {
     "data": {
      "image/png": "[encoded data removed]",
      "text/plain": [
       "<Figure size 432x288 with 1 Axes>"
      ]
     },
     "metadata": {
      "needs_background": "light"
     },
     "output_type": "display_data"
    }
   ],
   "source": [
    "plt.bar(car_names[40:45], corol_com[40:45])"
   ]
  }
 ],
 "metadata": {
  "kernelspec": {
   "display_name": "Python 3",
   "language": "python",
   "name": "python3"
  },
  "language_info": {
   "codemirror_mode": {
    "name": "ipython",
    "version": 3
   },
   "file_extension": ".py",
   "mimetype": "text/x-python",
   "name": "python",
   "nbconvert_exporter": "python",
   "pygments_lexer": "ipython3",
   "version": "3.8.8"
  }
 },
 "nbformat": 4,
 "nbformat_minor": 5
}
