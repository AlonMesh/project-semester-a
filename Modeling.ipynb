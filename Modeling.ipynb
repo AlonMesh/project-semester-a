{
 "cells": [
  {
   "cell_type": "code",
   "execution_count": 2,
   "id": "dea98616",
   "metadata": {},
   "outputs": [],
   "source": [
    "import numpy as np\n",
    "import sklearn\n",
    "import pandas as pd\n",
    "from sklearn.model_selection import train_test_split\n",
    "from sklearn.model_selection import cross_val_score\n",
    "from sklearn.preprocessing import MinMaxScaler\n",
    "import matplotlib.pyplot as plt\n",
    "import seaborn as sns\n",
    "from pandas.plotting import scatter_matrix\n",
    "from sklearn.compose import ColumnTransformer\n",
    "\n",
    "from sklearn.pipeline import Pipeline\n",
    "from sklearn.preprocessing import OneHotEncoder\n",
    "from sklearn.base import BaseEstimator , TransformerMixin\n",
    "\n",
    "from sklearn.linear_model import LinearRegression"
   ]
  },
  {
   "cell_type": "code",
   "execution_count": 5,
   "id": "06d9fefb",
   "metadata": {},
   "outputs": [],
   "source": [
    "x_train = pd.read_csv(r'C:\\Users\\Alon\\Desktop\\קורסים\\מדעי הנתונים\\ScaledTrainSet_data.csv' , index_col  = 'index')"
   ]
  },
  {
   "cell_type": "code",
   "execution_count": 6,
   "id": "62c52d68",
   "metadata": {
    "scrolled": true
   },
   "outputs": [
    {
     "data": {
      "text/html": [
       "<div>\n",
       "<style scoped>\n",
       "    .dataframe tbody tr th:only-of-type {\n",
       "        vertical-align: middle;\n",
       "    }\n",
       "\n",
       "    .dataframe tbody tr th {\n",
       "        vertical-align: top;\n",
       "    }\n",
       "\n",
       "    .dataframe thead th {\n",
       "        text-align: right;\n",
       "    }\n",
       "</style>\n",
       "<table border=\"1\" class=\"dataframe\">\n",
       "  <thead>\n",
       "    <tr style=\"text-align: right;\">\n",
       "      <th></th>\n",
       "      <th>index.1</th>\n",
       "      <th>index.1.1</th>\n",
       "      <th>is_GAC</th>\n",
       "      <th>is_maserati</th>\n",
       "      <th>is_daihatsu</th>\n",
       "      <th>is_porsche</th>\n",
       "      <th>is_ds</th>\n",
       "      <th>is_smart</th>\n",
       "      <th>is_seres</th>\n",
       "      <th>is_cadillac</th>\n",
       "      <th>...</th>\n",
       "      <th>is_leasing</th>\n",
       "      <th>is_company</th>\n",
       "      <th>is_private</th>\n",
       "      <th>next_test_in</th>\n",
       "      <th>annual_licensing_fee</th>\n",
       "      <th>car_length</th>\n",
       "      <th>large</th>\n",
       "      <th>small</th>\n",
       "      <th>mini</th>\n",
       "      <th>medium</th>\n",
       "    </tr>\n",
       "    <tr>\n",
       "      <th>index</th>\n",
       "      <th></th>\n",
       "      <th></th>\n",
       "      <th></th>\n",
       "      <th></th>\n",
       "      <th></th>\n",
       "      <th></th>\n",
       "      <th></th>\n",
       "      <th></th>\n",
       "      <th></th>\n",
       "      <th></th>\n",
       "      <th></th>\n",
       "      <th></th>\n",
       "      <th></th>\n",
       "      <th></th>\n",
       "      <th></th>\n",
       "      <th></th>\n",
       "      <th></th>\n",
       "      <th></th>\n",
       "      <th></th>\n",
       "      <th></th>\n",
       "      <th></th>\n",
       "    </tr>\n",
       "  </thead>\n",
       "  <tbody>\n",
       "    <tr>\n",
       "      <th>1596</th>\n",
       "      <td>1608</td>\n",
       "      <td>1608</td>\n",
       "      <td>0</td>\n",
       "      <td>0</td>\n",
       "      <td>0</td>\n",
       "      <td>0</td>\n",
       "      <td>0</td>\n",
       "      <td>0</td>\n",
       "      <td>0</td>\n",
       "      <td>0</td>\n",
       "      <td>...</td>\n",
       "      <td>0</td>\n",
       "      <td>0</td>\n",
       "      <td>1</td>\n",
       "      <td>0.000000</td>\n",
       "      <td>0.645547</td>\n",
       "      <td>0.764326</td>\n",
       "      <td>1</td>\n",
       "      <td>0</td>\n",
       "      <td>0</td>\n",
       "      <td>0</td>\n",
       "    </tr>\n",
       "    <tr>\n",
       "      <th>1322</th>\n",
       "      <td>1329</td>\n",
       "      <td>1329</td>\n",
       "      <td>0</td>\n",
       "      <td>0</td>\n",
       "      <td>0</td>\n",
       "      <td>0</td>\n",
       "      <td>0</td>\n",
       "      <td>0</td>\n",
       "      <td>0</td>\n",
       "      <td>0</td>\n",
       "      <td>...</td>\n",
       "      <td>0</td>\n",
       "      <td>0</td>\n",
       "      <td>1</td>\n",
       "      <td>0.166667</td>\n",
       "      <td>0.188003</td>\n",
       "      <td>0.600759</td>\n",
       "      <td>0</td>\n",
       "      <td>0</td>\n",
       "      <td>0</td>\n",
       "      <td>1</td>\n",
       "    </tr>\n",
       "    <tr>\n",
       "      <th>1769</th>\n",
       "      <td>1782</td>\n",
       "      <td>1782</td>\n",
       "      <td>0</td>\n",
       "      <td>0</td>\n",
       "      <td>0</td>\n",
       "      <td>0</td>\n",
       "      <td>0</td>\n",
       "      <td>0</td>\n",
       "      <td>0</td>\n",
       "      <td>0</td>\n",
       "      <td>...</td>\n",
       "      <td>0</td>\n",
       "      <td>0</td>\n",
       "      <td>1</td>\n",
       "      <td>0.166667</td>\n",
       "      <td>0.050377</td>\n",
       "      <td>0.652751</td>\n",
       "      <td>0</td>\n",
       "      <td>0</td>\n",
       "      <td>0</td>\n",
       "      <td>1</td>\n",
       "    </tr>\n",
       "    <tr>\n",
       "      <th>1188</th>\n",
       "      <td>1193</td>\n",
       "      <td>1193</td>\n",
       "      <td>0</td>\n",
       "      <td>0</td>\n",
       "      <td>0</td>\n",
       "      <td>0</td>\n",
       "      <td>0</td>\n",
       "      <td>0</td>\n",
       "      <td>0</td>\n",
       "      <td>0</td>\n",
       "      <td>...</td>\n",
       "      <td>1</td>\n",
       "      <td>0</td>\n",
       "      <td>0</td>\n",
       "      <td>0.583333</td>\n",
       "      <td>0.027266</td>\n",
       "      <td>0.493359</td>\n",
       "      <td>0</td>\n",
       "      <td>1</td>\n",
       "      <td>0</td>\n",
       "      <td>0</td>\n",
       "    </tr>\n",
       "    <tr>\n",
       "      <th>1161</th>\n",
       "      <td>1166</td>\n",
       "      <td>1166</td>\n",
       "      <td>0</td>\n",
       "      <td>0</td>\n",
       "      <td>0</td>\n",
       "      <td>0</td>\n",
       "      <td>0</td>\n",
       "      <td>0</td>\n",
       "      <td>0</td>\n",
       "      <td>0</td>\n",
       "      <td>...</td>\n",
       "      <td>0</td>\n",
       "      <td>0</td>\n",
       "      <td>1</td>\n",
       "      <td>0.833333</td>\n",
       "      <td>1.000000</td>\n",
       "      <td>0.489943</td>\n",
       "      <td>0</td>\n",
       "      <td>1</td>\n",
       "      <td>0</td>\n",
       "      <td>0</td>\n",
       "    </tr>\n",
       "    <tr>\n",
       "      <th>...</th>\n",
       "      <td>...</td>\n",
       "      <td>...</td>\n",
       "      <td>...</td>\n",
       "      <td>...</td>\n",
       "      <td>...</td>\n",
       "      <td>...</td>\n",
       "      <td>...</td>\n",
       "      <td>...</td>\n",
       "      <td>...</td>\n",
       "      <td>...</td>\n",
       "      <td>...</td>\n",
       "      <td>...</td>\n",
       "      <td>...</td>\n",
       "      <td>...</td>\n",
       "      <td>...</td>\n",
       "      <td>...</td>\n",
       "      <td>...</td>\n",
       "      <td>...</td>\n",
       "      <td>...</td>\n",
       "      <td>...</td>\n",
       "      <td>...</td>\n",
       "    </tr>\n",
       "    <tr>\n",
       "      <th>1638</th>\n",
       "      <td>1650</td>\n",
       "      <td>1650</td>\n",
       "      <td>0</td>\n",
       "      <td>0</td>\n",
       "      <td>0</td>\n",
       "      <td>0</td>\n",
       "      <td>0</td>\n",
       "      <td>0</td>\n",
       "      <td>0</td>\n",
       "      <td>0</td>\n",
       "      <td>...</td>\n",
       "      <td>0</td>\n",
       "      <td>0</td>\n",
       "      <td>1</td>\n",
       "      <td>0.333333</td>\n",
       "      <td>0.122825</td>\n",
       "      <td>0.518027</td>\n",
       "      <td>0</td>\n",
       "      <td>1</td>\n",
       "      <td>0</td>\n",
       "      <td>0</td>\n",
       "    </tr>\n",
       "    <tr>\n",
       "      <th>1095</th>\n",
       "      <td>1100</td>\n",
       "      <td>1100</td>\n",
       "      <td>0</td>\n",
       "      <td>0</td>\n",
       "      <td>0</td>\n",
       "      <td>0</td>\n",
       "      <td>0</td>\n",
       "      <td>0</td>\n",
       "      <td>0</td>\n",
       "      <td>0</td>\n",
       "      <td>...</td>\n",
       "      <td>0</td>\n",
       "      <td>0</td>\n",
       "      <td>1</td>\n",
       "      <td>0.416667</td>\n",
       "      <td>0.142041</td>\n",
       "      <td>0.813283</td>\n",
       "      <td>1</td>\n",
       "      <td>0</td>\n",
       "      <td>0</td>\n",
       "      <td>0</td>\n",
       "    </tr>\n",
       "    <tr>\n",
       "      <th>1130</th>\n",
       "      <td>1135</td>\n",
       "      <td>1135</td>\n",
       "      <td>0</td>\n",
       "      <td>0</td>\n",
       "      <td>0</td>\n",
       "      <td>0</td>\n",
       "      <td>0</td>\n",
       "      <td>0</td>\n",
       "      <td>0</td>\n",
       "      <td>0</td>\n",
       "      <td>...</td>\n",
       "      <td>0</td>\n",
       "      <td>0</td>\n",
       "      <td>1</td>\n",
       "      <td>0.000000</td>\n",
       "      <td>0.295767</td>\n",
       "      <td>0.675522</td>\n",
       "      <td>0</td>\n",
       "      <td>0</td>\n",
       "      <td>0</td>\n",
       "      <td>1</td>\n",
       "    </tr>\n",
       "    <tr>\n",
       "      <th>1294</th>\n",
       "      <td>1300</td>\n",
       "      <td>1300</td>\n",
       "      <td>0</td>\n",
       "      <td>0</td>\n",
       "      <td>0</td>\n",
       "      <td>0</td>\n",
       "      <td>0</td>\n",
       "      <td>0</td>\n",
       "      <td>0</td>\n",
       "      <td>0</td>\n",
       "      <td>...</td>\n",
       "      <td>1</td>\n",
       "      <td>0</td>\n",
       "      <td>0</td>\n",
       "      <td>0.500000</td>\n",
       "      <td>0.241755</td>\n",
       "      <td>0.734345</td>\n",
       "      <td>0</td>\n",
       "      <td>0</td>\n",
       "      <td>0</td>\n",
       "      <td>1</td>\n",
       "    </tr>\n",
       "    <tr>\n",
       "      <th>860</th>\n",
       "      <td>865</td>\n",
       "      <td>865</td>\n",
       "      <td>0</td>\n",
       "      <td>0</td>\n",
       "      <td>0</td>\n",
       "      <td>0</td>\n",
       "      <td>0</td>\n",
       "      <td>0</td>\n",
       "      <td>0</td>\n",
       "      <td>0</td>\n",
       "      <td>...</td>\n",
       "      <td>0</td>\n",
       "      <td>0</td>\n",
       "      <td>0</td>\n",
       "      <td>0.916667</td>\n",
       "      <td>0.057647</td>\n",
       "      <td>0.485009</td>\n",
       "      <td>0</td>\n",
       "      <td>1</td>\n",
       "      <td>0</td>\n",
       "      <td>0</td>\n",
       "    </tr>\n",
       "  </tbody>\n",
       "</table>\n",
       "<p>2674 rows × 65 columns</p>\n",
       "</div>"
      ],
      "text/plain": [
       "       index.1  index.1.1  is_GAC  is_maserati  is_daihatsu  is_porsche  \\\n",
       "index                                                                     \n",
       "1596      1608       1608       0            0            0           0   \n",
       "1322      1329       1329       0            0            0           0   \n",
       "1769      1782       1782       0            0            0           0   \n",
       "1188      1193       1193       0            0            0           0   \n",
       "1161      1166       1166       0            0            0           0   \n",
       "...        ...        ...     ...          ...          ...         ...   \n",
       "1638      1650       1650       0            0            0           0   \n",
       "1095      1100       1100       0            0            0           0   \n",
       "1130      1135       1135       0            0            0           0   \n",
       "1294      1300       1300       0            0            0           0   \n",
       "860        865        865       0            0            0           0   \n",
       "\n",
       "       is_ds  is_smart  is_seres  is_cadillac  ...  is_leasing  is_company  \\\n",
       "index                                          ...                           \n",
       "1596       0         0         0            0  ...           0           0   \n",
       "1322       0         0         0            0  ...           0           0   \n",
       "1769       0         0         0            0  ...           0           0   \n",
       "1188       0         0         0            0  ...           1           0   \n",
       "1161       0         0         0            0  ...           0           0   \n",
       "...      ...       ...       ...          ...  ...         ...         ...   \n",
       "1638       0         0         0            0  ...           0           0   \n",
       "1095       0         0         0            0  ...           0           0   \n",
       "1130       0         0         0            0  ...           0           0   \n",
       "1294       0         0         0            0  ...           1           0   \n",
       "860        0         0         0            0  ...           0           0   \n",
       "\n",
       "       is_private  next_test_in  annual_licensing_fee  car_length  large  \\\n",
       "index                                                                      \n",
       "1596            1      0.000000              0.645547    0.764326      1   \n",
       "1322            1      0.166667              0.188003    0.600759      0   \n",
       "1769            1      0.166667              0.050377    0.652751      0   \n",
       "1188            0      0.583333              0.027266    0.493359      0   \n",
       "1161            1      0.833333              1.000000    0.489943      0   \n",
       "...           ...           ...                   ...         ...    ...   \n",
       "1638            1      0.333333              0.122825    0.518027      0   \n",
       "1095            1      0.416667              0.142041    0.813283      1   \n",
       "1130            1      0.000000              0.295767    0.675522      0   \n",
       "1294            0      0.500000              0.241755    0.734345      0   \n",
       "860             0      0.916667              0.057647    0.485009      0   \n",
       "\n",
       "       small  mini  medium  \n",
       "index                       \n",
       "1596       0     0       0  \n",
       "1322       0     0       1  \n",
       "1769       0     0       1  \n",
       "1188       1     0       0  \n",
       "1161       1     0       0  \n",
       "...      ...   ...     ...  \n",
       "1638       1     0       0  \n",
       "1095       0     0       0  \n",
       "1130       0     0       1  \n",
       "1294       0     0       1  \n",
       "860        1     0       0  \n",
       "\n",
       "[2674 rows x 65 columns]"
      ]
     },
     "execution_count": 6,
     "metadata": {},
     "output_type": "execute_result"
    }
   ],
   "source": [
    "x_train"
   ]
  },
  {
   "cell_type": "markdown",
   "id": "8a320f49",
   "metadata": {},
   "source": [
    "# Cross_Validation"
   ]
  },
  {
   "cell_type": "code",
   "execution_count": 7,
   "id": "6492b4a4",
   "metadata": {},
   "outputs": [],
   "source": [
    "x_target = pd.read_csv(r'C:\\Users\\Alon\\Desktop\\קורסים\\מדעי הנתונים\\TrainSet-target_data.csv', index_col='index')\n",
    "#x_target"
   ]
  },
  {
   "cell_type": "code",
   "execution_count": 8,
   "id": "238bda1b",
   "metadata": {},
   "outputs": [
    {
     "data": {
      "text/plain": [
       "price    104849.31825\n",
       "dtype: float64"
      ]
     },
     "execution_count": 8,
     "metadata": {},
     "output_type": "execute_result"
    }
   ],
   "source": [
    "#Just to check - is the mean price valid?\n",
    "x_target.mean()"
   ]
  },
  {
   "cell_type": "code",
   "execution_count": 9,
   "id": "3ae9a6a9",
   "metadata": {},
   "outputs": [],
   "source": [
    "x_target[[\"price\"]] = MinMaxScaler().fit_transform(x_target[[\"price\"]]) \n",
    "x_target = x_target[\"price\"]"
   ]
  },
  {
   "cell_type": "code",
   "execution_count": 10,
   "id": "dcda9bcb",
   "metadata": {
    "scrolled": true
   },
   "outputs": [
    {
     "data": {
      "text/plain": [
       "index\n",
       "1596    0.467347\n",
       "1322    0.122245\n",
       "1769    0.183673\n",
       "1188    0.046939\n",
       "1161    0.872082\n",
       "          ...   \n",
       "1638    0.132653\n",
       "1095    0.038776\n",
       "1130    0.204082\n",
       "1294    0.204082\n",
       "860     0.063265\n",
       "Name: price, Length: 2674, dtype: float64"
      ]
     },
     "execution_count": 10,
     "metadata": {},
     "output_type": "execute_result"
    }
   ],
   "source": [
    "#We decided to drop 'annual_licensing_fee' col because it is a function of each car's price.\n",
    "    #x_train.drop(columns = \"annual_licensing_fee\", inplace=True) \n",
    "x_target"
   ]
  },
  {
   "cell_type": "markdown",
   "id": "0641e73e",
   "metadata": {},
   "source": [
    "# Scoring"
   ]
  },
  {
   "cell_type": "code",
   "execution_count": 11,
   "id": "7b80cb1e",
   "metadata": {},
   "outputs": [],
   "source": [
    "lin_reg = LinearRegression()\n",
    "lin_reg = lin_reg.fit(x_train, x_target)"
   ]
  },
  {
   "cell_type": "code",
   "execution_count": 118,
   "id": "df5e230e",
   "metadata": {
    "scrolled": false
   },
   "outputs": [
    {
     "name": "stdout",
     "output_type": "stream",
     "text": [
      "r = 0.9729875787518013\n",
      "r^2 = 0.9467048284052928\n",
      "for cv = 96\n"
     ]
    }
   ],
   "source": [
    "#This method check which cv gives the best score.\n",
    "    #if we make this one a function -> the function will return the bestCV\n",
    "CV_COUNT = 100\n",
    "maxScore = 0\n",
    "bestCV = 0\n",
    "bestScoreI = 0\n",
    "scr = np.zeros(CV_COUNT)\n",
    "\n",
    "for i in np.arange(2, CV_COUNT+2):\n",
    "    bestScoreI = 0\n",
    "    ind = cross_val_score(lin_reg, x_train, x_target, cv=i, scoring = \"r2\")\n",
    "    for j in ind:\n",
    "        if j > maxScore:\n",
    "            maxScore = j\n",
    "            bestCV = i\n",
    "        if j > bestScoreI:\n",
    "            scr[i-2] = pow(j, 2)    \n",
    "    \n",
    "print(\"r =\", maxScore)\n",
    "print(\"r^2 =\", pow(maxScore, 2))\n",
    "print(\"for cv =\", bestCV)\n",
    "#print(scr)\n",
    "#print (cross_val_score(lin_reg, x_train, x_target, cv=14)) #a method to print scores by cv."
   ]
  },
  {
   "cell_type": "markdown",
   "id": "29cef224",
   "metadata": {},
   "source": [
    "# Grid Search"
   ]
  },
  {
   "cell_type": "markdown",
   "id": "97d88804",
   "metadata": {},
   "source": [
    "### premitive way to do it (by loops), Aviya has a grid search function"
   ]
  },
  {
   "cell_type": "code",
   "execution_count": 119,
   "id": "45b11804",
   "metadata": {},
   "outputs": [
    {
     "data": {
      "text/plain": [
       "Text(0, 0.5, 'r^2')"
      ]
     },
     "execution_count": 119,
     "metadata": {},
     "output_type": "execute_result"
    },
    {
     "data": {
      "image/png": "[encoded data removed]",
      "text/plain": [
       "<Figure size 1656x432 with 1 Axes>"
      ]
     },
     "metadata": {
      "needs_background": "light"
     },
     "output_type": "display_data"
    }
   ],
   "source": [
    "#a graph that show how our hyper-parameter (number of cv) infulence the accuracy of the model\n",
    "plt.figure(figsize=(23, 6))\n",
    "plt.plot(range(2, CV_COUNT+2), scr, color='black', linestyle='dashed', marker='o',\n",
    "         markerfacecolor='orange', markersize=10)\n",
    "plt.title('Best cv')\n",
    "plt.xlabel('cv')\n",
    "plt.ylabel('r^2')"
   ]
  },
  {
   "cell_type": "code",
   "execution_count": null,
   "id": "302cdb31",
   "metadata": {},
   "outputs": [],
   "source": []
  },
  {
   "cell_type": "markdown",
   "id": "585b7975",
   "metadata": {},
   "source": [
    "# Saving and importing the a model"
   ]
  },
  {
   "cell_type": "code",
   "execution_count": 18,
   "id": "1b4ea675",
   "metadata": {},
   "outputs": [
    {
     "data": {
      "text/plain": [
       "['lin_reg_1.joblib']"
      ]
     },
     "execution_count": 18,
     "metadata": {},
     "output_type": "execute_result"
    }
   ],
   "source": [
    "#saving the model\n",
    "import joblib\n",
    "joblib.dump(lin_reg, 'lin_reg_1.joblib')"
   ]
  },
  {
   "cell_type": "code",
   "execution_count": null,
   "id": "fc8738a4",
   "metadata": {},
   "outputs": [],
   "source": [
    "#importing a model (Don't press unless needed)\n",
    "model1 = joblib.load('lin_reg_1.joblib')"
   ]
  },
  {
   "cell_type": "markdown",
   "id": "476d859e",
   "metadata": {},
   "source": [
    "# Dummy model trying"
   ]
  },
  {
   "cell_type": "code",
   "execution_count": 171,
   "id": "289b9766",
   "metadata": {},
   "outputs": [],
   "source": [
    "#Dummy-model method:\n",
    "    #Checking the prices mean, and then its percent.\n",
    "    #Count the prices that between (price+percent) and (price-percent), duo the price is a spesific number (10+ digits)\n",
    "    #Divide those counted prices by the amount of prices.\n",
    "\n",
    "x_target.mean() # 0.19357003724451638\n",
    "x_target.mean()/100 # 0.0019357003724451637\n",
    "\n",
    "maxLim = x_target.mean() + x_target.mean()/100\n",
    "minLim = x_target.mean() - x_target.mean()/100"
   ]
  },
  {
   "cell_type": "code",
   "execution_count": 172,
   "id": "56d87243",
   "metadata": {},
   "outputs": [
    {
     "name": "stdout",
     "output_type": "stream",
     "text": [
      "0.014584891548242334\n"
     ]
    }
   ],
   "source": [
    "counter = x_target.where(x_target > minLim).where(x_target < maxLim).dropna().count()\n",
    "print (counter / x_target.count())"
   ]
  }
 ],
 "metadata": {
  "kernelspec": {
   "display_name": "Python 3",
   "language": "python",
   "name": "python3"
  },
  "language_info": {
   "codemirror_mode": {
    "name": "ipython",
    "version": 3
   },
   "file_extension": ".py",
   "mimetype": "text/x-python",
   "name": "python",
   "nbconvert_exporter": "python",
   "pygments_lexer": "ipython3",
   "version": "3.8.8"
  }
 },
 "nbformat": 4,
 "nbformat_minor": 5
}
