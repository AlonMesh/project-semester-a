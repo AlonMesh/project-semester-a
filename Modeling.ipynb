{
 "cells": [
  {
   "cell_type": "code",
   "execution_count": 322,
   "id": "470e6454",
   "metadata": {},
   "outputs": [],
   "source": [
    "import numpy as np\n",
    "import sklearn\n",
    "import pandas as pd\n",
    "from sklearn.model_selection import train_test_split\n",
    "from sklearn.model_selection import cross_val_score\n",
    "from sklearn import svm\n",
    "from sklearn.tree import DecisionTreeRegressor\n",
    "\n",
    "import matplotlib.pyplot as plt\n",
    "import seaborn as sns\n",
    "from pandas.plotting import scatter_matrix\n",
    "from sklearn.compose import ColumnTransformer\n",
    "from sklearn.metrics import mean_squared_error\n",
    "from sklearn.metrics import accuracy_score\n",
    "from sklearn.compose import ColumnTransformer\n",
    "from sklearn.pipeline import Pipeline\n",
    "from sklearn.pipeline import Pipeline\n",
    "from sklearn.preprocessing import StandardScaler\n",
    "from sklearn.preprocessing import OneHotEncoder\n",
    "from sklearn.base import BaseEstimator , TransformerMixin\n",
    "from sklearn import preprocessing\n",
    "from sklearn import utils\n",
    "from sklearn.linear_model import LinearRegression\n",
    "import joblib\n",
    "from sklearn.model_selection import GridSearchCV "
   ]
  },
  {
   "cell_type": "code",
   "execution_count": 376,
   "id": "d3e1ca20",
   "metadata": {},
   "outputs": [
    {
     "data": {
      "text/html": [
       "<div>\n",
       "<style scoped>\n",
       "    .dataframe tbody tr th:only-of-type {\n",
       "        vertical-align: middle;\n",
       "    }\n",
       "\n",
       "    .dataframe tbody tr th {\n",
       "        vertical-align: top;\n",
       "    }\n",
       "\n",
       "    .dataframe thead th {\n",
       "        text-align: right;\n",
       "    }\n",
       "</style>\n",
       "<table border=\"1\" class=\"dataframe\">\n",
       "  <thead>\n",
       "    <tr style=\"text-align: right;\">\n",
       "      <th></th>\n",
       "      <th>year</th>\n",
       "      <th>is_GAC</th>\n",
       "      <th>is_maserati</th>\n",
       "      <th>is_daihatsu</th>\n",
       "      <th>is_porsche</th>\n",
       "      <th>is_ds</th>\n",
       "      <th>is_smart</th>\n",
       "      <th>is_seres</th>\n",
       "      <th>is_cadillac</th>\n",
       "      <th>is_דודג'</th>\n",
       "      <th>...</th>\n",
       "      <th>is_leasing</th>\n",
       "      <th>is_company</th>\n",
       "      <th>is_private</th>\n",
       "      <th>next_test_in</th>\n",
       "      <th>annual_licensing_fee</th>\n",
       "      <th>car_length</th>\n",
       "      <th>large</th>\n",
       "      <th>small</th>\n",
       "      <th>mini</th>\n",
       "      <th>medium</th>\n",
       "    </tr>\n",
       "    <tr>\n",
       "      <th>index</th>\n",
       "      <th></th>\n",
       "      <th></th>\n",
       "      <th></th>\n",
       "      <th></th>\n",
       "      <th></th>\n",
       "      <th></th>\n",
       "      <th></th>\n",
       "      <th></th>\n",
       "      <th></th>\n",
       "      <th></th>\n",
       "      <th></th>\n",
       "      <th></th>\n",
       "      <th></th>\n",
       "      <th></th>\n",
       "      <th></th>\n",
       "      <th></th>\n",
       "      <th></th>\n",
       "      <th></th>\n",
       "      <th></th>\n",
       "      <th></th>\n",
       "      <th></th>\n",
       "    </tr>\n",
       "  </thead>\n",
       "  <tbody>\n",
       "    <tr>\n",
       "      <th>1608</th>\n",
       "      <td>0.952381</td>\n",
       "      <td>0</td>\n",
       "      <td>0</td>\n",
       "      <td>0</td>\n",
       "      <td>0</td>\n",
       "      <td>0</td>\n",
       "      <td>0</td>\n",
       "      <td>0</td>\n",
       "      <td>0</td>\n",
       "      <td>0</td>\n",
       "      <td>...</td>\n",
       "      <td>0</td>\n",
       "      <td>0</td>\n",
       "      <td>1</td>\n",
       "      <td>0.000000</td>\n",
       "      <td>0.645547</td>\n",
       "      <td>0.764326</td>\n",
       "      <td>1</td>\n",
       "      <td>0</td>\n",
       "      <td>0</td>\n",
       "      <td>0</td>\n",
       "    </tr>\n",
       "    <tr>\n",
       "      <th>1329</th>\n",
       "      <td>0.761905</td>\n",
       "      <td>0</td>\n",
       "      <td>0</td>\n",
       "      <td>0</td>\n",
       "      <td>0</td>\n",
       "      <td>0</td>\n",
       "      <td>0</td>\n",
       "      <td>0</td>\n",
       "      <td>0</td>\n",
       "      <td>0</td>\n",
       "      <td>...</td>\n",
       "      <td>0</td>\n",
       "      <td>0</td>\n",
       "      <td>1</td>\n",
       "      <td>0.166667</td>\n",
       "      <td>0.188003</td>\n",
       "      <td>0.600759</td>\n",
       "      <td>0</td>\n",
       "      <td>0</td>\n",
       "      <td>0</td>\n",
       "      <td>1</td>\n",
       "    </tr>\n",
       "    <tr>\n",
       "      <th>1782</th>\n",
       "      <td>0.333333</td>\n",
       "      <td>0</td>\n",
       "      <td>0</td>\n",
       "      <td>0</td>\n",
       "      <td>0</td>\n",
       "      <td>0</td>\n",
       "      <td>0</td>\n",
       "      <td>0</td>\n",
       "      <td>0</td>\n",
       "      <td>0</td>\n",
       "      <td>...</td>\n",
       "      <td>0</td>\n",
       "      <td>0</td>\n",
       "      <td>1</td>\n",
       "      <td>0.166667</td>\n",
       "      <td>0.050377</td>\n",
       "      <td>0.652751</td>\n",
       "      <td>0</td>\n",
       "      <td>0</td>\n",
       "      <td>0</td>\n",
       "      <td>1</td>\n",
       "    </tr>\n",
       "    <tr>\n",
       "      <th>1193</th>\n",
       "      <td>0.523810</td>\n",
       "      <td>0</td>\n",
       "      <td>0</td>\n",
       "      <td>0</td>\n",
       "      <td>0</td>\n",
       "      <td>0</td>\n",
       "      <td>0</td>\n",
       "      <td>0</td>\n",
       "      <td>0</td>\n",
       "      <td>0</td>\n",
       "      <td>...</td>\n",
       "      <td>1</td>\n",
       "      <td>0</td>\n",
       "      <td>0</td>\n",
       "      <td>0.583333</td>\n",
       "      <td>0.027266</td>\n",
       "      <td>0.493359</td>\n",
       "      <td>0</td>\n",
       "      <td>1</td>\n",
       "      <td>0</td>\n",
       "      <td>0</td>\n",
       "    </tr>\n",
       "    <tr>\n",
       "      <th>1166</th>\n",
       "      <td>1.000000</td>\n",
       "      <td>0</td>\n",
       "      <td>0</td>\n",
       "      <td>0</td>\n",
       "      <td>0</td>\n",
       "      <td>0</td>\n",
       "      <td>0</td>\n",
       "      <td>0</td>\n",
       "      <td>0</td>\n",
       "      <td>0</td>\n",
       "      <td>...</td>\n",
       "      <td>0</td>\n",
       "      <td>0</td>\n",
       "      <td>1</td>\n",
       "      <td>0.833333</td>\n",
       "      <td>1.000000</td>\n",
       "      <td>0.489943</td>\n",
       "      <td>0</td>\n",
       "      <td>1</td>\n",
       "      <td>0</td>\n",
       "      <td>0</td>\n",
       "    </tr>\n",
       "    <tr>\n",
       "      <th>...</th>\n",
       "      <td>...</td>\n",
       "      <td>...</td>\n",
       "      <td>...</td>\n",
       "      <td>...</td>\n",
       "      <td>...</td>\n",
       "      <td>...</td>\n",
       "      <td>...</td>\n",
       "      <td>...</td>\n",
       "      <td>...</td>\n",
       "      <td>...</td>\n",
       "      <td>...</td>\n",
       "      <td>...</td>\n",
       "      <td>...</td>\n",
       "      <td>...</td>\n",
       "      <td>...</td>\n",
       "      <td>...</td>\n",
       "      <td>...</td>\n",
       "      <td>...</td>\n",
       "      <td>...</td>\n",
       "      <td>...</td>\n",
       "      <td>...</td>\n",
       "    </tr>\n",
       "    <tr>\n",
       "      <th>1650</th>\n",
       "      <td>0.809524</td>\n",
       "      <td>0</td>\n",
       "      <td>0</td>\n",
       "      <td>0</td>\n",
       "      <td>0</td>\n",
       "      <td>0</td>\n",
       "      <td>0</td>\n",
       "      <td>0</td>\n",
       "      <td>0</td>\n",
       "      <td>0</td>\n",
       "      <td>...</td>\n",
       "      <td>0</td>\n",
       "      <td>0</td>\n",
       "      <td>1</td>\n",
       "      <td>0.333333</td>\n",
       "      <td>0.122825</td>\n",
       "      <td>0.518027</td>\n",
       "      <td>0</td>\n",
       "      <td>1</td>\n",
       "      <td>0</td>\n",
       "      <td>0</td>\n",
       "    </tr>\n",
       "    <tr>\n",
       "      <th>1100</th>\n",
       "      <td>0.428571</td>\n",
       "      <td>0</td>\n",
       "      <td>0</td>\n",
       "      <td>0</td>\n",
       "      <td>0</td>\n",
       "      <td>0</td>\n",
       "      <td>0</td>\n",
       "      <td>0</td>\n",
       "      <td>0</td>\n",
       "      <td>0</td>\n",
       "      <td>...</td>\n",
       "      <td>0</td>\n",
       "      <td>0</td>\n",
       "      <td>1</td>\n",
       "      <td>0.416667</td>\n",
       "      <td>0.142041</td>\n",
       "      <td>0.813283</td>\n",
       "      <td>1</td>\n",
       "      <td>0</td>\n",
       "      <td>0</td>\n",
       "      <td>0</td>\n",
       "    </tr>\n",
       "    <tr>\n",
       "      <th>1135</th>\n",
       "      <td>0.714286</td>\n",
       "      <td>0</td>\n",
       "      <td>0</td>\n",
       "      <td>0</td>\n",
       "      <td>0</td>\n",
       "      <td>0</td>\n",
       "      <td>0</td>\n",
       "      <td>0</td>\n",
       "      <td>0</td>\n",
       "      <td>0</td>\n",
       "      <td>...</td>\n",
       "      <td>0</td>\n",
       "      <td>0</td>\n",
       "      <td>1</td>\n",
       "      <td>0.000000</td>\n",
       "      <td>0.295767</td>\n",
       "      <td>0.675522</td>\n",
       "      <td>0</td>\n",
       "      <td>0</td>\n",
       "      <td>0</td>\n",
       "      <td>1</td>\n",
       "    </tr>\n",
       "    <tr>\n",
       "      <th>1300</th>\n",
       "      <td>0.857143</td>\n",
       "      <td>0</td>\n",
       "      <td>0</td>\n",
       "      <td>0</td>\n",
       "      <td>0</td>\n",
       "      <td>0</td>\n",
       "      <td>0</td>\n",
       "      <td>0</td>\n",
       "      <td>0</td>\n",
       "      <td>0</td>\n",
       "      <td>...</td>\n",
       "      <td>1</td>\n",
       "      <td>0</td>\n",
       "      <td>0</td>\n",
       "      <td>0.500000</td>\n",
       "      <td>0.241755</td>\n",
       "      <td>0.734345</td>\n",
       "      <td>0</td>\n",
       "      <td>0</td>\n",
       "      <td>0</td>\n",
       "      <td>1</td>\n",
       "    </tr>\n",
       "    <tr>\n",
       "      <th>865</th>\n",
       "      <td>0.761905</td>\n",
       "      <td>0</td>\n",
       "      <td>0</td>\n",
       "      <td>0</td>\n",
       "      <td>0</td>\n",
       "      <td>0</td>\n",
       "      <td>0</td>\n",
       "      <td>0</td>\n",
       "      <td>0</td>\n",
       "      <td>0</td>\n",
       "      <td>...</td>\n",
       "      <td>0</td>\n",
       "      <td>0</td>\n",
       "      <td>0</td>\n",
       "      <td>0.916667</td>\n",
       "      <td>0.057647</td>\n",
       "      <td>0.485009</td>\n",
       "      <td>0</td>\n",
       "      <td>1</td>\n",
       "      <td>0</td>\n",
       "      <td>0</td>\n",
       "    </tr>\n",
       "  </tbody>\n",
       "</table>\n",
       "<p>2674 rows × 63 columns</p>\n",
       "</div>"
      ],
      "text/plain": [
       "           year  is_GAC  is_maserati  is_daihatsu  is_porsche  is_ds  \\\n",
       "index                                                                  \n",
       "1608   0.952381       0            0            0           0      0   \n",
       "1329   0.761905       0            0            0           0      0   \n",
       "1782   0.333333       0            0            0           0      0   \n",
       "1193   0.523810       0            0            0           0      0   \n",
       "1166   1.000000       0            0            0           0      0   \n",
       "...         ...     ...          ...          ...         ...    ...   \n",
       "1650   0.809524       0            0            0           0      0   \n",
       "1100   0.428571       0            0            0           0      0   \n",
       "1135   0.714286       0            0            0           0      0   \n",
       "1300   0.857143       0            0            0           0      0   \n",
       "865    0.761905       0            0            0           0      0   \n",
       "\n",
       "       is_smart  is_seres  is_cadillac  is_דודג'  ...  is_leasing  is_company  \\\n",
       "index                                             ...                           \n",
       "1608          0         0            0         0  ...           0           0   \n",
       "1329          0         0            0         0  ...           0           0   \n",
       "1782          0         0            0         0  ...           0           0   \n",
       "1193          0         0            0         0  ...           1           0   \n",
       "1166          0         0            0         0  ...           0           0   \n",
       "...         ...       ...          ...       ...  ...         ...         ...   \n",
       "1650          0         0            0         0  ...           0           0   \n",
       "1100          0         0            0         0  ...           0           0   \n",
       "1135          0         0            0         0  ...           0           0   \n",
       "1300          0         0            0         0  ...           1           0   \n",
       "865           0         0            0         0  ...           0           0   \n",
       "\n",
       "       is_private  next_test_in  annual_licensing_fee  car_length  large  \\\n",
       "index                                                                      \n",
       "1608            1      0.000000              0.645547    0.764326      1   \n",
       "1329            1      0.166667              0.188003    0.600759      0   \n",
       "1782            1      0.166667              0.050377    0.652751      0   \n",
       "1193            0      0.583333              0.027266    0.493359      0   \n",
       "1166            1      0.833333              1.000000    0.489943      0   \n",
       "...           ...           ...                   ...         ...    ...   \n",
       "1650            1      0.333333              0.122825    0.518027      0   \n",
       "1100            1      0.416667              0.142041    0.813283      1   \n",
       "1135            1      0.000000              0.295767    0.675522      0   \n",
       "1300            0      0.500000              0.241755    0.734345      0   \n",
       "865             0      0.916667              0.057647    0.485009      0   \n",
       "\n",
       "       small  mini  medium  \n",
       "index                       \n",
       "1608       0     0       0  \n",
       "1329       0     0       1  \n",
       "1782       0     0       1  \n",
       "1193       1     0       0  \n",
       "1166       1     0       0  \n",
       "...      ...   ...     ...  \n",
       "1650       1     0       0  \n",
       "1100       0     0       0  \n",
       "1135       0     0       1  \n",
       "1300       0     0       1  \n",
       "865        1     0       0  \n",
       "\n",
       "[2674 rows x 63 columns]"
      ]
     },
     "execution_count": 376,
     "metadata": {},
     "output_type": "execute_result"
    }
   ],
   "source": [
    "x_train = pd.read_csv(r'C:\\Users\\avoav\\Introduction to Data Science\\Project סמסטר א\\project-semester-a\\ScaledTrainSet_data.csv' , index_col  = 'index')\n",
    "x_train"
   ]
  },
  {
   "cell_type": "markdown",
   "id": "df40e307",
   "metadata": {},
   "source": [
    "# Cross-validation :"
   ]
  },
  {
   "cell_type": "markdown",
   "id": "dbc5b28b",
   "metadata": {},
   "source": [
    "first we return the demi-model (the average) and try to be better than him.... "
   ]
  },
  {
   "cell_type": "code",
   "execution_count": 378,
   "id": "8bd70e2a",
   "metadata": {},
   "outputs": [
    {
     "name": "stdout",
     "output_type": "stream",
     "text": [
      "RMSE: 77634.8801434407\n"
     ]
    }
   ],
   "source": [
    " # בדיקת מודל אפס: \n",
    "\n",
    "def targetTransform(len_target):\n",
    "    target_ = np.zeros(len_target)\n",
    "    for i in range (len_target):\n",
    "        target_[i] +=  x_target.mean()\n",
    "    return target_\n",
    "\n",
    "x_train1 , x_test1 , y_train1 , y_test1= sklearn.model_selection.train_test_split(x_train, x_target , test_size=0.1 , random_state = 2) \n",
    "\n",
    "pred = targetTransform(len(y_test1))\n",
    "#print (f\"\\n{pred}\")\n",
    "print (f\"RMSE: {np.sqrt(mean_squared_error(y_test1 , pred))}\")\n",
    "\n",
    "#במידה והמודל היה מחזיר תמיד את ממוצע מחיר הרכבים בטבלה זו הייתה מידת הדיוק שלו\n",
    "# מדוייק יותר- כרגע הגענו למרחק הממוצע מחיזוי נכון בשקלים.\n"
   ]
  },
  {
   "cell_type": "code",
   "execution_count": 380,
   "id": "cc64f4cf",
   "metadata": {},
   "outputs": [
    {
     "name": "stdout",
     "output_type": "stream",
     "text": [
      "price    0.015707\n",
      "dtype: float64\n"
     ]
    }
   ],
   "source": [
    "#Dummy-model method:\n",
    "    #Checking the prices mean, and then its percent.\n",
    "    #Count the prices that between (price+percent) and (price-percent), duo the price is a spesific number (10+ digits)\n",
    "    #Divide those counted prices by the amount of prices.\n",
    "\n",
    "x_target.mean() # 0.19357003724451638\n",
    "x_target.mean()/100 # 0.0019357003724451637\n",
    "\n",
    "maxLim = x_target.mean() + x_target.mean()/100\n",
    "minLim = x_target.mean() - x_target.mean()/100\n",
    "counter = x_target.where(x_target > minLim).where(x_target < maxLim).dropna().count()\n",
    "print (counter / x_target.count())\n"
   ]
  },
  {
   "cell_type": "code",
   "execution_count": 381,
   "id": "4c04a8c4",
   "metadata": {},
   "outputs": [
    {
     "data": {
      "text/plain": [
       "price    104849.31825\n",
       "dtype: float64"
      ]
     },
     "execution_count": 381,
     "metadata": {},
     "output_type": "execute_result"
    }
   ],
   "source": [
    "x_target = pd.read_csv(r'C:\\Users\\avoav\\Introduction to Data Science\\Project סמסטר א\\project-semester-a\\TrainSet-target_data.csv' , index_col='index' )\n",
    "x_target.mean() \n"
   ]
  },
  {
   "cell_type": "code",
   "execution_count": 382,
   "id": "23b23409",
   "metadata": {},
   "outputs": [
    {
     "data": {
      "text/html": [
       "<div>\n",
       "<style scoped>\n",
       "    .dataframe tbody tr th:only-of-type {\n",
       "        vertical-align: middle;\n",
       "    }\n",
       "\n",
       "    .dataframe tbody tr th {\n",
       "        vertical-align: top;\n",
       "    }\n",
       "\n",
       "    .dataframe thead th {\n",
       "        text-align: right;\n",
       "    }\n",
       "</style>\n",
       "<table border=\"1\" class=\"dataframe\">\n",
       "  <thead>\n",
       "    <tr style=\"text-align: right;\">\n",
       "      <th></th>\n",
       "      <th>price</th>\n",
       "    </tr>\n",
       "    <tr>\n",
       "      <th>index</th>\n",
       "      <th></th>\n",
       "    </tr>\n",
       "  </thead>\n",
       "  <tbody>\n",
       "    <tr>\n",
       "      <th>1608</th>\n",
       "      <td>239000</td>\n",
       "    </tr>\n",
       "    <tr>\n",
       "      <th>1329</th>\n",
       "      <td>69900</td>\n",
       "    </tr>\n",
       "    <tr>\n",
       "      <th>1782</th>\n",
       "      <td>100000</td>\n",
       "    </tr>\n",
       "    <tr>\n",
       "      <th>1193</th>\n",
       "      <td>33000</td>\n",
       "    </tr>\n",
       "    <tr>\n",
       "      <th>1166</th>\n",
       "      <td>437320</td>\n",
       "    </tr>\n",
       "    <tr>\n",
       "      <th>...</th>\n",
       "      <td>...</td>\n",
       "    </tr>\n",
       "    <tr>\n",
       "      <th>1650</th>\n",
       "      <td>75000</td>\n",
       "    </tr>\n",
       "    <tr>\n",
       "      <th>1100</th>\n",
       "      <td>29000</td>\n",
       "    </tr>\n",
       "    <tr>\n",
       "      <th>1135</th>\n",
       "      <td>110000</td>\n",
       "    </tr>\n",
       "    <tr>\n",
       "      <th>1300</th>\n",
       "      <td>110000</td>\n",
       "    </tr>\n",
       "    <tr>\n",
       "      <th>865</th>\n",
       "      <td>41000</td>\n",
       "    </tr>\n",
       "  </tbody>\n",
       "</table>\n",
       "<p>2674 rows × 1 columns</p>\n",
       "</div>"
      ],
      "text/plain": [
       "        price\n",
       "index        \n",
       "1608   239000\n",
       "1329    69900\n",
       "1782   100000\n",
       "1193    33000\n",
       "1166   437320\n",
       "...       ...\n",
       "1650    75000\n",
       "1100    29000\n",
       "1135   110000\n",
       "1300   110000\n",
       "865     41000\n",
       "\n",
       "[2674 rows x 1 columns]"
      ]
     },
     "execution_count": 382,
     "metadata": {},
     "output_type": "execute_result"
    }
   ],
   "source": [
    "x_target"
   ]
  },
  {
   "cell_type": "code",
   "execution_count": 482,
   "id": "4d1f917f",
   "metadata": {},
   "outputs": [
    {
     "name": "stdout",
     "output_type": "stream",
     "text": [
      "RMSA: 82.19160614849096\n",
      "\n"
     ]
    },
    {
     "ename": "ValueError",
     "evalue": "Expected 2D array, got 1D array instead:\narray=[438 430 419 801 499 107 555 434 315 209 315 462 688 658 462 479 219 488\n 733 252 180 719 419 278 419 326 348 322 548 715 676 387 586 534 482 460\n 473 363 708  49 159 376 397 278 485 502  64 397  79 559 323  82 725 499\n 355 659   1 479 802 210 215 351  44 415 460 152 219 383 147 273 106 538\n 376 417  86 132 368  38 270 747 172 372 499 253 399 261  91 249 234  43\n 254 210 197  81 364 300 625 546 191 319 428 568 363 583 615 596  67 400\n 118  35 462 231 571 143 824 521  29 518 387 573 365 720  73 204 165 611\n 778 705 157 725 800 243  41 486 687 274 125 790 337 677 625 495 462 658\n 436 428  23 520 523 589 440 490 115 151 369 512 497  29 565  19 673 622\n 822 705 462 597 116 731 595 593 169 265 215 383 276 527 237 770 183 370\n 288 680 482 180 495 227  32 571 538 485  68 397 431 338   4 487 242 374\n 177 200 666 518 559 489 267 625 729 365 661 694 254 673 165 692 476 344\n  46 302 383 476 499 374 603 535 535 315 118 549 540 417 563 590 388 341\n 180 130 306 543 458 716 352  65 478 150  54 497 751 452 499 399 256  61\n 497 519 369 489 499 252 472 513 616  25 618 234 436 326 565  49].\nReshape your data either using array.reshape(-1, 1) if your data has a single feature or array.reshape(1, -1) if it contains a single sample.",
     "output_type": "error",
     "traceback": [
      "\u001b[1;31m---------------------------------------------------------------------------\u001b[0m",
      "\u001b[1;31mValueError\u001b[0m                                Traceback (most recent call last)",
      "\u001b[1;32m<ipython-input-482-235d92425eba>\u001b[0m in \u001b[0;36m<module>\u001b[1;34m\u001b[0m\n\u001b[0;32m     10\u001b[0m \u001b[0mprint\u001b[0m \u001b[1;33m(\u001b[0m\u001b[1;34mf\"RMSA: {np.sqrt(mean_squared_error(y_test1 , pred))}\\n\"\u001b[0m\u001b[1;33m)\u001b[0m\u001b[1;33m\u001b[0m\u001b[1;33m\u001b[0m\u001b[0m\n\u001b[0;32m     11\u001b[0m \u001b[1;33m\u001b[0m\u001b[0m\n\u001b[1;32m---> 12\u001b[1;33m \u001b[0mprint\u001b[0m\u001b[1;33m(\u001b[0m\u001b[0mlin_reg\u001b[0m\u001b[1;33m.\u001b[0m\u001b[0mscore\u001b[0m\u001b[1;33m(\u001b[0m \u001b[0mnp\u001b[0m\u001b[1;33m.\u001b[0m\u001b[0mravel\u001b[0m\u001b[1;33m(\u001b[0m\u001b[0my_test1\u001b[0m\u001b[1;33m,\u001b[0m \u001b[0morder\u001b[0m \u001b[1;33m=\u001b[0m \u001b[1;34m'C'\u001b[0m\u001b[1;33m)\u001b[0m\u001b[1;33m,\u001b[0m \u001b[0mpred\u001b[0m\u001b[1;33m)\u001b[0m\u001b[1;33m)\u001b[0m\u001b[1;33m\u001b[0m\u001b[1;33m\u001b[0m\u001b[0m\n\u001b[0m",
      "\u001b[1;32m~\\anaconda3\\lib\\site-packages\\sklearn\\base.py\u001b[0m in \u001b[0;36mscore\u001b[1;34m(self, X, y, sample_weight)\u001b[0m\n\u001b[0;32m    551\u001b[0m \u001b[1;33m\u001b[0m\u001b[0m\n\u001b[0;32m    552\u001b[0m         \u001b[1;32mfrom\u001b[0m \u001b[1;33m.\u001b[0m\u001b[0mmetrics\u001b[0m \u001b[1;32mimport\u001b[0m \u001b[0mr2_score\u001b[0m\u001b[1;33m\u001b[0m\u001b[1;33m\u001b[0m\u001b[0m\n\u001b[1;32m--> 553\u001b[1;33m         \u001b[0my_pred\u001b[0m \u001b[1;33m=\u001b[0m \u001b[0mself\u001b[0m\u001b[1;33m.\u001b[0m\u001b[0mpredict\u001b[0m\u001b[1;33m(\u001b[0m\u001b[0mX\u001b[0m\u001b[1;33m)\u001b[0m\u001b[1;33m\u001b[0m\u001b[1;33m\u001b[0m\u001b[0m\n\u001b[0m\u001b[0;32m    554\u001b[0m         \u001b[1;32mreturn\u001b[0m \u001b[0mr2_score\u001b[0m\u001b[1;33m(\u001b[0m\u001b[0my\u001b[0m\u001b[1;33m,\u001b[0m \u001b[0my_pred\u001b[0m\u001b[1;33m,\u001b[0m \u001b[0msample_weight\u001b[0m\u001b[1;33m=\u001b[0m\u001b[0msample_weight\u001b[0m\u001b[1;33m)\u001b[0m\u001b[1;33m\u001b[0m\u001b[1;33m\u001b[0m\u001b[0m\n\u001b[0;32m    555\u001b[0m \u001b[1;33m\u001b[0m\u001b[0m\n",
      "\u001b[1;32m~\\anaconda3\\lib\\site-packages\\sklearn\\linear_model\\_base.py\u001b[0m in \u001b[0;36mpredict\u001b[1;34m(self, X)\u001b[0m\n\u001b[0;32m    236\u001b[0m             \u001b[0mReturns\u001b[0m \u001b[0mpredicted\u001b[0m \u001b[0mvalues\u001b[0m\u001b[1;33m.\u001b[0m\u001b[1;33m\u001b[0m\u001b[1;33m\u001b[0m\u001b[0m\n\u001b[0;32m    237\u001b[0m         \"\"\"\n\u001b[1;32m--> 238\u001b[1;33m         \u001b[1;32mreturn\u001b[0m \u001b[0mself\u001b[0m\u001b[1;33m.\u001b[0m\u001b[0m_decision_function\u001b[0m\u001b[1;33m(\u001b[0m\u001b[0mX\u001b[0m\u001b[1;33m)\u001b[0m\u001b[1;33m\u001b[0m\u001b[1;33m\u001b[0m\u001b[0m\n\u001b[0m\u001b[0;32m    239\u001b[0m \u001b[1;33m\u001b[0m\u001b[0m\n\u001b[0;32m    240\u001b[0m     \u001b[0m_preprocess_data\u001b[0m \u001b[1;33m=\u001b[0m \u001b[0mstaticmethod\u001b[0m\u001b[1;33m(\u001b[0m\u001b[0m_preprocess_data\u001b[0m\u001b[1;33m)\u001b[0m\u001b[1;33m\u001b[0m\u001b[1;33m\u001b[0m\u001b[0m\n",
      "\u001b[1;32m~\\anaconda3\\lib\\site-packages\\sklearn\\linear_model\\_base.py\u001b[0m in \u001b[0;36m_decision_function\u001b[1;34m(self, X)\u001b[0m\n\u001b[0;32m    218\u001b[0m         \u001b[0mcheck_is_fitted\u001b[0m\u001b[1;33m(\u001b[0m\u001b[0mself\u001b[0m\u001b[1;33m)\u001b[0m\u001b[1;33m\u001b[0m\u001b[1;33m\u001b[0m\u001b[0m\n\u001b[0;32m    219\u001b[0m \u001b[1;33m\u001b[0m\u001b[0m\n\u001b[1;32m--> 220\u001b[1;33m         \u001b[0mX\u001b[0m \u001b[1;33m=\u001b[0m \u001b[0mcheck_array\u001b[0m\u001b[1;33m(\u001b[0m\u001b[0mX\u001b[0m\u001b[1;33m,\u001b[0m \u001b[0maccept_sparse\u001b[0m\u001b[1;33m=\u001b[0m\u001b[1;33m[\u001b[0m\u001b[1;34m'csr'\u001b[0m\u001b[1;33m,\u001b[0m \u001b[1;34m'csc'\u001b[0m\u001b[1;33m,\u001b[0m \u001b[1;34m'coo'\u001b[0m\u001b[1;33m]\u001b[0m\u001b[1;33m)\u001b[0m\u001b[1;33m\u001b[0m\u001b[1;33m\u001b[0m\u001b[0m\n\u001b[0m\u001b[0;32m    221\u001b[0m         return safe_sparse_dot(X, self.coef_.T,\n\u001b[0;32m    222\u001b[0m                                dense_output=True) + self.intercept_\n",
      "\u001b[1;32m~\\anaconda3\\lib\\site-packages\\sklearn\\utils\\validation.py\u001b[0m in \u001b[0;36minner_f\u001b[1;34m(*args, **kwargs)\u001b[0m\n\u001b[0;32m     61\u001b[0m             \u001b[0mextra_args\u001b[0m \u001b[1;33m=\u001b[0m \u001b[0mlen\u001b[0m\u001b[1;33m(\u001b[0m\u001b[0margs\u001b[0m\u001b[1;33m)\u001b[0m \u001b[1;33m-\u001b[0m \u001b[0mlen\u001b[0m\u001b[1;33m(\u001b[0m\u001b[0mall_args\u001b[0m\u001b[1;33m)\u001b[0m\u001b[1;33m\u001b[0m\u001b[1;33m\u001b[0m\u001b[0m\n\u001b[0;32m     62\u001b[0m             \u001b[1;32mif\u001b[0m \u001b[0mextra_args\u001b[0m \u001b[1;33m<=\u001b[0m \u001b[1;36m0\u001b[0m\u001b[1;33m:\u001b[0m\u001b[1;33m\u001b[0m\u001b[1;33m\u001b[0m\u001b[0m\n\u001b[1;32m---> 63\u001b[1;33m                 \u001b[1;32mreturn\u001b[0m \u001b[0mf\u001b[0m\u001b[1;33m(\u001b[0m\u001b[1;33m*\u001b[0m\u001b[0margs\u001b[0m\u001b[1;33m,\u001b[0m \u001b[1;33m**\u001b[0m\u001b[0mkwargs\u001b[0m\u001b[1;33m)\u001b[0m\u001b[1;33m\u001b[0m\u001b[1;33m\u001b[0m\u001b[0m\n\u001b[0m\u001b[0;32m     64\u001b[0m \u001b[1;33m\u001b[0m\u001b[0m\n\u001b[0;32m     65\u001b[0m             \u001b[1;31m# extra_args > 0\u001b[0m\u001b[1;33m\u001b[0m\u001b[1;33m\u001b[0m\u001b[1;33m\u001b[0m\u001b[0m\n",
      "\u001b[1;32m~\\anaconda3\\lib\\site-packages\\sklearn\\utils\\validation.py\u001b[0m in \u001b[0;36mcheck_array\u001b[1;34m(array, accept_sparse, accept_large_sparse, dtype, order, copy, force_all_finite, ensure_2d, allow_nd, ensure_min_samples, ensure_min_features, estimator)\u001b[0m\n\u001b[0;32m    635\u001b[0m             \u001b[1;31m# If input is 1D raise error\u001b[0m\u001b[1;33m\u001b[0m\u001b[1;33m\u001b[0m\u001b[1;33m\u001b[0m\u001b[0m\n\u001b[0;32m    636\u001b[0m             \u001b[1;32mif\u001b[0m \u001b[0marray\u001b[0m\u001b[1;33m.\u001b[0m\u001b[0mndim\u001b[0m \u001b[1;33m==\u001b[0m \u001b[1;36m1\u001b[0m\u001b[1;33m:\u001b[0m\u001b[1;33m\u001b[0m\u001b[1;33m\u001b[0m\u001b[0m\n\u001b[1;32m--> 637\u001b[1;33m                 raise ValueError(\n\u001b[0m\u001b[0;32m    638\u001b[0m                     \u001b[1;34m\"Expected 2D array, got 1D array instead:\\narray={}.\\n\"\u001b[0m\u001b[1;33m\u001b[0m\u001b[1;33m\u001b[0m\u001b[0m\n\u001b[0;32m    639\u001b[0m                     \u001b[1;34m\"Reshape your data either using array.reshape(-1, 1) if \"\u001b[0m\u001b[1;33m\u001b[0m\u001b[1;33m\u001b[0m\u001b[0m\n",
      "\u001b[1;31mValueError\u001b[0m: Expected 2D array, got 1D array instead:\narray=[438 430 419 801 499 107 555 434 315 209 315 462 688 658 462 479 219 488\n 733 252 180 719 419 278 419 326 348 322 548 715 676 387 586 534 482 460\n 473 363 708  49 159 376 397 278 485 502  64 397  79 559 323  82 725 499\n 355 659   1 479 802 210 215 351  44 415 460 152 219 383 147 273 106 538\n 376 417  86 132 368  38 270 747 172 372 499 253 399 261  91 249 234  43\n 254 210 197  81 364 300 625 546 191 319 428 568 363 583 615 596  67 400\n 118  35 462 231 571 143 824 521  29 518 387 573 365 720  73 204 165 611\n 778 705 157 725 800 243  41 486 687 274 125 790 337 677 625 495 462 658\n 436 428  23 520 523 589 440 490 115 151 369 512 497  29 565  19 673 622\n 822 705 462 597 116 731 595 593 169 265 215 383 276 527 237 770 183 370\n 288 680 482 180 495 227  32 571 538 485  68 397 431 338   4 487 242 374\n 177 200 666 518 559 489 267 625 729 365 661 694 254 673 165 692 476 344\n  46 302 383 476 499 374 603 535 535 315 118 549 540 417 563 590 388 341\n 180 130 306 543 458 716 352  65 478 150  54 497 751 452 499 399 256  61\n 497 519 369 489 499 252 472 513 616  25 618 234 436 326 565  49].\nReshape your data either using array.reshape(-1, 1) if your data has a single feature or array.reshape(1, -1) if it contains a single sample."
     ]
    }
   ],
   "source": [
    "#את הדאטה שהקדשנו לטריין אנחנו מפצלים שוב ע\"מ לבחון את מודל הרגרסיה הלינארית עם רנדום אחר\n",
    "\n",
    "x_train1 , x_test1 , y_train1 , y_test1= sklearn.model_selection.train_test_split(x_train, x_target , test_size=0.1 , random_state = 2) \n",
    "\n",
    "lin_reg =  LinearRegression()\n",
    "fit1= lin_reg.fit(x_train1, y_train1)\n",
    "\n",
    "pred = fit1.predict(x_test1)\n",
    "#print (f\"\\n{pred}\")\n",
    "print (f\"RMSA: {np.sqrt(mean_squared_error(y_test1 , pred))}\\n\")\n",
    "\n",
    "print(lin_reg.score( np.ravel(y_test1, order = 'C'), pred))"
   ]
  },
  {
   "cell_type": "code",
   "execution_count": 232,
   "id": "1055dab7",
   "metadata": {},
   "outputs": [],
   "source": [
    "\n",
    "#מנסים להבין למה לא הצךלחנו לחזות טוב עם המודל שלנו... עוברים על המכוניות ידנית ורואים באילו מכוניות הטעויות הגדולות קרו\n",
    "#ננסה לבנות עמודה שהקורלציה שלה עם המחיר תהיה גבוהה\n",
    "#ננסה לשנות את ה\"טראש הולד\" של קביעת גודל המכונית ולהכניס מכוניות לקטגוריה \"גדול\" רק מסף גבוהה יותר"
   ]
  },
  {
   "cell_type": "code",
   "execution_count": 479,
   "id": "609bb63a",
   "metadata": {},
   "outputs": [
    {
     "name": "stdout",
     "output_type": "stream",
     "text": [
      "score: -2.049214922384065\n"
     ]
    }
   ],
   "source": [
    "print (\"score:\" , lin_reg.score(x_test1 , y_test1))"
   ]
  },
  {
   "cell_type": "code",
   "execution_count": 475,
   "id": "1d02d966",
   "metadata": {},
   "outputs": [
    {
     "data": {
      "text/html": [
       "<div>\n",
       "<style scoped>\n",
       "    .dataframe tbody tr th:only-of-type {\n",
       "        vertical-align: middle;\n",
       "    }\n",
       "\n",
       "    .dataframe tbody tr th {\n",
       "        vertical-align: top;\n",
       "    }\n",
       "\n",
       "    .dataframe thead th {\n",
       "        text-align: right;\n",
       "    }\n",
       "</style>\n",
       "<table border=\"1\" class=\"dataframe\">\n",
       "  <thead>\n",
       "    <tr style=\"text-align: right;\">\n",
       "      <th></th>\n",
       "      <th>param_C</th>\n",
       "      <th>param_kernel</th>\n",
       "      <th>mean_test_score</th>\n",
       "    </tr>\n",
       "  </thead>\n",
       "  <tbody>\n",
       "    <tr>\n",
       "      <th>0</th>\n",
       "      <td>1</td>\n",
       "      <td>linear</td>\n",
       "      <td>-3.154516e+09</td>\n",
       "    </tr>\n",
       "    <tr>\n",
       "      <th>1</th>\n",
       "      <td>1</td>\n",
       "      <td>rbf</td>\n",
       "      <td>-6.357948e+09</td>\n",
       "    </tr>\n",
       "    <tr>\n",
       "      <th>2</th>\n",
       "      <td>3</td>\n",
       "      <td>linear</td>\n",
       "      <td>-3.053501e+09</td>\n",
       "    </tr>\n",
       "    <tr>\n",
       "      <th>3</th>\n",
       "      <td>3</td>\n",
       "      <td>rbf</td>\n",
       "      <td>-6.031002e+09</td>\n",
       "    </tr>\n",
       "    <tr>\n",
       "      <th>4</th>\n",
       "      <td>5</td>\n",
       "      <td>linear</td>\n",
       "      <td>-2.896841e+09</td>\n",
       "    </tr>\n",
       "    <tr>\n",
       "      <th>5</th>\n",
       "      <td>5</td>\n",
       "      <td>rbf</td>\n",
       "      <td>-5.918689e+09</td>\n",
       "    </tr>\n",
       "  </tbody>\n",
       "</table>\n",
       "</div>"
      ],
      "text/plain": [
       "  param_C param_kernel  mean_test_score\n",
       "0       1       linear    -3.154516e+09\n",
       "1       1          rbf    -6.357948e+09\n",
       "2       3       linear    -3.053501e+09\n",
       "3       3          rbf    -6.031002e+09\n",
       "4       5       linear    -2.896841e+09\n",
       "5       5          rbf    -5.918689e+09"
      ]
     },
     "execution_count": 475,
     "metadata": {},
     "output_type": "execute_result"
    }
   ],
   "source": [
    "param_grid_LR = [  {'C' : [1 ,3 ,5 ] ,  'kernel': ['linear' , 'rbf']} ]\n",
    "\n",
    "grid_search = GridSearchCV(svm.SVC(gamma = 'auto') , param_grid_LR , cv = 3,\n",
    "                                   scoring = 'neg_mean_squared_error' , return_train_score = False)\n",
    "grid_search.fit(x_train1, np.ravel(y_train1, order = 'C'))\n",
    "df = pd.DataFrame(grid_search.cv_results_)\n",
    "df[['param_C' , 'param_kernel' , 'mean_test_score']]\n",
    "\n"
   ]
  },
  {
   "cell_type": "code",
   "execution_count": 476,
   "id": "3bda4d4b",
   "metadata": {},
   "outputs": [
    {
     "name": "stdout",
     "output_type": "stream",
     "text": [
      "best score : -2896840794.8349957\n",
      "best params: {'C': 5, 'kernel': 'linear'}\n"
     ]
    }
   ],
   "source": [
    "print (\"best score :\" , grid_search.best_score_)\n",
    "print (\"best params:\" , grid_search.best_params_)\n"
   ]
  },
  {
   "cell_type": "code",
   "execution_count": 470,
   "id": "ea4112d9",
   "metadata": {},
   "outputs": [
    {
     "name": "stderr",
     "output_type": "stream",
     "text": [
      "C:\\Users\\avoav\\anaconda3\\lib\\site-packages\\sklearn\\utils\\validation.py:63: DataConversionWarning: A column-vector y was passed when a 1d array was expected. Please change the shape of y to (n_samples, ), for example using ravel().\n",
      "  return f(*args, **kwargs)\n"
     ]
    },
    {
     "name": "stdout",
     "output_type": "stream",
     "text": [
      "multiclass\n"
     ]
    },
    {
     "name": "stderr",
     "output_type": "stream",
     "text": [
      "C:\\Users\\avoav\\anaconda3\\lib\\site-packages\\sklearn\\model_selection\\_split.py:666: UserWarning: The least populated class in y has only 1 members, which is less than n_splits=3.\n",
      "  warnings.warn((\"The least populated class in y has only %d\"\n"
     ]
    },
    {
     "data": {
      "text/plain": [
       "array([0.03475336, 0.02693603, 0.03030303])"
      ]
     },
     "execution_count": 470,
     "metadata": {},
     "output_type": "execute_result"
    }
   ],
   "source": [
    "# השתמשתי ע\"מ לסדר את עמודת המחירים של הטריין בפונקציה הזו \n",
    "lab_enc = preprocessing.LabelEncoder()\n",
    "x_target = lab_enc.fit_transform(np.ravel(x_target, order = 'C'))\n",
    "print(utils.multiclass.type_of_target(x_target))\n",
    "\n",
    "clf = svm.SVC(kernel='linear', C=1, random_state=2).fit(x_train ,np.ravel(x_target, order = 'C') )\n",
    "scores = cross_val_score(clf, x_train , x_target, cv=3)\n",
    "scores\n"
   ]
  },
  {
   "cell_type": "code",
   "execution_count": 477,
   "id": "bdbc8a10",
   "metadata": {},
   "outputs": [
    {
     "name": "stderr",
     "output_type": "stream",
     "text": [
      "C:\\Users\\avoav\\anaconda3\\lib\\site-packages\\sklearn\\model_selection\\_split.py:666: UserWarning: The least populated class in y has only 1 members, which is less than n_splits=3.\n",
      "  warnings.warn((\"The least populated class in y has only %d\"\n"
     ]
    },
    {
     "data": {
      "text/plain": [
       "array([0.02690583, 0.03030303, 0.03030303])"
      ]
     },
     "execution_count": 477,
     "metadata": {},
     "output_type": "execute_result"
    }
   ],
   "source": [
    "clf = svm.SVC(kernel='linear', C=5, random_state=2).fit(x_train ,np.ravel(x_target, order = 'C') )\n",
    "scores = cross_val_score(clf, x_train , x_target, cv=3)\n",
    "scores"
   ]
  },
  {
   "cell_type": "code",
   "execution_count": 478,
   "id": "2faaa7d2",
   "metadata": {},
   "outputs": [
    {
     "name": "stdout",
     "output_type": "stream",
     "text": [
      "scores: [-6.61573891e+03 -4.87896996e+03 -4.88752783e+03 -5.51820028e+03\n",
      " -5.27024251e+03 -5.51429670e+03 -4.60527685e+03 -7.56388600e+03\n",
      " -3.21313698e+27 -5.52475954e+26]\n",
      "Mean: -3.765612929155548e+26\n",
      "Standard deviation: 9.59765327051744e+26\n",
      "score: -2.049214922384065\n"
     ]
    }
   ],
   "source": [
    "# x_target[[\"price\"]] = MinMaxScaler().fit_transform(x_target[[\"price\"]]) \n",
    "# x_target = x_target[\"price\"]\n",
    "def display_scores(scores):\n",
    "    print (\"scores:\",  scores)\n",
    "    print(\"Mean:\" , scores.mean() )\n",
    "    print (\"Standard deviation:\" , scores.std()) \n",
    "    \n",
    "    \n",
    "lin_reg =  LinearRegression()\n",
    "lin_reg = lin_reg.fit(x_train, x_target)\n",
    "\n",
    "#חלק מהתוצאות טובות מאוד! 9 , כלומר אחוזי דיוק גבוהים ולכן צריכים לברר איך אנו משיגים את המספר המדוייק שיגרום לתוצאה כזו גם בריצה של הטסט.\n",
    "\n",
    "scores = cross_val_score(lin_reg, x_train ,x_target ,  scoring = \"neg_mean_squared_error\", cv=10)\n",
    "#linReg_rmse_scores = np.sqrt(-scores)\n",
    "\n",
    "#display_scores(linReg_rmse_scores)\n",
    "display_scores(scores)\n",
    "print (\"score:\" , lin_reg.score(x_test1 , y_test1))"
   ]
  },
  {
   "cell_type": "code",
   "execution_count": 327,
   "id": "ba941752",
   "metadata": {
    "scrolled": true
   },
   "outputs": [
    {
     "name": "stdout",
     "output_type": "stream",
     "text": [
      "RMSA: 74.60243508690264\n",
      "\n",
      "score: 0.8700715316902132\n"
     ]
    }
   ],
   "source": [
    "x_train1 , x_test1 , y_train1 , y_test1= sklearn.model_selection.train_test_split(x_train, x_target , test_size=0.1 , random_state = 2) \n",
    "\n",
    "\n",
    "tree_reg =  DecisionTreeRegressor()\n",
    "fit1 = tree_reg.fit(x_train1 , y_train1)\n",
    "pred = fit1.predict(x_test1)\n",
    "#print (f\"\\n{pred}\")\n",
    "print (f\"RMSA: {np.sqrt(mean_squared_error(y_test1 , pred))}\\n\")\n",
    "print (\"score:\" , tree_reg.score(x_test1 , y_test1))"
   ]
  },
  {
   "cell_type": "code",
   "execution_count": 369,
   "id": "77531118",
   "metadata": {},
   "outputs": [
    {
     "name": "stdout",
     "output_type": "stream",
     "text": [
      "best score : -5579.592049967673\n",
      "best params: {'max_features': 40, 'min_samples_split': 5, 'splitter': 'random'}\n"
     ]
    }
   ],
   "source": [
    "param_grid_DT = [{'splitter' : ['best' , \"random\"] , 'max_features':[10, 15 ,20 , 40] , 'min_samples_split': [2 , 3 , 5, 15], }\n",
    "                ]\n",
    "grid_search = GridSearchCV(tree_reg , param_grid_DT , cv = 3,\n",
    "                                   scoring = 'neg_mean_squared_error' , return_train_score = False)\n",
    "grid_search.fit(x_train1, y_train1)\n",
    "df = pd.DataFrame(grid_search.cv_results_)\n",
    "\n",
    "df[['param_max_features' , 'param_min_samples_split' , 'param_splitter' , 'params' , 'mean_test_score']]\n",
    "\n",
    "print (\"best score :\" , grid_search.best_score_)\n",
    "print (\"best params:\" , grid_search.best_params_)\n"
   ]
  },
  {
   "cell_type": "code",
   "execution_count": 290,
   "id": "1dd2f24b",
   "metadata": {},
   "outputs": [
    {
     "data": {
      "text/plain": [
       "array([ 99000., 108500.,  90000., 445000.,  76000.,  38900., 117000.,\n",
       "       113900.,  95000.,  52000.,  93000.,  97000., 168000., 420000.,\n",
       "        99000., 112900.,  39000., 116770., 264355.,  60000.,  53358.,\n",
       "       245000., 100900.,  53000.,  95000.,  69900., 115000.,  89900.,\n",
       "       121000., 227000., 285000., 106102., 180000., 108000., 101000.,\n",
       "       112900.,  92000.,  89000., 420000.,  18000.,  54000.,  87900.,\n",
       "        76900.,  46000., 116500., 125000.,  55000., 106102.,  36000.,\n",
       "       168000.,  74000.,  40255., 254900., 113000., 134000., 175900.,\n",
       "        15900., 112900., 430000.,  50000.,  58000.,  79900.,  23900.,\n",
       "       115000., 109900.,  35000.,  53900.,  91500.,  41000.,  67000.,\n",
       "        37460., 109999.,  89000.,  91500.,  32000.,  43450.,  88000.,\n",
       "        19000.,  68412., 479000.,  49900.,  64000.,  20900.,  75500.,\n",
       "        82000.,  75900.,  59900.,  59000.,  49900.,  32000.,  73000.,\n",
       "        51900.,  58000.,  15900.,  79900.,  67000., 168000., 112900.,\n",
       "        45000.,  89900.,  94900., 162000.,  69000., 134000., 191124.,\n",
       "       106500.,  39000.,  92900.,  52900.,  27000., 108000.,  76900.,\n",
       "       128000.,  44900., 500000., 112000.,  32000., 119900.,  82900.,\n",
       "       112900.,  88000., 255000.,  36250.,  35900.,  59900., 162000.,\n",
       "       379000., 155000.,  52844., 266355., 155000.,  64000.,  20000.,\n",
       "       111019., 275000.,  57500.,  44000., 187900., 119000., 180000.,\n",
       "       129367., 125000., 122900., 128900.,  97900., 119900.,  34000.,\n",
       "       100000., 112000., 195000., 105271., 118000.,  37872.,  50900.,\n",
       "       103000., 115000., 109900.,  43900., 112900.,  35000., 222000.,\n",
       "       125000., 435000., 229500., 121900., 115000.,  37000., 225000.,\n",
       "       158000., 164000.,  42900.,  72000.,  50000.,  76900.,  59900.,\n",
       "       128000.,  65000., 319000.,  55000.,  89500.,  60000., 228000.,\n",
       "       116900.,  35800., 134000.,  63900.,  25400., 104900., 115000.,\n",
       "       110990.,  22000.,  90900., 110000.,  79000.,  51000.,  79500.,\n",
       "        29000.,  72900.,  50180.,  76500., 165000., 125000., 107000.,\n",
       "       131000.,  72000., 162000., 275000.,  88000., 131000., 199900.,\n",
       "        49000., 187000.,  50000., 196000., 113710.,  90000.,  18900.,\n",
       "        92000.,  84500., 117000., 134000.,  87900., 168500., 137000.,\n",
       "       132000.,  83900.,  47000., 158000., 139000.,  99000., 127000.,\n",
       "       150950., 102760.,  76500.,  44900., 310000.,  66900., 117900.,\n",
       "        92000., 275000.,  84000.,  12999., 112000.,  46500.,  38000.,\n",
       "       123000., 385000., 111019., 144000.,  57000.,  76900.,  28000.,\n",
       "       132000., 119000.,  92000., 121500., 109500., 109900., 108900.,\n",
       "       115500., 149000.,  30000., 172000.,  57900.,  94900.,  69000.,\n",
       "       135000.,  42900.])"
      ]
     },
     "execution_count": 290,
     "metadata": {},
     "output_type": "execute_result"
    }
   ],
   "source": [
    "# שמירה של המודל: \n",
    "tree_model =  DecisionTreeRegressor()\n",
    "tree_model.fit(x_train1 , y_train1)\n",
    "joblib.dump(tree_model , 'tree-model_1.joblib')\n",
    "\n",
    "#שימוש במודל קיים : \n",
    "model = joblib.load('tree-model_1.joblib')\n",
    "pred = model.predict(x_test1)\n",
    "pred"
   ]
  },
  {
   "cell_type": "code",
   "execution_count": null,
   "id": "6fe3612b",
   "metadata": {},
   "outputs": [],
   "source": []
  },
  {
   "cell_type": "code",
   "execution_count": 235,
   "id": "ee1770f9",
   "metadata": {},
   "outputs": [],
   "source": [
    " # יש שיפור אבל לא מספיק... גם אחרי שהחלטנו לנסות למחוק את התוצאות הקיצוניות מהטבלה."
   ]
  },
  {
   "cell_type": "code",
   "execution_count": 355,
   "id": "0794bfb1",
   "metadata": {},
   "outputs": [
    {
     "name": "stdout",
     "output_type": "stream",
     "text": [
      "RMSE: 208.91294681993415\n"
     ]
    },
    {
     "data": {
      "text/plain": [
       "0.8460227694638253"
      ]
     },
     "execution_count": 355,
     "metadata": {},
     "output_type": "execute_result"
    }
   ],
   "source": []
  },
  {
   "cell_type": "code",
   "execution_count": null,
   "id": "6d1dba88",
   "metadata": {},
   "outputs": [],
   "source": [
    "# אפשר לראות שאם נשתמש ב\"מודל אפס\" שמחזיר פשוט את הממוצע של המחירים בטבלה\n",
    "#הטעות חמורה בהרבה מאשר במודל שלנו. "
   ]
  },
  {
   "cell_type": "code",
   "execution_count": 237,
   "id": "b4a9460d",
   "metadata": {},
   "outputs": [
    {
     "name": "stdout",
     "output_type": "stream",
     "text": [
      "0.9545137277864899\n",
      "for cv= 39\n"
     ]
    }
   ],
   "source": [
    "m = 0\n",
    "whatCV = 0\n",
    "\n",
    "for i in np.arange(2, 40):\n",
    "    ind = cross_val_score(lin_reg, x_train, x_target, cv=i)\n",
    "    for j in ind:\n",
    "        if j > m:\n",
    "            m = j\n",
    "            whatCV = i\n",
    "    \n",
    "print(m)\n",
    "print(\"for cv=\", i)\n",
    "# cv=39 זהו ההיפר משתנה הכי טוב שלנו ברגרסיה ליניארית"
   ]
  },
  {
   "cell_type": "code",
   "execution_count": 318,
   "id": "4826596a",
   "metadata": {},
   "outputs": [],
   "source": [
    "# y_test1[[\"price\"]] = MinMaxScaler().fit_transform(y_test1[[\"price\"]])\n",
    "# y_test1 = y_test1[[\"price\"]]"
   ]
  },
  {
   "cell_type": "code",
   "execution_count": null,
   "id": "3e5d4456",
   "metadata": {},
   "outputs": [],
   "source": [
    "#create pipeline:\n",
    "#pipe = sklearn.pipeline.Pipeline(steps = [('My_model' , ExperimentalTransformer() )])\n",
    "#pipe.fit(x_train1 , y_train1)\n",
    "#pred = pipe.transform(y_test1)\n",
    "\n",
    "# class ExperimentalTransformer(BaseEstimator , TransformerMixin):\n",
    "#     def _init_ (self , ):\n",
    "#         print('\\n>>>init() called.\\n')\n",
    "#     def fit (self , target , y = None):\n",
    "#         return self\n",
    "#     def transform (self , X , y = None):\n",
    "#         x_ = X.copy()\n",
    "#         x_.price= x_target.mean()\n",
    "#         return x_"
   ]
  },
  {
   "cell_type": "code",
   "execution_count": 353,
   "id": "73ec8c4a",
   "metadata": {},
   "outputs": [
    {
     "name": "stderr",
     "output_type": "stream",
     "text": [
      "C:\\Users\\avoav\\anaconda3\\lib\\site-packages\\sklearn\\model_selection\\_split.py:666: UserWarning: The least populated class in y has only 1 members, which is less than n_splits=3.\n",
      "  warnings.warn((\"The least populated class in y has only %d\"\n"
     ]
    },
    {
     "name": "stdout",
     "output_type": "stream",
     "text": [
      "best classifier:  GridSearchCV(estimator=DecisionTreeRegressor(),\n",
      "             param_grid=[{'max_features': [2, 10, 20],\n",
      "                          'min_samples_split': [2, 3, 5],\n",
      "                          'splitter': ['best', 'random']}])  Accuracy=  0.8460227694638253\n"
     ]
    }
   ],
   "source": [
    "X_train, X_test, y_train, y_test = train_test_split(x_train,x_target , test_size=0.20, random_state=4)\n",
    "\n",
    "names = [\"Decision Tree\", \"Linear Regression\", \"zero model\"]\n",
    "\n",
    "param_grid_DT = [{'splitter' : ['best' , \"random\"] , 'max_features':[2 , 10 ,20] , 'min_samples_split': [2 , 3 , 5]}\n",
    "                ]\n",
    "param_grid_LR =  [  {'C' : [1 ,3 ,5] ,  'kernel': ['linear' , 'rbf']} ]\n",
    "\n",
    "classifiers = [\n",
    "    DecisionTreeRegressor()\n",
    "   , LinearRegression() ]\n",
    "\n",
    "score = 0\n",
    "for name, clf in zip(names, classifiers):\n",
    "    if name == \"Decision Tree\":\n",
    "        clf = DecisionTreeRegressor()\n",
    "        grid_search = GridSearchCV(clf, param_grid=param_grid_DT)\n",
    "        grid_search.fit(X_train, y_train)\n",
    "        if grid_search.best_score_ > score:\n",
    "            score = grid_search.best_score_\n",
    "            best_clf = grid_search\n",
    "    \n",
    "    elif name == \"Linear Regression\":\n",
    "        clf = svm.SVC(gamma = 'auto')\n",
    "        grid_search = GridSearchCV(clf, param_grid_LR , cv = 3,\n",
    "                                   scoring = 'neg_mean_squared_error' , return_train_score = True)\n",
    "        grid_search.fit(X_train, y_train)\n",
    "        if grid_search.best_score_ > score:\n",
    "            score = grid_search.best_score_\n",
    "            best_clf = grid_search\n",
    "\n",
    "\n",
    "print(\"best classifier: \", best_clf, \" Accuracy= \", score)\n"
   ]
  },
  {
   "cell_type": "code",
   "execution_count": null,
   "id": "bb343ecc",
   "metadata": {},
   "outputs": [],
   "source": [
    "\n"
   ]
  },
  {
   "cell_type": "code",
   "execution_count": null,
   "id": "f4a0e007",
   "metadata": {},
   "outputs": [],
   "source": []
  }
 ],
 "metadata": {
  "kernelspec": {
   "display_name": "Python 3",
   "language": "python",
   "name": "python3"
  },
  "language_info": {
   "codemirror_mode": {
    "name": "ipython",
    "version": 3
   },
   "file_extension": ".py",
   "mimetype": "text/x-python",
   "name": "python",
   "nbconvert_exporter": "python",
   "pygments_lexer": "ipython3",
   "version": "3.8.8"
  }
 },
 "nbformat": 4,
 "nbformat_minor": 5
}
