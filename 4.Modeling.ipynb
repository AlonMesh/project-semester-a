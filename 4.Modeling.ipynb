{
 "cells": [
  {
   "cell_type": "code",
   "execution_count": 5,
   "id": "470e6454",
   "metadata": {},
   "outputs": [],
   "source": [
    "import numpy as np\n",
    "import sklearn\n",
    "import pandas as pd\n",
    "from sklearn.model_selection import train_test_split\n",
    "from sklearn.model_selection import cross_val_score\n",
    "from sklearn import svm\n",
    "from sklearn.tree import DecisionTreeRegressor\n",
    "from sklearn.preprocessing import MinMaxScaler\n",
    "import matplotlib.pyplot as plt\n",
    "import seaborn as sns\n",
    "from pandas.plotting import scatter_matrix\n",
    "from sklearn.compose import ColumnTransformer\n",
    "from sklearn.metrics import mean_squared_error\n",
    "from sklearn.metrics import accuracy_score\n",
    "from sklearn.compose import ColumnTransformer\n",
    "from sklearn.pipeline import Pipeline\n",
    "from sklearn.pipeline import Pipeline\n",
    "from sklearn.preprocessing import StandardScaler\n",
    "from sklearn.preprocessing import OneHotEncoder\n",
    "from sklearn.base import BaseEstimator , TransformerMixin\n",
    "from sklearn import preprocessing\n",
    "from sklearn import utils\n",
    "from sklearn.linear_model import LinearRegression\n",
    "import joblib\n",
    "from sklearn.model_selection import GridSearchCV "
   ]
  },
  {
   "cell_type": "code",
   "execution_count": 6,
   "id": "6b224951",
   "metadata": {},
   "outputs": [
    {
     "data": {
      "text/html": [
       "<div>\n",
       "<style scoped>\n",
       "    .dataframe tbody tr th:only-of-type {\n",
       "        vertical-align: middle;\n",
       "    }\n",
       "\n",
       "    .dataframe tbody tr th {\n",
       "        vertical-align: top;\n",
       "    }\n",
       "\n",
       "    .dataframe thead th {\n",
       "        text-align: right;\n",
       "    }\n",
       "</style>\n",
       "<table border=\"1\" class=\"dataframe\">\n",
       "  <thead>\n",
       "    <tr style=\"text-align: right;\">\n",
       "      <th></th>\n",
       "      <th>year</th>\n",
       "      <th>is_GAC</th>\n",
       "      <th>is_maserati</th>\n",
       "      <th>is_daihatsu</th>\n",
       "      <th>is_porsche</th>\n",
       "      <th>is_ds</th>\n",
       "      <th>is_smart</th>\n",
       "      <th>is_seres</th>\n",
       "      <th>is_cadillac</th>\n",
       "      <th>is_דודג'</th>\n",
       "      <th>...</th>\n",
       "      <th>is_leasing</th>\n",
       "      <th>is_company</th>\n",
       "      <th>is_private</th>\n",
       "      <th>next_test_in</th>\n",
       "      <th>annual_licensing_fee</th>\n",
       "      <th>car_length</th>\n",
       "      <th>large</th>\n",
       "      <th>small</th>\n",
       "      <th>mini</th>\n",
       "      <th>medium</th>\n",
       "    </tr>\n",
       "    <tr>\n",
       "      <th>index</th>\n",
       "      <th></th>\n",
       "      <th></th>\n",
       "      <th></th>\n",
       "      <th></th>\n",
       "      <th></th>\n",
       "      <th></th>\n",
       "      <th></th>\n",
       "      <th></th>\n",
       "      <th></th>\n",
       "      <th></th>\n",
       "      <th></th>\n",
       "      <th></th>\n",
       "      <th></th>\n",
       "      <th></th>\n",
       "      <th></th>\n",
       "      <th></th>\n",
       "      <th></th>\n",
       "      <th></th>\n",
       "      <th></th>\n",
       "      <th></th>\n",
       "      <th></th>\n",
       "    </tr>\n",
       "  </thead>\n",
       "  <tbody>\n",
       "    <tr>\n",
       "      <th>1608</th>\n",
       "      <td>0.952381</td>\n",
       "      <td>0</td>\n",
       "      <td>0</td>\n",
       "      <td>0</td>\n",
       "      <td>0</td>\n",
       "      <td>0</td>\n",
       "      <td>0</td>\n",
       "      <td>0</td>\n",
       "      <td>0</td>\n",
       "      <td>0</td>\n",
       "      <td>...</td>\n",
       "      <td>0</td>\n",
       "      <td>0</td>\n",
       "      <td>1</td>\n",
       "      <td>0.000000</td>\n",
       "      <td>0.645547</td>\n",
       "      <td>0.764326</td>\n",
       "      <td>1</td>\n",
       "      <td>0</td>\n",
       "      <td>0</td>\n",
       "      <td>0</td>\n",
       "    </tr>\n",
       "    <tr>\n",
       "      <th>1329</th>\n",
       "      <td>0.761905</td>\n",
       "      <td>0</td>\n",
       "      <td>0</td>\n",
       "      <td>0</td>\n",
       "      <td>0</td>\n",
       "      <td>0</td>\n",
       "      <td>0</td>\n",
       "      <td>0</td>\n",
       "      <td>0</td>\n",
       "      <td>0</td>\n",
       "      <td>...</td>\n",
       "      <td>0</td>\n",
       "      <td>0</td>\n",
       "      <td>1</td>\n",
       "      <td>0.166667</td>\n",
       "      <td>0.188003</td>\n",
       "      <td>0.600759</td>\n",
       "      <td>0</td>\n",
       "      <td>0</td>\n",
       "      <td>0</td>\n",
       "      <td>1</td>\n",
       "    </tr>\n",
       "    <tr>\n",
       "      <th>1782</th>\n",
       "      <td>0.333333</td>\n",
       "      <td>0</td>\n",
       "      <td>0</td>\n",
       "      <td>0</td>\n",
       "      <td>0</td>\n",
       "      <td>0</td>\n",
       "      <td>0</td>\n",
       "      <td>0</td>\n",
       "      <td>0</td>\n",
       "      <td>0</td>\n",
       "      <td>...</td>\n",
       "      <td>0</td>\n",
       "      <td>0</td>\n",
       "      <td>1</td>\n",
       "      <td>0.166667</td>\n",
       "      <td>0.050377</td>\n",
       "      <td>0.652751</td>\n",
       "      <td>0</td>\n",
       "      <td>0</td>\n",
       "      <td>0</td>\n",
       "      <td>1</td>\n",
       "    </tr>\n",
       "    <tr>\n",
       "      <th>1193</th>\n",
       "      <td>0.523810</td>\n",
       "      <td>0</td>\n",
       "      <td>0</td>\n",
       "      <td>0</td>\n",
       "      <td>0</td>\n",
       "      <td>0</td>\n",
       "      <td>0</td>\n",
       "      <td>0</td>\n",
       "      <td>0</td>\n",
       "      <td>0</td>\n",
       "      <td>...</td>\n",
       "      <td>1</td>\n",
       "      <td>0</td>\n",
       "      <td>0</td>\n",
       "      <td>0.583333</td>\n",
       "      <td>0.027266</td>\n",
       "      <td>0.493359</td>\n",
       "      <td>0</td>\n",
       "      <td>1</td>\n",
       "      <td>0</td>\n",
       "      <td>0</td>\n",
       "    </tr>\n",
       "    <tr>\n",
       "      <th>1166</th>\n",
       "      <td>1.000000</td>\n",
       "      <td>0</td>\n",
       "      <td>0</td>\n",
       "      <td>0</td>\n",
       "      <td>0</td>\n",
       "      <td>0</td>\n",
       "      <td>0</td>\n",
       "      <td>0</td>\n",
       "      <td>0</td>\n",
       "      <td>0</td>\n",
       "      <td>...</td>\n",
       "      <td>0</td>\n",
       "      <td>0</td>\n",
       "      <td>1</td>\n",
       "      <td>0.833333</td>\n",
       "      <td>1.000000</td>\n",
       "      <td>0.489943</td>\n",
       "      <td>0</td>\n",
       "      <td>1</td>\n",
       "      <td>0</td>\n",
       "      <td>0</td>\n",
       "    </tr>\n",
       "    <tr>\n",
       "      <th>...</th>\n",
       "      <td>...</td>\n",
       "      <td>...</td>\n",
       "      <td>...</td>\n",
       "      <td>...</td>\n",
       "      <td>...</td>\n",
       "      <td>...</td>\n",
       "      <td>...</td>\n",
       "      <td>...</td>\n",
       "      <td>...</td>\n",
       "      <td>...</td>\n",
       "      <td>...</td>\n",
       "      <td>...</td>\n",
       "      <td>...</td>\n",
       "      <td>...</td>\n",
       "      <td>...</td>\n",
       "      <td>...</td>\n",
       "      <td>...</td>\n",
       "      <td>...</td>\n",
       "      <td>...</td>\n",
       "      <td>...</td>\n",
       "      <td>...</td>\n",
       "    </tr>\n",
       "    <tr>\n",
       "      <th>1650</th>\n",
       "      <td>0.809524</td>\n",
       "      <td>0</td>\n",
       "      <td>0</td>\n",
       "      <td>0</td>\n",
       "      <td>0</td>\n",
       "      <td>0</td>\n",
       "      <td>0</td>\n",
       "      <td>0</td>\n",
       "      <td>0</td>\n",
       "      <td>0</td>\n",
       "      <td>...</td>\n",
       "      <td>0</td>\n",
       "      <td>0</td>\n",
       "      <td>1</td>\n",
       "      <td>0.333333</td>\n",
       "      <td>0.122825</td>\n",
       "      <td>0.518027</td>\n",
       "      <td>0</td>\n",
       "      <td>1</td>\n",
       "      <td>0</td>\n",
       "      <td>0</td>\n",
       "    </tr>\n",
       "    <tr>\n",
       "      <th>1100</th>\n",
       "      <td>0.428571</td>\n",
       "      <td>0</td>\n",
       "      <td>0</td>\n",
       "      <td>0</td>\n",
       "      <td>0</td>\n",
       "      <td>0</td>\n",
       "      <td>0</td>\n",
       "      <td>0</td>\n",
       "      <td>0</td>\n",
       "      <td>0</td>\n",
       "      <td>...</td>\n",
       "      <td>0</td>\n",
       "      <td>0</td>\n",
       "      <td>1</td>\n",
       "      <td>0.416667</td>\n",
       "      <td>0.142041</td>\n",
       "      <td>0.813283</td>\n",
       "      <td>1</td>\n",
       "      <td>0</td>\n",
       "      <td>0</td>\n",
       "      <td>0</td>\n",
       "    </tr>\n",
       "    <tr>\n",
       "      <th>1135</th>\n",
       "      <td>0.714286</td>\n",
       "      <td>0</td>\n",
       "      <td>0</td>\n",
       "      <td>0</td>\n",
       "      <td>0</td>\n",
       "      <td>0</td>\n",
       "      <td>0</td>\n",
       "      <td>0</td>\n",
       "      <td>0</td>\n",
       "      <td>0</td>\n",
       "      <td>...</td>\n",
       "      <td>0</td>\n",
       "      <td>0</td>\n",
       "      <td>1</td>\n",
       "      <td>0.000000</td>\n",
       "      <td>0.295767</td>\n",
       "      <td>0.675522</td>\n",
       "      <td>0</td>\n",
       "      <td>0</td>\n",
       "      <td>0</td>\n",
       "      <td>1</td>\n",
       "    </tr>\n",
       "    <tr>\n",
       "      <th>1300</th>\n",
       "      <td>0.857143</td>\n",
       "      <td>0</td>\n",
       "      <td>0</td>\n",
       "      <td>0</td>\n",
       "      <td>0</td>\n",
       "      <td>0</td>\n",
       "      <td>0</td>\n",
       "      <td>0</td>\n",
       "      <td>0</td>\n",
       "      <td>0</td>\n",
       "      <td>...</td>\n",
       "      <td>1</td>\n",
       "      <td>0</td>\n",
       "      <td>0</td>\n",
       "      <td>0.500000</td>\n",
       "      <td>0.241755</td>\n",
       "      <td>0.734345</td>\n",
       "      <td>0</td>\n",
       "      <td>0</td>\n",
       "      <td>0</td>\n",
       "      <td>1</td>\n",
       "    </tr>\n",
       "    <tr>\n",
       "      <th>865</th>\n",
       "      <td>0.761905</td>\n",
       "      <td>0</td>\n",
       "      <td>0</td>\n",
       "      <td>0</td>\n",
       "      <td>0</td>\n",
       "      <td>0</td>\n",
       "      <td>0</td>\n",
       "      <td>0</td>\n",
       "      <td>0</td>\n",
       "      <td>0</td>\n",
       "      <td>...</td>\n",
       "      <td>0</td>\n",
       "      <td>0</td>\n",
       "      <td>0</td>\n",
       "      <td>0.916667</td>\n",
       "      <td>0.057647</td>\n",
       "      <td>0.485009</td>\n",
       "      <td>0</td>\n",
       "      <td>1</td>\n",
       "      <td>0</td>\n",
       "      <td>0</td>\n",
       "    </tr>\n",
       "  </tbody>\n",
       "</table>\n",
       "<p>2674 rows × 63 columns</p>\n",
       "</div>"
      ],
      "text/plain": [
       "           year  is_GAC  is_maserati  is_daihatsu  is_porsche  is_ds  \\\n",
       "index                                                                  \n",
       "1608   0.952381       0            0            0           0      0   \n",
       "1329   0.761905       0            0            0           0      0   \n",
       "1782   0.333333       0            0            0           0      0   \n",
       "1193   0.523810       0            0            0           0      0   \n",
       "1166   1.000000       0            0            0           0      0   \n",
       "...         ...     ...          ...          ...         ...    ...   \n",
       "1650   0.809524       0            0            0           0      0   \n",
       "1100   0.428571       0            0            0           0      0   \n",
       "1135   0.714286       0            0            0           0      0   \n",
       "1300   0.857143       0            0            0           0      0   \n",
       "865    0.761905       0            0            0           0      0   \n",
       "\n",
       "       is_smart  is_seres  is_cadillac  is_דודג'  ...  is_leasing  is_company  \\\n",
       "index                                             ...                           \n",
       "1608          0         0            0         0  ...           0           0   \n",
       "1329          0         0            0         0  ...           0           0   \n",
       "1782          0         0            0         0  ...           0           0   \n",
       "1193          0         0            0         0  ...           1           0   \n",
       "1166          0         0            0         0  ...           0           0   \n",
       "...         ...       ...          ...       ...  ...         ...         ...   \n",
       "1650          0         0            0         0  ...           0           0   \n",
       "1100          0         0            0         0  ...           0           0   \n",
       "1135          0         0            0         0  ...           0           0   \n",
       "1300          0         0            0         0  ...           1           0   \n",
       "865           0         0            0         0  ...           0           0   \n",
       "\n",
       "       is_private  next_test_in  annual_licensing_fee  car_length  large  \\\n",
       "index                                                                      \n",
       "1608            1      0.000000              0.645547    0.764326      1   \n",
       "1329            1      0.166667              0.188003    0.600759      0   \n",
       "1782            1      0.166667              0.050377    0.652751      0   \n",
       "1193            0      0.583333              0.027266    0.493359      0   \n",
       "1166            1      0.833333              1.000000    0.489943      0   \n",
       "...           ...           ...                   ...         ...    ...   \n",
       "1650            1      0.333333              0.122825    0.518027      0   \n",
       "1100            1      0.416667              0.142041    0.813283      1   \n",
       "1135            1      0.000000              0.295767    0.675522      0   \n",
       "1300            0      0.500000              0.241755    0.734345      0   \n",
       "865             0      0.916667              0.057647    0.485009      0   \n",
       "\n",
       "       small  mini  medium  \n",
       "index                       \n",
       "1608       0     0       0  \n",
       "1329       0     0       1  \n",
       "1782       0     0       1  \n",
       "1193       1     0       0  \n",
       "1166       1     0       0  \n",
       "...      ...   ...     ...  \n",
       "1650       1     0       0  \n",
       "1100       0     0       0  \n",
       "1135       0     0       1  \n",
       "1300       0     0       1  \n",
       "865        1     0       0  \n",
       "\n",
       "[2674 rows x 63 columns]"
      ]
     },
     "execution_count": 6,
     "metadata": {},
     "output_type": "execute_result"
    }
   ],
   "source": [
    "x_train = pd.read_csv(r'C:\\Users\\avoav\\Introduction to Data Science\\Project סמסטר א\\project-semester-a\\ScaledTrainSet_data.csv' , index_col  = 'index')\n",
    "x_train"
   ]
  },
  {
   "cell_type": "code",
   "execution_count": 8,
   "id": "b769377e",
   "metadata": {},
   "outputs": [
    {
     "data": {
      "text/html": [
       "<div>\n",
       "<style scoped>\n",
       "    .dataframe tbody tr th:only-of-type {\n",
       "        vertical-align: middle;\n",
       "    }\n",
       "\n",
       "    .dataframe tbody tr th {\n",
       "        vertical-align: top;\n",
       "    }\n",
       "\n",
       "    .dataframe thead th {\n",
       "        text-align: right;\n",
       "    }\n",
       "</style>\n",
       "<table border=\"1\" class=\"dataframe\">\n",
       "  <thead>\n",
       "    <tr style=\"text-align: right;\">\n",
       "      <th></th>\n",
       "      <th>price</th>\n",
       "    </tr>\n",
       "    <tr>\n",
       "      <th>index</th>\n",
       "      <th></th>\n",
       "    </tr>\n",
       "  </thead>\n",
       "  <tbody>\n",
       "    <tr>\n",
       "      <th>1608</th>\n",
       "      <td>239000</td>\n",
       "    </tr>\n",
       "    <tr>\n",
       "      <th>1329</th>\n",
       "      <td>69900</td>\n",
       "    </tr>\n",
       "    <tr>\n",
       "      <th>1782</th>\n",
       "      <td>100000</td>\n",
       "    </tr>\n",
       "    <tr>\n",
       "      <th>1193</th>\n",
       "      <td>33000</td>\n",
       "    </tr>\n",
       "    <tr>\n",
       "      <th>1166</th>\n",
       "      <td>437320</td>\n",
       "    </tr>\n",
       "    <tr>\n",
       "      <th>...</th>\n",
       "      <td>...</td>\n",
       "    </tr>\n",
       "    <tr>\n",
       "      <th>1650</th>\n",
       "      <td>75000</td>\n",
       "    </tr>\n",
       "    <tr>\n",
       "      <th>1100</th>\n",
       "      <td>29000</td>\n",
       "    </tr>\n",
       "    <tr>\n",
       "      <th>1135</th>\n",
       "      <td>110000</td>\n",
       "    </tr>\n",
       "    <tr>\n",
       "      <th>1300</th>\n",
       "      <td>110000</td>\n",
       "    </tr>\n",
       "    <tr>\n",
       "      <th>865</th>\n",
       "      <td>41000</td>\n",
       "    </tr>\n",
       "  </tbody>\n",
       "</table>\n",
       "<p>2674 rows × 1 columns</p>\n",
       "</div>"
      ],
      "text/plain": [
       "        price\n",
       "index        \n",
       "1608   239000\n",
       "1329    69900\n",
       "1782   100000\n",
       "1193    33000\n",
       "1166   437320\n",
       "...       ...\n",
       "1650    75000\n",
       "1100    29000\n",
       "1135   110000\n",
       "1300   110000\n",
       "865     41000\n",
       "\n",
       "[2674 rows x 1 columns]"
      ]
     },
     "execution_count": 8,
     "metadata": {},
     "output_type": "execute_result"
    }
   ],
   "source": [
    "x_target = pd.read_csv(r'C:\\Users\\avoav\\Introduction to Data Science\\Project סמסטר א\\project-semester-a\\TrainSet-target_data.csv' , index_col='index' )\n",
    "x_target"
   ]
  },
  {
   "cell_type": "code",
   "execution_count": 157,
   "id": "bfb5736b",
   "metadata": {},
   "outputs": [
    {
     "data": {
      "text/html": [
       "<div>\n",
       "<style scoped>\n",
       "    .dataframe tbody tr th:only-of-type {\n",
       "        vertical-align: middle;\n",
       "    }\n",
       "\n",
       "    .dataframe tbody tr th {\n",
       "        vertical-align: top;\n",
       "    }\n",
       "\n",
       "    .dataframe thead th {\n",
       "        text-align: right;\n",
       "    }\n",
       "</style>\n",
       "<table border=\"1\" class=\"dataframe\">\n",
       "  <thead>\n",
       "    <tr style=\"text-align: right;\">\n",
       "      <th></th>\n",
       "      <th>price</th>\n",
       "    </tr>\n",
       "    <tr>\n",
       "      <th>index</th>\n",
       "      <th></th>\n",
       "    </tr>\n",
       "  </thead>\n",
       "  <tbody>\n",
       "    <tr>\n",
       "      <th>1608</th>\n",
       "      <td>0.467347</td>\n",
       "    </tr>\n",
       "    <tr>\n",
       "      <th>1329</th>\n",
       "      <td>0.122245</td>\n",
       "    </tr>\n",
       "    <tr>\n",
       "      <th>1782</th>\n",
       "      <td>0.183673</td>\n",
       "    </tr>\n",
       "    <tr>\n",
       "      <th>1193</th>\n",
       "      <td>0.046939</td>\n",
       "    </tr>\n",
       "    <tr>\n",
       "      <th>1166</th>\n",
       "      <td>0.872082</td>\n",
       "    </tr>\n",
       "    <tr>\n",
       "      <th>...</th>\n",
       "      <td>...</td>\n",
       "    </tr>\n",
       "    <tr>\n",
       "      <th>1650</th>\n",
       "      <td>0.132653</td>\n",
       "    </tr>\n",
       "    <tr>\n",
       "      <th>1100</th>\n",
       "      <td>0.038776</td>\n",
       "    </tr>\n",
       "    <tr>\n",
       "      <th>1135</th>\n",
       "      <td>0.204082</td>\n",
       "    </tr>\n",
       "    <tr>\n",
       "      <th>1300</th>\n",
       "      <td>0.204082</td>\n",
       "    </tr>\n",
       "    <tr>\n",
       "      <th>865</th>\n",
       "      <td>0.063265</td>\n",
       "    </tr>\n",
       "  </tbody>\n",
       "</table>\n",
       "<p>2674 rows × 1 columns</p>\n",
       "</div>"
      ],
      "text/plain": [
       "          price\n",
       "index          \n",
       "1608   0.467347\n",
       "1329   0.122245\n",
       "1782   0.183673\n",
       "1193   0.046939\n",
       "1166   0.872082\n",
       "...         ...\n",
       "1650   0.132653\n",
       "1100   0.038776\n",
       "1135   0.204082\n",
       "1300   0.204082\n",
       "865    0.063265\n",
       "\n",
       "[2674 rows x 1 columns]"
      ]
     },
     "execution_count": 157,
     "metadata": {},
     "output_type": "execute_result"
    }
   ],
   "source": [
    "min_max_scaler = MinMaxScaler()\n",
    "scaledtarget = x_target.copy()\n",
    "scaledtarget[[\"price\"]] = min_max_scaler.fit_transform(scaledtarget[[\"price\"]])\n",
    "scaledtarget"
   ]
  },
  {
   "cell_type": "code",
   "execution_count": 538,
   "id": "d4ba3386",
   "metadata": {},
   "outputs": [],
   "source": [
    "#  ע\"מ לנרמל גם את עמודת המחירים של הטריין השתמשנו בפונקציה הזו \n",
    "\n",
    "lab_enc = preprocessing.LabelEncoder()\n",
    "x_target = lab_enc.fit_transform(x_target)\n",
    "#print(utils.multiclass.type_of_target(x_target)) \n",
    "\n",
    "# או זו:\n",
    "\n",
    "min_max_scaler = MinMaxScaler()\n",
    "scaledtarget = x_target.copy()\n",
    "scaledtarget[[\"price\"]] = min_max_scaler.fit_transform(scaledtarget[[\"price\"]])"
   ]
  },
  {
   "cell_type": "markdown",
   "id": "72f10ff6",
   "metadata": {},
   "source": [
    "# Cross-validation :"
   ]
  },
  {
   "cell_type": "markdown",
   "id": "827ef933",
   "metadata": {},
   "source": [
    "first we return the demi-model (the average) and try to be better than him.... "
   ]
  },
  {
   "cell_type": "code",
   "execution_count": 98,
   "id": "3f1b93c3",
   "metadata": {},
   "outputs": [
    {
     "name": "stdout",
     "output_type": "stream",
     "text": [
      "RMSE: 104849.11159023042\n",
      "accuracy : 0.2491767949\n"
     ]
    }
   ],
   "source": [
    " # בדיקת מודל אפס: \n",
    "\n",
    "def targetTransform(len_target):\n",
    "    target_ = np.zeros(len_target)\n",
    "    for i in range (len_target):\n",
    "        target_[i] +=  x_target.mean()\n",
    "    return target_\n",
    "\n",
    "x_train1 , x_test1 , y_train1 , y_test1= sklearn.model_selection.train_test_split(x_train, scaledtarget , test_size=0.1 , random_state = 2) \n",
    "\n",
    "pred = targetTransform(len(y_test1))\n",
    "#print (f\"\\n{pred}\")\n",
    "print (f\"RMSE: {np.sqrt(mean_squared_error(y_test1 , pred))}\")\n",
    "\n",
    "#במידה והמודל היה מחזיר תמיד את ממוצע מחיר הרכבים בטבלה זו הייתה מידת הדיוק שלו\n",
    "# מדוייק יותר- כרגע הגענו למרחק הממוצע מחיזוי נכון בשקלים.\n",
    "\n",
    "#29915.4789509615 = 0.8733269871229924\n",
    "# 104849.11159023042 = פי 3.5 פחות טוב = 0.2491767949\n",
    "print (\"accuracy :\" , 0.2491767949)"
   ]
  },
  {
   "cell_type": "code",
   "execution_count": 540,
   "id": "bef0391e",
   "metadata": {},
   "outputs": [
    {
     "name": "stdout",
     "output_type": "stream",
     "text": [
      "accuracy: 0.015706806282722512\n"
     ]
    }
   ],
   "source": [
    "#Dummy-model method:\n",
    "    #Checking the prices mean, and then its percent.\n",
    "    #Count the prices that between (price+percent) and (price-percent), duo the price is a spesific number (10+ digits)\n",
    "    #Divide those counted prices by the amount of prices.\n",
    "\n",
    "x_target.mean() # 0.19357003724451638\n",
    "x_target.mean()/100 # 0.0019357003724451637\n",
    "\n",
    "maxLim = x_target.mean() + x_target.mean()/100\n",
    "minLim = x_target.mean() - x_target.mean()/100\n",
    "counter = x_target.where(x_target > minLim).where(x_target < maxLim).dropna().count()\n",
    "print (\"accuracy:\" , (float)(counter / x_target.count()))\n",
    "#וזה אחוז הדיוק שאנחנו צריכים להיות מעליו"
   ]
  },
  {
   "cell_type": "markdown",
   "id": "4a32df94",
   "metadata": {},
   "source": [
    "אפשר לראות שאם נשתמש ב\"מודל אפס\" שמחזיר פשוט את הממוצע של המחירים בטבלה\n",
    "הטעות חמורה בהרבה מאשר במודל שלנו "
   ]
  },
  {
   "cell_type": "markdown",
   "id": "c16eb6dd",
   "metadata": {},
   "source": [
    "## select and train a model"
   ]
  },
  {
   "cell_type": "markdown",
   "id": "24713022",
   "metadata": {},
   "source": [
    "# Linear Regression model"
   ]
  },
  {
   "cell_type": "code",
   "execution_count": 97,
   "id": "45bdf4a0",
   "metadata": {},
   "outputs": [
    {
     "name": "stdout",
     "output_type": "stream",
     "text": [
      "RMSA: 0.061049364461006554\n",
      "\n",
      "score: 0.8733379146368712\n"
     ]
    }
   ],
   "source": [
    "#את הדאטה שהקדשנו לטריין אנחנו מפצלים שוב ע\"מ לבחון את מודל הרגרסיה הלינארית עם רנדום אחר\n",
    "\n",
    "x_train1 , x_test1 , y_train1 , y_test1= sklearn.model_selection.train_test_split(x_train, scaledtarget , test_size=0.2 , random_state = 2) \n",
    "\n",
    "lin_reg =  LinearRegression()\n",
    "fit1= lin_reg.fit(x_train1, y_train1)\n",
    "\n",
    "pred = fit1.predict(x_test1)\n",
    "#print (f\"\\n{pred}\")\n",
    "print (f\"RMSE: {np.sqrt(mean_squared_error(y_test1 , pred))}\\n\")\n",
    "\n",
    "print (\"score:\" , lin_reg.score( x_test1, y_test1))\n"
   ]
  },
  {
   "cell_type": "markdown",
   "id": "12610fa7",
   "metadata": {},
   "source": [
    "\n",
    "לפני כן הדיוק היה די גרוע, ניסינו להבין למה לא הצלחנו לחזות טוב עם המודל שלנו... עברנו על המכוניות ידנית וראינו באילו מכוניות הטעויות הגדולות קרו\n",
    "החלטנו למחוק את הדוגמאות הקיצוניות וקיבלנו שיפור עצום"
   ]
  },
  {
   "cell_type": "raw",
   "id": "636991e7",
   "metadata": {},
   "source": [
    " מייצג את הפער בין התחזיות של המודל לבין ערכי הדאטה עצמו וכך פשר לקבוע כמה המודל מסביר טוב את הנתונים-MSE\n"
   ]
  },
  {
   "cell_type": "code",
   "execution_count": 123,
   "id": "ae3d25aa",
   "metadata": {},
   "outputs": [
    {
     "name": "stdout",
     "output_type": "stream",
     "text": [
      "RMSA: 0.058536840831978125\n",
      "\n",
      "score: 0.8939026591790277\n"
     ]
    }
   ],
   "source": [
    "def display_scores(scores):\n",
    "    print (\"scores:\",  scores)\n",
    "    print(\"Mean:\" , scores.mean() )\n",
    "    print (\"Standard deviation:\" , scores.std()) \n",
    "    \n",
    "x_train4 , x_test4 , y_train4 , y_test4= sklearn.model_selection.train_test_split(x_train, np.ravel(scaledtarget, order = 'C') , test_size=0.2 , random_state = 4)   \n",
    "predictions = lin_reg.predict(x_test4)\n",
    "\n",
    "print (f\"RMSE: {np.sqrt(mean_squared_error(y_test4 , predictions))}\\n\")\n",
    "\n",
    "print (\"score:\" , lin_reg.score(x_test4 , y_test4))\n"
   ]
  },
  {
   "cell_type": "code",
   "execution_count": 20,
   "id": "4bb0fb56",
   "metadata": {},
   "outputs": [
    {
     "data": {
      "text/plain": [
       "0.8099613241592214"
      ]
     },
     "execution_count": 20,
     "metadata": {},
     "output_type": "execute_result"
    }
   ],
   "source": [
    "#check if we can do better Without some of the columns:\n",
    "\n",
    "x_train3 = x_train[[\"annual_licensing_fee\" , \"car_length\" , \"year\"]]\n",
    "y_train3 = x_target.iloc [0 :50 , : ]\n",
    "x_train3 = x_train3.iloc[0:50 , :]\n",
    "lin_reg =  LinearRegression()\n",
    "fit1= lin_reg.fit(x_train3, y_train3)\n",
    "\n",
    "pred = fit1.predict(x_train[[\"annual_licensing_fee\" , \"car_length\" , \"year\"]])\n",
    "lin_reg.score(x_train[[\"annual_licensing_fee\" , \"car_length\" , \"year\"]] , x_target)"
   ]
  },
  {
   "cell_type": "raw",
   "id": "89000963",
   "metadata": {},
   "source": [
    "יכולנו תיאורטית לצמצם את מספר העמודות מאוד ולהישאר על ציון גבוה אך החלטנו לא לעשות זאת כדי להשאיר את האופציה להתייחסות למכוניות יקרות במיוחד."
   ]
  },
  {
   "cell_type": "code",
   "execution_count": 102,
   "id": "399b799d",
   "metadata": {},
   "outputs": [
    {
     "name": "stdout",
     "output_type": "stream",
     "text": [
      "r = 0.9740470477033635\n",
      "r^2 = 0.9487676511396385\n",
      "for cv = 77\n"
     ]
    }
   ],
   "source": [
    "#This method check which cv gives the best score.\n",
    "    #if we make this one a function -> the function will return the bestCV\n",
    "CV_COUNT = 100\n",
    "maxScore = 0\n",
    "bestCV = 0\n",
    "bestScoreI = 0\n",
    "scr = np.zeros(CV_COUNT)\n",
    "\n",
    "for i in np.arange(2, CV_COUNT+2):\n",
    "    bestScoreI = 0\n",
    "    ind = cross_val_score(lin_reg, x_train, x_target, cv=i, scoring = \"r2\")\n",
    "    for j in ind:\n",
    "        if j > maxScore:\n",
    "            maxScore = j\n",
    "            bestCV = i\n",
    "        if j > bestScoreI:\n",
    "            scr[i-2] = pow(j, 2)    \n",
    "    \n",
    "print(\"r =\", maxScore)\n",
    "print(\"r^2 =\", pow(maxScore, 2))\n",
    "print(\"for cv =\", bestCV)\n",
    "#print(scr)\n",
    "#print (cross_val_score(lin_reg, x_train, x_target, cv=14)) #a method to print scores by cv."
   ]
  },
  {
   "cell_type": "code",
   "execution_count": null,
   "id": "21dd0c6c",
   "metadata": {},
   "outputs": [],
   "source": [
    "#We got an excellent score for cv = 77. We will try to keep this model."
   ]
  },
  {
   "cell_type": "code",
   "execution_count": 551,
   "id": "fcb77d63",
   "metadata": {},
   "outputs": [
    {
     "name": "stdout",
     "output_type": "stream",
     "text": [
      "0.9545137277864899\n",
      "for cv= 39\n"
     ]
    }
   ],
   "source": [
    "m = 0\n",
    "whatCV = 0\n",
    "\n",
    "for i in np.arange(2, 40):\n",
    "    ind = cross_val_score(lin_reg, x_train, x_target, cv=i)\n",
    "    for j in ind:\n",
    "        if j > m:\n",
    "            m = j\n",
    "            whatCV = i\n",
    "    \n",
    "print(m)\n",
    "print(\"for cv=\", i)\n",
    "# cv=39 זהו ההיפר משתנה הכי טוב שלנו ברגרסיה ליניארית"
   ]
  },
  {
   "cell_type": "code",
   "execution_count": 218,
   "id": "f6ce9419",
   "metadata": {},
   "outputs": [],
   "source": [
    "predictions = lin_reg.predict(x_test1)"
   ]
  },
  {
   "cell_type": "code",
   "execution_count": 254,
   "id": "8e601420",
   "metadata": {},
   "outputs": [
    {
     "data": {
      "text/plain": [
       "Text(0.5, 1.0, 'Accuracy testing of results - תואצותל קויד תקידב')"
      ]
     },
     "execution_count": 254,
     "metadata": {},
     "output_type": "execute_result"
    },
    {
     "data": {
      "image/png": "[encoded data removed]",
      "text/plain": [
       "<Figure size 432x288 with 1 Axes>"
      ]
     },
     "metadata": {
      "needs_background": "light"
     },
     "output_type": "display_data"
    }
   ],
   "source": [
    "# Create a scatterplot of the real test values versus the predicted values.\n",
    "plt.scatter(y_test1 , predictions , color = \"green\" ,edgecolor =\"black\")\n",
    "plt.xlabel('Y Test')\n",
    "plt.ylabel('Predicted Y')\n",
    "plt.grid()\n",
    "plt.plot([ 0 , 500000] , [ 0 , 0.8])\n",
    "plt.yscale('linear')\n",
    "plt.title('Accuracy testing of results - תואצותל קויד תקידב')"
   ]
  },
  {
   "cell_type": "code",
   "execution_count": null,
   "id": "1f9cf264",
   "metadata": {},
   "outputs": [],
   "source": [
    "אפשר לראות שהצלחנו לנבא את התוצאות במחירים הנמוכים הכי טוב ואחרי מחיר מסויים המודל לא מצליח לחזות נכון את המחיר.\n",
    "אנחנו מניחים שהסיבה היא שאין הרבה דוגמאות במחירים הקיצוניים ולכן המחשב לא יודע לחזות אותם."
   ]
  },
  {
   "cell_type": "code",
   "execution_count": null,
   "id": "6d6b91cb",
   "metadata": {},
   "outputs": [],
   "source": [
    "דבר נוסף שאנו רואים שהרבה מהניחושים של המודל הם מעל המחיר הרצוי."
   ]
  },
  {
   "cell_type": "code",
   "execution_count": null,
   "id": "ae6c5544",
   "metadata": {},
   "outputs": [],
   "source": []
  },
  {
   "cell_type": "markdown",
   "id": "01bcfd24",
   "metadata": {},
   "source": [
    "# DecisionTreeRegressor model"
   ]
  },
  {
   "cell_type": "code",
   "execution_count": 28,
   "id": "e9599b20",
   "metadata": {},
   "outputs": [
    {
     "name": "stdout",
     "output_type": "stream",
     "text": [
      "RMSA: 39234.821824078215\n",
      "\n",
      "score: 0.7428396301654828\n"
     ]
    }
   ],
   "source": [
    "x_train1 , x_test1 , y_train1 , y_test1= sklearn.model_selection.train_test_split(x_train, np.ravel(x_target, order = 'C') , test_size=0.1 , random_state = 2) \n",
    "\n",
    "\n",
    "tree_reg =  DecisionTreeRegressor()\n",
    "fit1 = tree_reg.fit(x_train1 , y_train1)\n",
    "pred = fit1.predict(x_test1)\n",
    "#print (f\"\\n{pred}\")\n",
    "print (f\"RMSA: {np.sqrt(mean_squared_error(y_test1 , pred))}\\n\")\n",
    "print (\"score:\" , tree_reg.score(x_test1 , y_test1))\n"
   ]
  },
  {
   "cell_type": "raw",
   "id": "6376644f",
   "metadata": {},
   "source": [
    "ניתן להבחין שבמודל עץ הנל הדיוק פחות מוצלח ובכל זאת מדובר כאן בניסיון אחד. יכול להיות שאם נשנה את ההיפר פרמטרים נקבל אחוזי הצלחה גבוהים יותר. \n",
    " gridsearch לכן נשתמש ב"
   ]
  },
  {
   "cell_type": "code",
   "execution_count": null,
   "id": "35c67080",
   "metadata": {},
   "outputs": [],
   "source": [
    " כשיש למודל יותר מדיי פרמטרים או שהם ל אמותאמים אליו ולכן ננסה אולי להפחית פרמטרים overfitting  במודל עצים הבעיה הויא לרוב "
   ]
  },
  {
   "cell_type": "code",
   "execution_count": 23,
   "id": "afc7c0b4",
   "metadata": {},
   "outputs": [
    {
     "data": {
      "text/plain": [
       "0.616263739373961"
      ]
     },
     "execution_count": 23,
     "metadata": {},
     "output_type": "execute_result"
    }
   ],
   "source": [
    "#check if we can do better Without some of the columns:\n",
    "\n",
    "x_train3 = x_train[[\"annual_licensing_fee\" , \"car_length\" , \"year\"]]\n",
    "y_train3 = x_target.iloc [0 :50 , : ]\n",
    "x_train3 = x_train3.iloc[0:50 , :]\n",
    "tree_reg = DecisionTreeRegressor()\n",
    "fit1= tree_reg.fit(x_train3, y_train3)\n",
    "\n",
    "pred = fit1.predict(x_train[[\"annual_licensing_fee\" , \"car_length\" , \"year\"]])\n",
    "tree_reg.score(x_train[[\"annual_licensing_fee\" , \"car_length\" , \"year\"]] , x_target)"
   ]
  },
  {
   "cell_type": "code",
   "execution_count": null,
   "id": "81663bdb",
   "metadata": {},
   "outputs": [],
   "source": [
    "התוצאות חד משמעית פחות טובות."
   ]
  },
  {
   "cell_type": "code",
   "execution_count": null,
   "id": "d66d8dfc",
   "metadata": {},
   "outputs": [],
   "source": []
  },
  {
   "cell_type": "markdown",
   "id": "17aa9863",
   "metadata": {},
   "source": [
    "# Fine Tune our Model"
   ]
  },
  {
   "cell_type": "markdown",
   "id": "de24c937",
   "metadata": {},
   "source": [
    "#  gridsearch for Linear Regression:\n"
   ]
  },
  {
   "cell_type": "code",
   "execution_count": 32,
   "id": "5deabf15",
   "metadata": {},
   "outputs": [
    {
     "name": "stdout",
     "output_type": "stream",
     "text": [
      "5017606921580066.0 {'copy_X': True, 'n_jobs': 1, 'normalize': False}\n",
      "8.170502291100586e+16 {'copy_X': True, 'n_jobs': 1, 'normalize': True}\n",
      "5017606921580066.0 {'copy_X': True, 'n_jobs': -1, 'normalize': False}\n",
      "8.170502291100586e+16 {'copy_X': True, 'n_jobs': -1, 'normalize': True}\n",
      "5017606921580066.0 {'copy_X': False, 'n_jobs': 1, 'normalize': False}\n",
      "8.170502291100586e+16 {'copy_X': False, 'n_jobs': 1, 'normalize': True}\n",
      "5017606921580066.0 {'copy_X': False, 'n_jobs': -1, 'normalize': False}\n",
      "8.170502291100586e+16 {'copy_X': False, 'n_jobs': -1, 'normalize': True}\n"
     ]
    }
   ],
   "source": [
    "param_grid_LR =  [  { 'copy_X': [True , False] , 'n_jobs' : [1 ,-1] , 'normalize' : [False, True] } ]\n",
    "\n",
    "grid_search = GridSearchCV(estimator = lin_reg , param_grid = param_grid_LR , cv = 3,\n",
    "                                   scoring = 'neg_mean_squared_error' )\n",
    "grid_search.fit(x_train, np.ravel(x_target, order = 'C'))\n",
    "grid_search.best_params_\n",
    "grid_search.best_score_\n",
    "cvres = grid_search.cv_results_\n",
    "for mean_score , params in zip(cvres[\"mean_test_score\"] ,cvres[\"params\"] ):\n",
    "    print (np.sqrt(-mean_score) , params)\n",
    "\n",
    "    \n",
    "#every score is exactly the same..."
   ]
  },
  {
   "cell_type": "code",
   "execution_count": 35,
   "id": "6390c270",
   "metadata": {},
   "outputs": [
    {
     "name": "stdout",
     "output_type": "stream",
     "text": [
      "best score: 0.8859077084135477\n"
     ]
    }
   ],
   "source": [
    "#שמירה של המודל עם הפרמטרים הטובים ביותר:\n",
    "best_model = grid_search.best_estimator_\n",
    "print (\"best score:\" , model.score(x_test1,y_test1))\n"
   ]
  },
  {
   "cell_type": "code",
   "execution_count": 36,
   "id": "85c3488e",
   "metadata": {},
   "outputs": [
    {
     "data": {
      "text/plain": [
       "0.8668913680938224"
      ]
     },
     "execution_count": 36,
     "metadata": {},
     "output_type": "execute_result"
    }
   ],
   "source": [
    "# שמירה של המודל: LinearRegression()\n",
    "LR_model = best_model \n",
    "LR_model.fit(x_train1 , y_train1)\n",
    "joblib.dump(LR_model , 'Linear Regression-model_1.joblib')\n",
    "\n",
    "#שימוש במודל קיים : \n",
    "model = joblib.load('Linear Regression-model_1.joblib')\n",
    "pred = model.predict(x_test1)\n",
    "model.score(x_test1 , y_test1)"
   ]
  },
  {
   "cell_type": "markdown",
   "id": "566bf0ee",
   "metadata": {},
   "source": [
    "# gridsearch for svm (R):"
   ]
  },
  {
   "cell_type": "code",
   "execution_count": 40,
   "id": "25cd050e",
   "metadata": {},
   "outputs": [
    {
     "data": {
      "text/html": [
       "<div>\n",
       "<style scoped>\n",
       "    .dataframe tbody tr th:only-of-type {\n",
       "        vertical-align: middle;\n",
       "    }\n",
       "\n",
       "    .dataframe tbody tr th {\n",
       "        vertical-align: top;\n",
       "    }\n",
       "\n",
       "    .dataframe thead th {\n",
       "        text-align: right;\n",
       "    }\n",
       "</style>\n",
       "<table border=\"1\" class=\"dataframe\">\n",
       "  <thead>\n",
       "    <tr style=\"text-align: right;\">\n",
       "      <th></th>\n",
       "      <th>param_C</th>\n",
       "      <th>param_kernel</th>\n",
       "      <th>mean_test_score</th>\n",
       "    </tr>\n",
       "  </thead>\n",
       "  <tbody>\n",
       "    <tr>\n",
       "      <th>0</th>\n",
       "      <td>30</td>\n",
       "      <td>linear</td>\n",
       "      <td>-5.807227e+09</td>\n",
       "    </tr>\n",
       "    <tr>\n",
       "      <th>1</th>\n",
       "      <td>30</td>\n",
       "      <td>rbf</td>\n",
       "      <td>-6.520881e+09</td>\n",
       "    </tr>\n",
       "    <tr>\n",
       "      <th>2</th>\n",
       "      <td>3</td>\n",
       "      <td>linear</td>\n",
       "      <td>-6.452596e+09</td>\n",
       "    </tr>\n",
       "    <tr>\n",
       "      <th>3</th>\n",
       "      <td>3</td>\n",
       "      <td>rbf</td>\n",
       "      <td>-6.545426e+09</td>\n",
       "    </tr>\n",
       "    <tr>\n",
       "      <th>4</th>\n",
       "      <td>5</td>\n",
       "      <td>linear</td>\n",
       "      <td>-6.401873e+09</td>\n",
       "    </tr>\n",
       "    <tr>\n",
       "      <th>5</th>\n",
       "      <td>5</td>\n",
       "      <td>rbf</td>\n",
       "      <td>-6.543769e+09</td>\n",
       "    </tr>\n",
       "    <tr>\n",
       "      <th>6</th>\n",
       "      <td>20</td>\n",
       "      <td>linear</td>\n",
       "      <td>-6.021296e+09</td>\n",
       "    </tr>\n",
       "    <tr>\n",
       "      <th>7</th>\n",
       "      <td>20</td>\n",
       "      <td>rbf</td>\n",
       "      <td>-6.529819e+09</td>\n",
       "    </tr>\n",
       "  </tbody>\n",
       "</table>\n",
       "</div>"
      ],
      "text/plain": [
       "  param_C param_kernel  mean_test_score\n",
       "0      30       linear    -5.807227e+09\n",
       "1      30          rbf    -6.520881e+09\n",
       "2       3       linear    -6.452596e+09\n",
       "3       3          rbf    -6.545426e+09\n",
       "4       5       linear    -6.401873e+09\n",
       "5       5          rbf    -6.543769e+09\n",
       "6      20       linear    -6.021296e+09\n",
       "7      20          rbf    -6.529819e+09"
      ]
     },
     "execution_count": 40,
     "metadata": {},
     "output_type": "execute_result"
    }
   ],
   "source": [
    "#svm:\n",
    "param_grid_svm = [  {'C' : [30 ,3 ,5 ,20] ,  'kernel': ['linear' , 'rbf'] } ]\n",
    "\n",
    "grid_search = GridSearchCV(estimator = svm.SVR(gamma = 'auto') , param_grid = param_grid_svm , cv = 3,\n",
    "                                   scoring = 'neg_mean_squared_error' )\n",
    "grid_search.fit(x_train, np.ravel(x_target, order = 'C'))\n",
    "df = pd.DataFrame(grid_search.cv_results_)\n",
    "df[['param_C' , 'param_kernel' , 'mean_test_score']]\n",
    "\n"
   ]
  },
  {
   "cell_type": "code",
   "execution_count": 41,
   "id": "cf69d9a9",
   "metadata": {},
   "outputs": [
    {
     "name": "stdout",
     "output_type": "stream",
     "text": [
      "best score : -5807226617.14928\n",
      "best params: {'C': 30, 'kernel': 'linear'}\n"
     ]
    }
   ],
   "source": [
    "print (\"best score :\" , grid_search.best_score_)\n",
    "print (\"best params:\" , grid_search.best_params_)\n"
   ]
  },
  {
   "cell_type": "code",
   "execution_count": 42,
   "id": "ceed980f",
   "metadata": {},
   "outputs": [
    {
     "name": "stdout",
     "output_type": "stream",
     "text": [
      "76205.16135505048 {'C': 30, 'kernel': 'linear'}\n",
      "80751.97338242625 {'C': 30, 'kernel': 'rbf'}\n",
      "80328.052826528 {'C': 3, 'kernel': 'linear'}\n",
      "80903.80928044878 {'C': 3, 'kernel': 'rbf'}\n",
      "80011.7051974721 {'C': 5, 'kernel': 'linear'}\n",
      "80893.56832345125 {'C': 5, 'kernel': 'rbf'}\n",
      "77597.00859041025 {'C': 20, 'kernel': 'linear'}\n",
      "80807.29254451802 {'C': 20, 'kernel': 'rbf'}\n"
     ]
    }
   ],
   "source": [
    "#evaluation scores:\n",
    "cvres = grid_search.cv_results_\n",
    "for mean_score , params in zip(cvres[\"mean_test_score\"] ,cvres[\"params\"] ):\n",
    "    print (np.sqrt(-mean_score) , params)\n"
   ]
  },
  {
   "cell_type": "markdown",
   "id": "3a363270",
   "metadata": {},
   "source": [
    "here we obtain the best solution by setting the 'C' parameter to 30 and the 'kernel' to 'linear'."
   ]
  },
  {
   "cell_type": "code",
   "execution_count": 44,
   "id": "c37c2281",
   "metadata": {},
   "outputs": [
    {
     "name": "stderr",
     "output_type": "stream",
     "text": [
      "C:\\Users\\avoav\\anaconda3\\lib\\site-packages\\sklearn\\model_selection\\_split.py:666: UserWarning: The least populated class in y has only 1 members, which is less than n_splits=5.\n",
      "  warnings.warn((\"The least populated class in y has only %d\"\n"
     ]
    },
    {
     "name": "stdout",
     "output_type": "stream",
     "text": [
      " Results from Grid Search \n",
      "\n",
      " The best estimator across ALL searched params:\n",
      " SVC(C=8, kernel='linear')\n",
      "\n",
      " The best score across ALL searched params:\n",
      " 0.03158961706679549\n",
      "\n",
      " The best parameters across ALL searched params:\n",
      " {'C': 8, 'kernel': 'linear'}\n"
     ]
    }
   ],
   "source": [
    "param_grid_svm = [{'C': [40, 2 ,8 ,30] ,  'kernel': ['linear']}]\n",
    "\n",
    "clf = svm.SVC()\n",
    "\n",
    "grid_ = GridSearchCV(estimator=clf, param_grid = param_grid_svm, cv = 5, n_jobs=-1)\n",
    "grid_.fit(x_train1, y_train1)\n",
    "print(\" Results from Grid Search \" )\n",
    "print(\"\\n The best estimator across ALL searched params:\\n\",grid_.best_estimator_)\n",
    "print(\"\\n The best score across ALL searched params:\\n\",grid_.best_score_)\n",
    "print(\"\\n The best parameters across ALL searched params:\\n\",grid_.best_params_)"
   ]
  },
  {
   "cell_type": "code",
   "execution_count": 46,
   "id": "36e31bb7",
   "metadata": {},
   "outputs": [
    {
     "name": "stdout",
     "output_type": "stream",
     "text": [
      "best score: 0.029850746268656716\n"
     ]
    }
   ],
   "source": [
    "best_model_ = grid_.best_estimator_\n",
    "print (\"best score:\" , best_model_.score(x_test1,y_test1))"
   ]
  },
  {
   "cell_type": "raw",
   "id": "badeee0b",
   "metadata": {},
   "source": [
    "...נראה כי למודל זה אין אפילו התאמה קלושה לצרכים שלנו  "
   ]
  },
  {
   "cell_type": "markdown",
   "id": "af8e9d8f",
   "metadata": {},
   "source": [
    "#  gridsearch for tree Regressor:\n"
   ]
  },
  {
   "cell_type": "code",
   "execution_count": 37,
   "id": "7ece203b",
   "metadata": {},
   "outputs": [
    {
     "name": "stdout",
     "output_type": "stream",
     "text": [
      "best params: {'max_features': 40, 'min_samples_split': 5, 'splitter': 'random'}\n",
      "best score: 0.8049657425374659\n"
     ]
    }
   ],
   "source": [
    "param_grid_DT = [{'splitter' : ['best' , \"random\"] , 'max_features':[10, 15 ,20 , 40] , 'min_samples_split': [2 , 60 , 5, 15], }]\n",
    "# min_samples_split = המספר המינימלי של דוגמאות הנדרש לפיצול צומת פנימי:\n",
    "# splitter = האסטרטגיה המשמשת לבחירת הפיצול בכל צומת. \"הטובות ביותר\" לבחירת הפיצול הטוב ביותר ו\"אקראי\" לבחירת הפיצול האקראי הטוב ביותר.\n",
    "# max_features =  שזהו מספר התכונות שיש לקחת בחשבון כאשר מחפשים את הפיצול הטוב ביותר\n",
    "\n",
    "grid_search = GridSearchCV(estimator= tree_reg ,param_grid = param_grid_DT , cv = 3,\n",
    "                                   scoring = 'neg_mean_squared_error' , return_train_score = False)\n",
    "grid_search.fit(x_train1, np.ravel(y_train1, order = 'C'))\n",
    "\n",
    "#df = pd.DataFrame(grid_search.cv_results_)\n",
    "\n",
    "print (\"best params:\" , grid_search.best_params_)\n",
    "\n",
    "#שמירה של המודל עם הפרמטרים הטובים ביותר: \n",
    "model = grid_search.best_estimator_\n",
    "print (\"best score:\" , model.score(x_test1,y_test1))"
   ]
  },
  {
   "cell_type": "code",
   "execution_count": 31,
   "id": "5c57c5b5",
   "metadata": {},
   "outputs": [
    {
     "data": {
      "text/plain": [
       "0.8470042235580301"
      ]
     },
     "execution_count": 31,
     "metadata": {},
     "output_type": "execute_result"
    }
   ],
   "source": [
    "# שמירה של המודל: DecisionTreeRegressor()\n",
    "tree_model = model \n",
    "tree_model.fit(x_train1 , y_train1 )\n",
    "joblib.dump(tree_model , 'tree-model_1.joblib')\n",
    "\n",
    "#שימוש במודל קיים : \n",
    "model = joblib.load('tree-model_1.joblib')\n",
    "pred = model.predict(x_test1)\n",
    "model.score(x_test1 , y_test1)"
   ]
  },
  {
   "cell_type": "code",
   "execution_count": null,
   "id": "0ddd2132",
   "metadata": {},
   "outputs": [],
   "source": []
  },
  {
   "cell_type": "code",
   "execution_count": null,
   "id": "1ebabd30",
   "metadata": {},
   "outputs": [],
   "source": []
  },
  {
   "cell_type": "markdown",
   "id": "54d77539",
   "metadata": {},
   "source": [
    "## found the best classifier and hiperparameters , for the two models"
   ]
  },
  {
   "cell_type": "code",
   "execution_count": 211,
   "id": "6a586152",
   "metadata": {},
   "outputs": [
    {
     "name": "stdout",
     "output_type": "stream",
     "text": [
      "best classifier:  GridSearchCV(estimator=DecisionTreeRegressor(),\n",
      "             param_grid=[{'max_features': [2, 10, 20],\n",
      "                          'min_samples_split': [2, 3, 5],\n",
      "                          'splitter': ['best', 'random']}])  Accuracy=  0.7846257498471723\n",
      "best classifier:  GridSearchCV(estimator=DecisionTreeRegressor(),\n",
      "             param_grid=[{'max_features': [2, 10, 20],\n",
      "                          'min_samples_split': [2, 3, 5],\n",
      "                          'splitter': ['best', 'random']}])  Accuracy=  0.7846257498471723\n"
     ]
    }
   ],
   "source": [
    "X_train, X_test, y_train, y_test = train_test_split(x_train, np.ravel(x_target, order = 'C') , test_size=0.20, random_state=4)\n",
    "\n",
    "names = [\"Decision Tree\", \"Linear Regression\"]\n",
    "\n",
    "param_grid_DT = [{'splitter' : ['best' , \"random\"] , 'max_features':[2 , 10 ,20] , 'min_samples_split': [2 , 3 , 5]}\n",
    "                ]\n",
    "param_grid_LR =  [  { 'copy_X': [True , False] , 'n_jobs' : [1 ,-1] , 'normalize' : [False, True] } ]\n",
    "\n",
    "classifiers = [\n",
    "    DecisionTreeRegressor()\n",
    "   , LinearRegression() ]\n",
    "\n",
    "score = 0\n",
    "for name in names:\n",
    "    \n",
    "    if name == \"Linear Regression\":\n",
    "        clf = LinearRegression()\n",
    "        grid_search = GridSearchCV(estimator=clf, param_grid = param_grid_LR, cv = 2, n_jobs=-1)\n",
    "        grid_search.fit(X_train, np.ravel(y_train, order = 'C'))\n",
    "        if grid_search.best_score_ > score:\n",
    "            score = grid_search.best_score_\n",
    "            best_clf = grid_search    \n",
    "    \n",
    "    elif name == \"Decision Tree\":\n",
    "        clf = DecisionTreeRegressor()\n",
    "        grid_search = GridSearchCV(estimator=clf, param_grid=param_grid_DT)\n",
    "        grid_search.fit(X_train, y_train)\n",
    "        if grid_search.best_score_ > score:\n",
    "            score = grid_search.best_score_\n",
    "            best_clf = grid_search\n",
    "    \n",
    "    \n",
    "\n",
    "\n",
    "    print(\"best classifier: \",best_clf, \" Accuracy= \", score)\n",
    "\n"
   ]
  },
  {
   "cell_type": "markdown",
   "id": "9e35480e",
   "metadata": {},
   "source": [
    "svmמאיזה שהיא סיבה כאן לא רואים את הדיוק של הרגרסיה הליניארית אבל אנחנו יודעים שהיא טובה יותר משל העץ ושל ה "
   ]
  },
  {
   "cell_type": "markdown",
   "id": "cf9f2214",
   "metadata": {},
   "source": [
    "# נסיון לפני הטסט:"
   ]
  },
  {
   "cell_type": "code",
   "execution_count": 191,
   "id": "949f41d9",
   "metadata": {},
   "outputs": [
    {
     "data": {
      "text/plain": [
       "0.8939026591790277"
      ]
     },
     "execution_count": 191,
     "metadata": {},
     "output_type": "execute_result"
    }
   ],
   "source": [
    "\n",
    "\n",
    "LR_model =  LinearRegression()\n",
    "LR_model.fit(x_train , np.ravel(scaledtarget, order = 'C'))\n",
    "joblib.dump(LR_model , 'Linear Regression-model_1.joblib')\n",
    "\n",
    "\n",
    "final_model =joblib.load('Linear Regression-model_1.joblib')\n",
    "final_predictions = final_model.predict(x_test4)\n",
    "final_mse = mean_squared_error(y_test4 , final_predictions)\n",
    "final_rmse = np.sqrt(final_mse)\n",
    "final_rmse\n",
    "final_score = final_model.score(x_test4 , y_test4)\n",
    "final_score"
   ]
  },
  {
   "cell_type": "markdown",
   "id": "10010722",
   "metadata": {},
   "source": [
    "# Evaluate our system on the test set:"
   ]
  },
  {
   "cell_type": "code",
   "execution_count": 168,
   "id": "b2a1aeee",
   "metadata": {},
   "outputs": [
    {
     "data": {
      "text/html": [
       "<div>\n",
       "<style scoped>\n",
       "    .dataframe tbody tr th:only-of-type {\n",
       "        vertical-align: middle;\n",
       "    }\n",
       "\n",
       "    .dataframe tbody tr th {\n",
       "        vertical-align: top;\n",
       "    }\n",
       "\n",
       "    .dataframe thead th {\n",
       "        text-align: right;\n",
       "    }\n",
       "</style>\n",
       "<table border=\"1\" class=\"dataframe\">\n",
       "  <thead>\n",
       "    <tr style=\"text-align: right;\">\n",
       "      <th></th>\n",
       "      <th>year</th>\n",
       "      <th>is_GAC</th>\n",
       "      <th>is_maserati</th>\n",
       "      <th>is_daihatsu</th>\n",
       "      <th>is_porsche</th>\n",
       "      <th>is_ds</th>\n",
       "      <th>is_smart</th>\n",
       "      <th>is_seres</th>\n",
       "      <th>is_cadillac</th>\n",
       "      <th>is_דודג'</th>\n",
       "      <th>...</th>\n",
       "      <th>is_leasing</th>\n",
       "      <th>is_company</th>\n",
       "      <th>is_private</th>\n",
       "      <th>next_test_in</th>\n",
       "      <th>annual_licensing_fee</th>\n",
       "      <th>car_length</th>\n",
       "      <th>large</th>\n",
       "      <th>small</th>\n",
       "      <th>mini</th>\n",
       "      <th>medium</th>\n",
       "    </tr>\n",
       "    <tr>\n",
       "      <th>index</th>\n",
       "      <th></th>\n",
       "      <th></th>\n",
       "      <th></th>\n",
       "      <th></th>\n",
       "      <th></th>\n",
       "      <th></th>\n",
       "      <th></th>\n",
       "      <th></th>\n",
       "      <th></th>\n",
       "      <th></th>\n",
       "      <th></th>\n",
       "      <th></th>\n",
       "      <th></th>\n",
       "      <th></th>\n",
       "      <th></th>\n",
       "      <th></th>\n",
       "      <th></th>\n",
       "      <th></th>\n",
       "      <th></th>\n",
       "      <th></th>\n",
       "      <th></th>\n",
       "    </tr>\n",
       "  </thead>\n",
       "  <tbody>\n",
       "    <tr>\n",
       "      <th>2421</th>\n",
       "      <td>0.222222</td>\n",
       "      <td>0</td>\n",
       "      <td>0</td>\n",
       "      <td>0</td>\n",
       "      <td>0</td>\n",
       "      <td>0</td>\n",
       "      <td>0</td>\n",
       "      <td>0</td>\n",
       "      <td>0</td>\n",
       "      <td>0</td>\n",
       "      <td>...</td>\n",
       "      <td>0</td>\n",
       "      <td>0</td>\n",
       "      <td>0</td>\n",
       "      <td>0.727273</td>\n",
       "      <td>0.023759</td>\n",
       "      <td>0.229508</td>\n",
       "      <td>0</td>\n",
       "      <td>1</td>\n",
       "      <td>0</td>\n",
       "      <td>0</td>\n",
       "    </tr>\n",
       "    <tr>\n",
       "      <th>2891</th>\n",
       "      <td>0.666667</td>\n",
       "      <td>0</td>\n",
       "      <td>0</td>\n",
       "      <td>0</td>\n",
       "      <td>0</td>\n",
       "      <td>0</td>\n",
       "      <td>0</td>\n",
       "      <td>0</td>\n",
       "      <td>0</td>\n",
       "      <td>0</td>\n",
       "      <td>...</td>\n",
       "      <td>0</td>\n",
       "      <td>0</td>\n",
       "      <td>1</td>\n",
       "      <td>0.545455</td>\n",
       "      <td>0.633209</td>\n",
       "      <td>0.290164</td>\n",
       "      <td>0</td>\n",
       "      <td>1</td>\n",
       "      <td>0</td>\n",
       "      <td>0</td>\n",
       "    </tr>\n",
       "    <tr>\n",
       "      <th>2187</th>\n",
       "      <td>0.555556</td>\n",
       "      <td>0</td>\n",
       "      <td>0</td>\n",
       "      <td>0</td>\n",
       "      <td>0</td>\n",
       "      <td>0</td>\n",
       "      <td>0</td>\n",
       "      <td>0</td>\n",
       "      <td>0</td>\n",
       "      <td>0</td>\n",
       "      <td>...</td>\n",
       "      <td>1</td>\n",
       "      <td>0</td>\n",
       "      <td>0</td>\n",
       "      <td>0.909091</td>\n",
       "      <td>0.117192</td>\n",
       "      <td>0.651913</td>\n",
       "      <td>0</td>\n",
       "      <td>0</td>\n",
       "      <td>0</td>\n",
       "      <td>1</td>\n",
       "    </tr>\n",
       "    <tr>\n",
       "      <th>510</th>\n",
       "      <td>0.888889</td>\n",
       "      <td>0</td>\n",
       "      <td>0</td>\n",
       "      <td>0</td>\n",
       "      <td>0</td>\n",
       "      <td>0</td>\n",
       "      <td>0</td>\n",
       "      <td>0</td>\n",
       "      <td>0</td>\n",
       "      <td>0</td>\n",
       "      <td>...</td>\n",
       "      <td>0</td>\n",
       "      <td>0</td>\n",
       "      <td>1</td>\n",
       "      <td>0.181818</td>\n",
       "      <td>0.305659</td>\n",
       "      <td>0.505464</td>\n",
       "      <td>0</td>\n",
       "      <td>0</td>\n",
       "      <td>0</td>\n",
       "      <td>1</td>\n",
       "    </tr>\n",
       "    <tr>\n",
       "      <th>2867</th>\n",
       "      <td>0.666667</td>\n",
       "      <td>0</td>\n",
       "      <td>0</td>\n",
       "      <td>0</td>\n",
       "      <td>0</td>\n",
       "      <td>0</td>\n",
       "      <td>0</td>\n",
       "      <td>0</td>\n",
       "      <td>0</td>\n",
       "      <td>0</td>\n",
       "      <td>...</td>\n",
       "      <td>1</td>\n",
       "      <td>0</td>\n",
       "      <td>0</td>\n",
       "      <td>0.909091</td>\n",
       "      <td>0.260812</td>\n",
       "      <td>1.000000</td>\n",
       "      <td>1</td>\n",
       "      <td>0</td>\n",
       "      <td>0</td>\n",
       "      <td>0</td>\n",
       "    </tr>\n",
       "    <tr>\n",
       "      <th>...</th>\n",
       "      <td>...</td>\n",
       "      <td>...</td>\n",
       "      <td>...</td>\n",
       "      <td>...</td>\n",
       "      <td>...</td>\n",
       "      <td>...</td>\n",
       "      <td>...</td>\n",
       "      <td>...</td>\n",
       "      <td>...</td>\n",
       "      <td>...</td>\n",
       "      <td>...</td>\n",
       "      <td>...</td>\n",
       "      <td>...</td>\n",
       "      <td>...</td>\n",
       "      <td>...</td>\n",
       "      <td>...</td>\n",
       "      <td>...</td>\n",
       "      <td>...</td>\n",
       "      <td>...</td>\n",
       "      <td>...</td>\n",
       "      <td>...</td>\n",
       "    </tr>\n",
       "    <tr>\n",
       "      <th>2602</th>\n",
       "      <td>0.722222</td>\n",
       "      <td>0</td>\n",
       "      <td>0</td>\n",
       "      <td>0</td>\n",
       "      <td>0</td>\n",
       "      <td>0</td>\n",
       "      <td>0</td>\n",
       "      <td>0</td>\n",
       "      <td>0</td>\n",
       "      <td>0</td>\n",
       "      <td>...</td>\n",
       "      <td>0</td>\n",
       "      <td>0</td>\n",
       "      <td>1</td>\n",
       "      <td>0.909091</td>\n",
       "      <td>0.226909</td>\n",
       "      <td>0.554645</td>\n",
       "      <td>0</td>\n",
       "      <td>0</td>\n",
       "      <td>0</td>\n",
       "      <td>1</td>\n",
       "    </tr>\n",
       "    <tr>\n",
       "      <th>240</th>\n",
       "      <td>0.944444</td>\n",
       "      <td>0</td>\n",
       "      <td>0</td>\n",
       "      <td>0</td>\n",
       "      <td>0</td>\n",
       "      <td>0</td>\n",
       "      <td>0</td>\n",
       "      <td>0</td>\n",
       "      <td>0</td>\n",
       "      <td>0</td>\n",
       "      <td>...</td>\n",
       "      <td>0</td>\n",
       "      <td>0</td>\n",
       "      <td>1</td>\n",
       "      <td>0.000000</td>\n",
       "      <td>0.635611</td>\n",
       "      <td>0.524590</td>\n",
       "      <td>0</td>\n",
       "      <td>0</td>\n",
       "      <td>0</td>\n",
       "      <td>1</td>\n",
       "    </tr>\n",
       "    <tr>\n",
       "      <th>535</th>\n",
       "      <td>0.500000</td>\n",
       "      <td>0</td>\n",
       "      <td>0</td>\n",
       "      <td>0</td>\n",
       "      <td>0</td>\n",
       "      <td>0</td>\n",
       "      <td>0</td>\n",
       "      <td>0</td>\n",
       "      <td>0</td>\n",
       "      <td>0</td>\n",
       "      <td>...</td>\n",
       "      <td>0</td>\n",
       "      <td>0</td>\n",
       "      <td>1</td>\n",
       "      <td>0.454545</td>\n",
       "      <td>0.000000</td>\n",
       "      <td>0.046448</td>\n",
       "      <td>0</td>\n",
       "      <td>0</td>\n",
       "      <td>1</td>\n",
       "      <td>0</td>\n",
       "    </tr>\n",
       "    <tr>\n",
       "      <th>703</th>\n",
       "      <td>0.666667</td>\n",
       "      <td>0</td>\n",
       "      <td>0</td>\n",
       "      <td>0</td>\n",
       "      <td>0</td>\n",
       "      <td>0</td>\n",
       "      <td>0</td>\n",
       "      <td>0</td>\n",
       "      <td>0</td>\n",
       "      <td>0</td>\n",
       "      <td>...</td>\n",
       "      <td>1</td>\n",
       "      <td>0</td>\n",
       "      <td>0</td>\n",
       "      <td>0.181818</td>\n",
       "      <td>0.165243</td>\n",
       "      <td>0.430601</td>\n",
       "      <td>0</td>\n",
       "      <td>0</td>\n",
       "      <td>0</td>\n",
       "      <td>1</td>\n",
       "    </tr>\n",
       "    <tr>\n",
       "      <th>2604</th>\n",
       "      <td>0.777778</td>\n",
       "      <td>0</td>\n",
       "      <td>0</td>\n",
       "      <td>0</td>\n",
       "      <td>0</td>\n",
       "      <td>0</td>\n",
       "      <td>0</td>\n",
       "      <td>0</td>\n",
       "      <td>0</td>\n",
       "      <td>0</td>\n",
       "      <td>...</td>\n",
       "      <td>1</td>\n",
       "      <td>0</td>\n",
       "      <td>0</td>\n",
       "      <td>0.727273</td>\n",
       "      <td>0.098238</td>\n",
       "      <td>0.556284</td>\n",
       "      <td>0</td>\n",
       "      <td>0</td>\n",
       "      <td>0</td>\n",
       "      <td>1</td>\n",
       "    </tr>\n",
       "  </tbody>\n",
       "</table>\n",
       "<p>298 rows × 63 columns</p>\n",
       "</div>"
      ],
      "text/plain": [
       "           year  is_GAC  is_maserati  is_daihatsu  is_porsche  is_ds  \\\n",
       "index                                                                  \n",
       "2421   0.222222       0            0            0           0      0   \n",
       "2891   0.666667       0            0            0           0      0   \n",
       "2187   0.555556       0            0            0           0      0   \n",
       "510    0.888889       0            0            0           0      0   \n",
       "2867   0.666667       0            0            0           0      0   \n",
       "...         ...     ...          ...          ...         ...    ...   \n",
       "2602   0.722222       0            0            0           0      0   \n",
       "240    0.944444       0            0            0           0      0   \n",
       "535    0.500000       0            0            0           0      0   \n",
       "703    0.666667       0            0            0           0      0   \n",
       "2604   0.777778       0            0            0           0      0   \n",
       "\n",
       "       is_smart  is_seres  is_cadillac  is_דודג'  ...  is_leasing  is_company  \\\n",
       "index                                             ...                           \n",
       "2421          0         0            0         0  ...           0           0   \n",
       "2891          0         0            0         0  ...           0           0   \n",
       "2187          0         0            0         0  ...           1           0   \n",
       "510           0         0            0         0  ...           0           0   \n",
       "2867          0         0            0         0  ...           1           0   \n",
       "...         ...       ...          ...       ...  ...         ...         ...   \n",
       "2602          0         0            0         0  ...           0           0   \n",
       "240           0         0            0         0  ...           0           0   \n",
       "535           0         0            0         0  ...           0           0   \n",
       "703           0         0            0         0  ...           1           0   \n",
       "2604          0         0            0         0  ...           1           0   \n",
       "\n",
       "       is_private  next_test_in  annual_licensing_fee  car_length  large  \\\n",
       "index                                                                      \n",
       "2421            0      0.727273              0.023759    0.229508      0   \n",
       "2891            1      0.545455              0.633209    0.290164      0   \n",
       "2187            0      0.909091              0.117192    0.651913      0   \n",
       "510             1      0.181818              0.305659    0.505464      0   \n",
       "2867            0      0.909091              0.260812    1.000000      1   \n",
       "...           ...           ...                   ...         ...    ...   \n",
       "2602            1      0.909091              0.226909    0.554645      0   \n",
       "240             1      0.000000              0.635611    0.524590      0   \n",
       "535             1      0.454545              0.000000    0.046448      0   \n",
       "703             0      0.181818              0.165243    0.430601      0   \n",
       "2604            0      0.727273              0.098238    0.556284      0   \n",
       "\n",
       "       small  mini  medium  \n",
       "index                       \n",
       "2421       1     0       0  \n",
       "2891       1     0       0  \n",
       "2187       0     0       1  \n",
       "510        0     0       1  \n",
       "2867       0     0       0  \n",
       "...      ...   ...     ...  \n",
       "2602       0     0       1  \n",
       "240        0     0       1  \n",
       "535        0     1       0  \n",
       "703        0     0       1  \n",
       "2604       0     0       1  \n",
       "\n",
       "[298 rows x 63 columns]"
      ]
     },
     "execution_count": 168,
     "metadata": {},
     "output_type": "execute_result"
    }
   ],
   "source": [
    "final_model = grid_.best_estimator_\n",
    "x_test = pd.read_csv( r'C:\\Users\\avoav\\Introduction to Data Science\\Project סמסטר א\\project-semester-a\\TestSet_data.csv' , index_col  = 'index')\n",
    "x_test = x_test.drop(columns = [\"version\" , \"CompanyName\", \"size\" , \"color\" , \"original_onership\" , \"engine_type\" , \"engine\"  ] )\n",
    "x_test[[\"year\", \"annual_licensing_fee\", \"engine_size\",  \"next_test_in\" , \"car_length\" , \"current_mileage\"]] = min_max_scaler.fit_transform(x_test[[\"year\", \"annual_licensing_fee\", \"engine_size\",  \"next_test_in\" , \"car_length\" ,\"current_mileage\"]])\n",
    "x_test"
   ]
  },
  {
   "cell_type": "code",
   "execution_count": 226,
   "id": "17a0cd37",
   "metadata": {},
   "outputs": [
    {
     "data": {
      "text/html": [
       "<div>\n",
       "<style scoped>\n",
       "    .dataframe tbody tr th:only-of-type {\n",
       "        vertical-align: middle;\n",
       "    }\n",
       "\n",
       "    .dataframe tbody tr th {\n",
       "        vertical-align: top;\n",
       "    }\n",
       "\n",
       "    .dataframe thead th {\n",
       "        text-align: right;\n",
       "    }\n",
       "</style>\n",
       "<table border=\"1\" class=\"dataframe\">\n",
       "  <thead>\n",
       "    <tr style=\"text-align: right;\">\n",
       "      <th></th>\n",
       "      <th>price</th>\n",
       "    </tr>\n",
       "    <tr>\n",
       "      <th>index</th>\n",
       "      <th></th>\n",
       "    </tr>\n",
       "  </thead>\n",
       "  <tbody>\n",
       "    <tr>\n",
       "      <th>2421</th>\n",
       "      <td>0.014405</td>\n",
       "    </tr>\n",
       "    <tr>\n",
       "      <th>2891</th>\n",
       "      <td>0.681071</td>\n",
       "    </tr>\n",
       "    <tr>\n",
       "      <th>2187</th>\n",
       "      <td>0.039097</td>\n",
       "    </tr>\n",
       "    <tr>\n",
       "      <th>510</th>\n",
       "      <td>0.252882</td>\n",
       "    </tr>\n",
       "    <tr>\n",
       "      <th>2867</th>\n",
       "      <td>0.251030</td>\n",
       "    </tr>\n",
       "    <tr>\n",
       "      <th>...</th>\n",
       "      <td>...</td>\n",
       "    </tr>\n",
       "    <tr>\n",
       "      <th>2602</th>\n",
       "      <td>0.192388</td>\n",
       "    </tr>\n",
       "    <tr>\n",
       "      <th>240</th>\n",
       "      <td>0.384773</td>\n",
       "    </tr>\n",
       "    <tr>\n",
       "      <th>535</th>\n",
       "      <td>0.024693</td>\n",
       "    </tr>\n",
       "    <tr>\n",
       "      <th>703</th>\n",
       "      <td>0.065846</td>\n",
       "    </tr>\n",
       "    <tr>\n",
       "      <th>2604</th>\n",
       "      <td>0.088479</td>\n",
       "    </tr>\n",
       "  </tbody>\n",
       "</table>\n",
       "<p>298 rows × 1 columns</p>\n",
       "</div>"
      ],
      "text/plain": [
       "          price\n",
       "index          \n",
       "2421   0.014405\n",
       "2891   0.681071\n",
       "2187   0.039097\n",
       "510    0.252882\n",
       "2867   0.251030\n",
       "...         ...\n",
       "2602   0.192388\n",
       "240    0.384773\n",
       "535    0.024693\n",
       "703    0.065846\n",
       "2604   0.088479\n",
       "\n",
       "[298 rows x 1 columns]"
      ]
     },
     "execution_count": 226,
     "metadata": {},
     "output_type": "execute_result"
    }
   ],
   "source": [
    "y_test =  pd.read_csv( r'C:\\Users\\avoav\\Introduction to Data Science\\Project סמסטר א\\project-semester-a\\TestSet-target.csv' , index_col  = 'index')\n",
    "y_test[[\"price\"]] = min_max_scaler.fit_transform(y_test[[\"price\"]])\n",
    "y_test"
   ]
  },
  {
   "cell_type": "code",
   "execution_count": 261,
   "id": "f0456a2c",
   "metadata": {},
   "outputs": [
    {
     "name": "stdout",
     "output_type": "stream",
     "text": [
      "0.06966533333195213\n",
      "0.8274103012147698\n",
      "r2/variance :  0.8274103012147698\n"
     ]
    }
   ],
   "source": [
    "final_model = LinearRegression()\n",
    "final_model.fit(x_train , np.ravel(scaledtarget, order = 'C'))\n",
    "final_predictions = final_model.predict(x_test)\n",
    "final_mse = mean_squared_error(y_test , final_predictions)\n",
    "final_rmse = np.sqrt(final_mse)\n",
    "print(final_rmse)\n",
    "final_score = final_model.score(x_test , y_test)\n",
    "print(final_score)\n",
    "print (\"r2/variance : \", final_model.score(x_test,y_test))"
   ]
  },
  {
   "cell_type": "markdown",
   "id": "687c72b4",
   "metadata": {},
   "source": [
    "# רק מעט פחות מהציון המצופה.... \n",
    "# ועדיין הרבה יותר טוב ממודל אפס."
   ]
  },
  {
   "cell_type": "code",
   "execution_count": 257,
   "id": "2d1e9cec",
   "metadata": {},
   "outputs": [
    {
     "data": {
      "text/plain": [
       "Text(0.5, 1.0, 'Accuracy testing of results - תואצותל קויד תקידב')"
      ]
     },
     "execution_count": 257,
     "metadata": {},
     "output_type": "execute_result"
    },
    {
     "data": {
      "image/png": "[encoded data removed]",
      "text/plain": [
       "<Figure size 432x288 with 1 Axes>"
      ]
     },
     "metadata": {
      "needs_background": "light"
     },
     "output_type": "display_data"
    }
   ],
   "source": [
    "plt.scatter(y_test , final_predictions , color = \"green\" , edgecolor =\"black\")\n",
    "plt.xlabel('Y Test')\n",
    "plt.ylabel('Predicted Y')\n",
    "\n",
    "plt.grid()\n",
    "plt.plot([0 , 1])\n",
    "plt.title('Accuracy testing of results - תואצותל קויד תקידב')"
   ]
  },
  {
   "cell_type": "code",
   "execution_count": null,
   "id": "2ac9c055",
   "metadata": {},
   "outputs": [],
   "source": [
    "כאן בניגוד לניסויים שלנו , באופן מפתיע אנו מגלים שרוב הדוגמאות המודל נקב במחיר נמוך מהמחיר האמיתי שלהן"
   ]
  },
  {
   "cell_type": "raw",
   "id": "90ab1a04",
   "metadata": {},
   "source": [
    "ואם נסתכל שוב בגרף התוצאות נראה ששוב המודל יודע לחזות די טוב את התוצאות במחירים הנמוכים אבל הקו הלינארי לא מחזיק מעמד במחירים הגבוהים - איפה שמתמעטות הדוגמאות."
   ]
  }
 ],
 "metadata": {
  "kernelspec": {
   "display_name": "Python 3",
   "language": "python",
   "name": "python3"
  },
  "language_info": {
   "codemirror_mode": {
    "name": "ipython",
    "version": 3
   },
   "file_extension": ".py",
   "mimetype": "text/x-python",
   "name": "python",
   "nbconvert_exporter": "python",
   "pygments_lexer": "ipython3",
   "version": "3.8.8"
  }
 },
 "nbformat": 4,
 "nbformat_minor": 5
}
