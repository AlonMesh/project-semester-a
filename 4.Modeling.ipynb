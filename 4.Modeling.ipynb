{
 "cells": [
  {
   "cell_type": "code",
   "execution_count": 322,
   "id": "470e6454",
   "metadata": {},
   "outputs": [],
   "source": [
    "import numpy as np\n",
    "import sklearn\n",
    "import pandas as pd\n",
    "from sklearn.model_selection import train_test_split\n",
    "from sklearn.model_selection import cross_val_score\n",
    "from sklearn import svm\n",
    "from sklearn.tree import DecisionTreeRegressor\n",
    "\n",
    "import matplotlib.pyplot as plt\n",
    "import seaborn as sns\n",
    "from pandas.plotting import scatter_matrix\n",
    "from sklearn.compose import ColumnTransformer\n",
    "from sklearn.metrics import mean_squared_error\n",
    "from sklearn.metrics import accuracy_score\n",
    "from sklearn.compose import ColumnTransformer\n",
    "from sklearn.pipeline import Pipeline\n",
    "from sklearn.pipeline import Pipeline\n",
    "from sklearn.preprocessing import StandardScaler\n",
    "from sklearn.preprocessing import OneHotEncoder\n",
    "from sklearn.base import BaseEstimator , TransformerMixin\n",
    "from sklearn import preprocessing\n",
    "from sklearn import utils\n",
    "from sklearn.linear_model import LinearRegression\n",
    "import joblib\n",
    "from sklearn.model_selection import GridSearchCV "
   ]
  },
  {
   "cell_type": "code",
   "execution_count": 376,
   "id": "6b224951",
   "metadata": {},
   "outputs": [
    {
     "data": {
      "text/html": [
       "<div>\n",
       "<style scoped>\n",
       "    .dataframe tbody tr th:only-of-type {\n",
       "        vertical-align: middle;\n",
       "    }\n",
       "\n",
       "    .dataframe tbody tr th {\n",
       "        vertical-align: top;\n",
       "    }\n",
       "\n",
       "    .dataframe thead th {\n",
       "        text-align: right;\n",
       "    }\n",
       "</style>\n",
       "<table border=\"1\" class=\"dataframe\">\n",
       "  <thead>\n",
       "    <tr style=\"text-align: right;\">\n",
       "      <th></th>\n",
       "      <th>year</th>\n",
       "      <th>is_GAC</th>\n",
       "      <th>is_maserati</th>\n",
       "      <th>is_daihatsu</th>\n",
       "      <th>is_porsche</th>\n",
       "      <th>is_ds</th>\n",
       "      <th>is_smart</th>\n",
       "      <th>is_seres</th>\n",
       "      <th>is_cadillac</th>\n",
       "      <th>is_דודג'</th>\n",
       "      <th>...</th>\n",
       "      <th>is_leasing</th>\n",
       "      <th>is_company</th>\n",
       "      <th>is_private</th>\n",
       "      <th>next_test_in</th>\n",
       "      <th>annual_licensing_fee</th>\n",
       "      <th>car_length</th>\n",
       "      <th>large</th>\n",
       "      <th>small</th>\n",
       "      <th>mini</th>\n",
       "      <th>medium</th>\n",
       "    </tr>\n",
       "    <tr>\n",
       "      <th>index</th>\n",
       "      <th></th>\n",
       "      <th></th>\n",
       "      <th></th>\n",
       "      <th></th>\n",
       "      <th></th>\n",
       "      <th></th>\n",
       "      <th></th>\n",
       "      <th></th>\n",
       "      <th></th>\n",
       "      <th></th>\n",
       "      <th></th>\n",
       "      <th></th>\n",
       "      <th></th>\n",
       "      <th></th>\n",
       "      <th></th>\n",
       "      <th></th>\n",
       "      <th></th>\n",
       "      <th></th>\n",
       "      <th></th>\n",
       "      <th></th>\n",
       "      <th></th>\n",
       "    </tr>\n",
       "  </thead>\n",
       "  <tbody>\n",
       "    <tr>\n",
       "      <th>1608</th>\n",
       "      <td>0.952381</td>\n",
       "      <td>0</td>\n",
       "      <td>0</td>\n",
       "      <td>0</td>\n",
       "      <td>0</td>\n",
       "      <td>0</td>\n",
       "      <td>0</td>\n",
       "      <td>0</td>\n",
       "      <td>0</td>\n",
       "      <td>0</td>\n",
       "      <td>...</td>\n",
       "      <td>0</td>\n",
       "      <td>0</td>\n",
       "      <td>1</td>\n",
       "      <td>0.000000</td>\n",
       "      <td>0.645547</td>\n",
       "      <td>0.764326</td>\n",
       "      <td>1</td>\n",
       "      <td>0</td>\n",
       "      <td>0</td>\n",
       "      <td>0</td>\n",
       "    </tr>\n",
       "    <tr>\n",
       "      <th>1329</th>\n",
       "      <td>0.761905</td>\n",
       "      <td>0</td>\n",
       "      <td>0</td>\n",
       "      <td>0</td>\n",
       "      <td>0</td>\n",
       "      <td>0</td>\n",
       "      <td>0</td>\n",
       "      <td>0</td>\n",
       "      <td>0</td>\n",
       "      <td>0</td>\n",
       "      <td>...</td>\n",
       "      <td>0</td>\n",
       "      <td>0</td>\n",
       "      <td>1</td>\n",
       "      <td>0.166667</td>\n",
       "      <td>0.188003</td>\n",
       "      <td>0.600759</td>\n",
       "      <td>0</td>\n",
       "      <td>0</td>\n",
       "      <td>0</td>\n",
       "      <td>1</td>\n",
       "    </tr>\n",
       "    <tr>\n",
       "      <th>1782</th>\n",
       "      <td>0.333333</td>\n",
       "      <td>0</td>\n",
       "      <td>0</td>\n",
       "      <td>0</td>\n",
       "      <td>0</td>\n",
       "      <td>0</td>\n",
       "      <td>0</td>\n",
       "      <td>0</td>\n",
       "      <td>0</td>\n",
       "      <td>0</td>\n",
       "      <td>...</td>\n",
       "      <td>0</td>\n",
       "      <td>0</td>\n",
       "      <td>1</td>\n",
       "      <td>0.166667</td>\n",
       "      <td>0.050377</td>\n",
       "      <td>0.652751</td>\n",
       "      <td>0</td>\n",
       "      <td>0</td>\n",
       "      <td>0</td>\n",
       "      <td>1</td>\n",
       "    </tr>\n",
       "    <tr>\n",
       "      <th>1193</th>\n",
       "      <td>0.523810</td>\n",
       "      <td>0</td>\n",
       "      <td>0</td>\n",
       "      <td>0</td>\n",
       "      <td>0</td>\n",
       "      <td>0</td>\n",
       "      <td>0</td>\n",
       "      <td>0</td>\n",
       "      <td>0</td>\n",
       "      <td>0</td>\n",
       "      <td>...</td>\n",
       "      <td>1</td>\n",
       "      <td>0</td>\n",
       "      <td>0</td>\n",
       "      <td>0.583333</td>\n",
       "      <td>0.027266</td>\n",
       "      <td>0.493359</td>\n",
       "      <td>0</td>\n",
       "      <td>1</td>\n",
       "      <td>0</td>\n",
       "      <td>0</td>\n",
       "    </tr>\n",
       "    <tr>\n",
       "      <th>1166</th>\n",
       "      <td>1.000000</td>\n",
       "      <td>0</td>\n",
       "      <td>0</td>\n",
       "      <td>0</td>\n",
       "      <td>0</td>\n",
       "      <td>0</td>\n",
       "      <td>0</td>\n",
       "      <td>0</td>\n",
       "      <td>0</td>\n",
       "      <td>0</td>\n",
       "      <td>...</td>\n",
       "      <td>0</td>\n",
       "      <td>0</td>\n",
       "      <td>1</td>\n",
       "      <td>0.833333</td>\n",
       "      <td>1.000000</td>\n",
       "      <td>0.489943</td>\n",
       "      <td>0</td>\n",
       "      <td>1</td>\n",
       "      <td>0</td>\n",
       "      <td>0</td>\n",
       "    </tr>\n",
       "    <tr>\n",
       "      <th>...</th>\n",
       "      <td>...</td>\n",
       "      <td>...</td>\n",
       "      <td>...</td>\n",
       "      <td>...</td>\n",
       "      <td>...</td>\n",
       "      <td>...</td>\n",
       "      <td>...</td>\n",
       "      <td>...</td>\n",
       "      <td>...</td>\n",
       "      <td>...</td>\n",
       "      <td>...</td>\n",
       "      <td>...</td>\n",
       "      <td>...</td>\n",
       "      <td>...</td>\n",
       "      <td>...</td>\n",
       "      <td>...</td>\n",
       "      <td>...</td>\n",
       "      <td>...</td>\n",
       "      <td>...</td>\n",
       "      <td>...</td>\n",
       "      <td>...</td>\n",
       "    </tr>\n",
       "    <tr>\n",
       "      <th>1650</th>\n",
       "      <td>0.809524</td>\n",
       "      <td>0</td>\n",
       "      <td>0</td>\n",
       "      <td>0</td>\n",
       "      <td>0</td>\n",
       "      <td>0</td>\n",
       "      <td>0</td>\n",
       "      <td>0</td>\n",
       "      <td>0</td>\n",
       "      <td>0</td>\n",
       "      <td>...</td>\n",
       "      <td>0</td>\n",
       "      <td>0</td>\n",
       "      <td>1</td>\n",
       "      <td>0.333333</td>\n",
       "      <td>0.122825</td>\n",
       "      <td>0.518027</td>\n",
       "      <td>0</td>\n",
       "      <td>1</td>\n",
       "      <td>0</td>\n",
       "      <td>0</td>\n",
       "    </tr>\n",
       "    <tr>\n",
       "      <th>1100</th>\n",
       "      <td>0.428571</td>\n",
       "      <td>0</td>\n",
       "      <td>0</td>\n",
       "      <td>0</td>\n",
       "      <td>0</td>\n",
       "      <td>0</td>\n",
       "      <td>0</td>\n",
       "      <td>0</td>\n",
       "      <td>0</td>\n",
       "      <td>0</td>\n",
       "      <td>...</td>\n",
       "      <td>0</td>\n",
       "      <td>0</td>\n",
       "      <td>1</td>\n",
       "      <td>0.416667</td>\n",
       "      <td>0.142041</td>\n",
       "      <td>0.813283</td>\n",
       "      <td>1</td>\n",
       "      <td>0</td>\n",
       "      <td>0</td>\n",
       "      <td>0</td>\n",
       "    </tr>\n",
       "    <tr>\n",
       "      <th>1135</th>\n",
       "      <td>0.714286</td>\n",
       "      <td>0</td>\n",
       "      <td>0</td>\n",
       "      <td>0</td>\n",
       "      <td>0</td>\n",
       "      <td>0</td>\n",
       "      <td>0</td>\n",
       "      <td>0</td>\n",
       "      <td>0</td>\n",
       "      <td>0</td>\n",
       "      <td>...</td>\n",
       "      <td>0</td>\n",
       "      <td>0</td>\n",
       "      <td>1</td>\n",
       "      <td>0.000000</td>\n",
       "      <td>0.295767</td>\n",
       "      <td>0.675522</td>\n",
       "      <td>0</td>\n",
       "      <td>0</td>\n",
       "      <td>0</td>\n",
       "      <td>1</td>\n",
       "    </tr>\n",
       "    <tr>\n",
       "      <th>1300</th>\n",
       "      <td>0.857143</td>\n",
       "      <td>0</td>\n",
       "      <td>0</td>\n",
       "      <td>0</td>\n",
       "      <td>0</td>\n",
       "      <td>0</td>\n",
       "      <td>0</td>\n",
       "      <td>0</td>\n",
       "      <td>0</td>\n",
       "      <td>0</td>\n",
       "      <td>...</td>\n",
       "      <td>1</td>\n",
       "      <td>0</td>\n",
       "      <td>0</td>\n",
       "      <td>0.500000</td>\n",
       "      <td>0.241755</td>\n",
       "      <td>0.734345</td>\n",
       "      <td>0</td>\n",
       "      <td>0</td>\n",
       "      <td>0</td>\n",
       "      <td>1</td>\n",
       "    </tr>\n",
       "    <tr>\n",
       "      <th>865</th>\n",
       "      <td>0.761905</td>\n",
       "      <td>0</td>\n",
       "      <td>0</td>\n",
       "      <td>0</td>\n",
       "      <td>0</td>\n",
       "      <td>0</td>\n",
       "      <td>0</td>\n",
       "      <td>0</td>\n",
       "      <td>0</td>\n",
       "      <td>0</td>\n",
       "      <td>...</td>\n",
       "      <td>0</td>\n",
       "      <td>0</td>\n",
       "      <td>0</td>\n",
       "      <td>0.916667</td>\n",
       "      <td>0.057647</td>\n",
       "      <td>0.485009</td>\n",
       "      <td>0</td>\n",
       "      <td>1</td>\n",
       "      <td>0</td>\n",
       "      <td>0</td>\n",
       "    </tr>\n",
       "  </tbody>\n",
       "</table>\n",
       "<p>2674 rows × 63 columns</p>\n",
       "</div>"
      ],
      "text/plain": [
       "           year  is_GAC  is_maserati  is_daihatsu  is_porsche  is_ds  \\\n",
       "index                                                                  \n",
       "1608   0.952381       0            0            0           0      0   \n",
       "1329   0.761905       0            0            0           0      0   \n",
       "1782   0.333333       0            0            0           0      0   \n",
       "1193   0.523810       0            0            0           0      0   \n",
       "1166   1.000000       0            0            0           0      0   \n",
       "...         ...     ...          ...          ...         ...    ...   \n",
       "1650   0.809524       0            0            0           0      0   \n",
       "1100   0.428571       0            0            0           0      0   \n",
       "1135   0.714286       0            0            0           0      0   \n",
       "1300   0.857143       0            0            0           0      0   \n",
       "865    0.761905       0            0            0           0      0   \n",
       "\n",
       "       is_smart  is_seres  is_cadillac  is_דודג'  ...  is_leasing  is_company  \\\n",
       "index                                             ...                           \n",
       "1608          0         0            0         0  ...           0           0   \n",
       "1329          0         0            0         0  ...           0           0   \n",
       "1782          0         0            0         0  ...           0           0   \n",
       "1193          0         0            0         0  ...           1           0   \n",
       "1166          0         0            0         0  ...           0           0   \n",
       "...         ...       ...          ...       ...  ...         ...         ...   \n",
       "1650          0         0            0         0  ...           0           0   \n",
       "1100          0         0            0         0  ...           0           0   \n",
       "1135          0         0            0         0  ...           0           0   \n",
       "1300          0         0            0         0  ...           1           0   \n",
       "865           0         0            0         0  ...           0           0   \n",
       "\n",
       "       is_private  next_test_in  annual_licensing_fee  car_length  large  \\\n",
       "index                                                                      \n",
       "1608            1      0.000000              0.645547    0.764326      1   \n",
       "1329            1      0.166667              0.188003    0.600759      0   \n",
       "1782            1      0.166667              0.050377    0.652751      0   \n",
       "1193            0      0.583333              0.027266    0.493359      0   \n",
       "1166            1      0.833333              1.000000    0.489943      0   \n",
       "...           ...           ...                   ...         ...    ...   \n",
       "1650            1      0.333333              0.122825    0.518027      0   \n",
       "1100            1      0.416667              0.142041    0.813283      1   \n",
       "1135            1      0.000000              0.295767    0.675522      0   \n",
       "1300            0      0.500000              0.241755    0.734345      0   \n",
       "865             0      0.916667              0.057647    0.485009      0   \n",
       "\n",
       "       small  mini  medium  \n",
       "index                       \n",
       "1608       0     0       0  \n",
       "1329       0     0       1  \n",
       "1782       0     0       1  \n",
       "1193       1     0       0  \n",
       "1166       1     0       0  \n",
       "...      ...   ...     ...  \n",
       "1650       1     0       0  \n",
       "1100       0     0       0  \n",
       "1135       0     0       1  \n",
       "1300       0     0       1  \n",
       "865        1     0       0  \n",
       "\n",
       "[2674 rows x 63 columns]"
      ]
     },
     "execution_count": 376,
     "metadata": {},
     "output_type": "execute_result"
    }
   ],
   "source": [
    "x_train = pd.read_csv(r'C:\\Users\\avoav\\Introduction to Data Science\\Project סמסטר א\\project-semester-a\\ScaledTrainSet_data.csv' , index_col  = 'index')\n",
    "x_train"
   ]
  },
  {
   "cell_type": "code",
   "execution_count": 524,
   "id": "b769377e",
   "metadata": {},
   "outputs": [],
   "source": [
    "x_target = pd.read_csv(r'C:\\Users\\avoav\\Introduction to Data Science\\Project סמסטר א\\project-semester-a\\TrainSet-target_data.csv' , index_col='index' )\n"
   ]
  },
  {
   "cell_type": "code",
   "execution_count": 538,
   "id": "d4ba3386",
   "metadata": {},
   "outputs": [],
   "source": [
    "#  ע\"מ לנרמל גם את עמודת המחירים של הטריין השתמשנו בפונקציה הזו \n",
    "\n",
    "lab_enc = preprocessing.LabelEncoder()\n",
    "x_target = lab_enc.fit_transform(np.ravel(x_target, order = 'C'))\n",
    "#print(utils.multiclass.type_of_target(x_target)) \n",
    "\n",
    "# או זו:\n",
    "\n",
    "min_max_scaler = MinMaxScaler()\n",
    "scaledtarget = x_target.copy()\n",
    "scaledtarget[[\"price\"]] = min_max_scaler.fit_transform(scaledtarget[[\"price\"]])"
   ]
  },
  {
   "cell_type": "markdown",
   "id": "72f10ff6",
   "metadata": {},
   "source": [
    "# Cross-validation :"
   ]
  },
  {
   "cell_type": "markdown",
   "id": "827ef933",
   "metadata": {},
   "source": [
    "first we return the demi-model (the average) and try to be better than him.... "
   ]
  },
  {
   "cell_type": "code",
   "execution_count": 539,
   "id": "3f1b93c3",
   "metadata": {},
   "outputs": [
    {
     "name": "stdout",
     "output_type": "stream",
     "text": [
      "RMSE: 77634.8801434407\n",
      "accuracy : 0.3853355463\n"
     ]
    }
   ],
   "source": [
    " # בדיקת מודל אפס: \n",
    "\n",
    "def targetTransform(len_target):\n",
    "    target_ = np.zeros(len_target)\n",
    "    for i in range (len_target):\n",
    "        target_[i] +=  x_target.mean()\n",
    "    return target_\n",
    "\n",
    "x_train1 , x_test1 , y_train1 , y_test1= sklearn.model_selection.train_test_split(x_train, x_target , test_size=0.1 , random_state = 2) \n",
    "\n",
    "pred = targetTransform(len(y_test1))\n",
    "#print (f\"\\n{pred}\")\n",
    "print (f\"RMSE: {np.sqrt(mean_squared_error(y_test1 , pred))}\")\n",
    "\n",
    "#במידה והמודל היה מחזיר תמיד את ממוצע מחיר הרכבים בטבלה זו הייתה מידת הדיוק שלו\n",
    "# מדוייק יותר- כרגע הגענו למרחק הממוצע מחיזוי נכון בשקלים.\n",
    "\n",
    "#29915.4789509615 = 0.8733269871229924\n",
    "# 77634.8801434407 = פי 2.5 פחות טוב = 0.3853355463\n",
    "print (\"accuracy :\" , 0.3853355463)"
   ]
  },
  {
   "cell_type": "code",
   "execution_count": 540,
   "id": "bef0391e",
   "metadata": {},
   "outputs": [
    {
     "name": "stdout",
     "output_type": "stream",
     "text": [
      "accuracy: 0.015706806282722512\n"
     ]
    }
   ],
   "source": [
    "#Dummy-model method:\n",
    "    #Checking the prices mean, and then its percent.\n",
    "    #Count the prices that between (price+percent) and (price-percent), duo the price is a spesific number (10+ digits)\n",
    "    #Divide those counted prices by the amount of prices.\n",
    "\n",
    "x_target.mean() # 0.19357003724451638\n",
    "x_target.mean()/100 # 0.0019357003724451637\n",
    "\n",
    "maxLim = x_target.mean() + x_target.mean()/100\n",
    "minLim = x_target.mean() - x_target.mean()/100\n",
    "counter = x_target.where(x_target > minLim).where(x_target < maxLim).dropna().count()\n",
    "print (\"accuracy:\" , (float)(counter / x_target.count()))\n",
    "#וזה אחוז הדיוק שאנחנו צריכים להיות מעליו"
   ]
  },
  {
   "cell_type": "markdown",
   "id": "4a32df94",
   "metadata": {},
   "source": [
    "אפשר לראות שאם נשתמש ב\"מודל אפס\" שמחזיר פשוט את הממוצע של המחירים בטבלה\n",
    "הטעות חמורה בהרבה מאשר במודל שלנו "
   ]
  },
  {
   "cell_type": "markdown",
   "id": "c16eb6dd",
   "metadata": {},
   "source": [
    "## select and train a model"
   ]
  },
  {
   "cell_type": "markdown",
   "id": "24713022",
   "metadata": {},
   "source": [
    "# Linear Regression model"
   ]
  },
  {
   "cell_type": "code",
   "execution_count": 541,
   "id": "45bdf4a0",
   "metadata": {},
   "outputs": [
    {
     "name": "stdout",
     "output_type": "stream",
     "text": [
      "RMSA: 29915.4789509615\n",
      "\n",
      "score: 0.8733269871229924\n"
     ]
    }
   ],
   "source": [
    "#את הדאטה שהקדשנו לטריין אנחנו מפצלים שוב ע\"מ לבחון את מודל הרגרסיה הלינארית עם רנדום אחר\n",
    "\n",
    "x_train1 , x_test1 , y_train1 , y_test1= sklearn.model_selection.train_test_split(x_train, np.ravel(x_target, order = 'C') , test_size=0.2 , random_state = 2) \n",
    "\n",
    "lin_reg =  LinearRegression()\n",
    "fit1= lin_reg.fit(x_train1, y_train1)\n",
    "\n",
    "pred = fit1.predict(x_test1)\n",
    "#print (f\"\\n{pred}\")\n",
    "print (f\"RMSA: {np.sqrt(mean_squared_error(y_test1 , pred))}\\n\")\n",
    "\n",
    "print (\"score:\" , lin_reg.score( x_test1, y_test1))\n"
   ]
  },
  {
   "cell_type": "markdown",
   "id": "12610fa7",
   "metadata": {},
   "source": [
    "\n",
    "לפני כן הדיוק היה די גרוע, ניסינו להבין למה לא הצלחנו לחזות טוב עם המודל שלנו... עברנו על המכוניות ידנית וראינו באילו מכוניות הטעויות הגדולות קרו\n",
    "החלטנו למחוק את הדוגמאות הקיצוניות וקיבלנו שיפור עצום"
   ]
  },
  {
   "cell_type": "code",
   "execution_count": 545,
   "id": "ae3d25aa",
   "metadata": {},
   "outputs": [
    {
     "name": "stdout",
     "output_type": "stream",
     "text": [
      "scores: [ 8.43414762e-01  8.71194599e-01  8.65839748e-01  9.16968917e-01\n",
      "  8.72831535e-01  8.47198421e-01  8.89466427e-01  8.94642078e-01\n",
      "  8.49158091e-01  8.88292806e-01  9.15643351e-01  9.11263524e-01\n",
      "  9.15432036e-01  8.33701628e-01  9.01462248e-01  8.26081489e-01\n",
      "  8.83694055e-01  8.49532422e-01  8.93541397e-01  8.84106372e-01\n",
      "  8.37016749e-01  9.16553636e-01  7.42212229e-01  8.55401282e-01\n",
      "  8.50988355e-01  8.10184164e-01  9.21055808e-01  8.87566675e-01\n",
      "  9.32249068e-01  9.37454449e-01  4.82220913e-01  7.65261854e-01\n",
      "  7.29377139e-01 -3.29555327e+20 -2.14289428e+23  9.07658082e-01\n",
      "  8.89855007e-01 -2.76625020e+18  9.03979299e-01  9.32477753e-01]\n",
      "Mean: -5.365543732887243e+21\n",
      "Standard deviation: 3.34546353562402e+22\n",
      "score: -3.616475975610805e+20\n"
     ]
    }
   ],
   "source": [
    "def display_scores(scores):\n",
    "    print (\"scores:\",  scores)\n",
    "    print(\"Mean:\" , scores.mean() )\n",
    "    print (\"Standard deviation:\" , scores.std()) \n",
    "    \n",
    "# x_train4 , x_test4 , y_train4 , y_test4= sklearn.model_selection.train_test_split(x_train, x_target , test_size=0.2 , random_state = 4)   \n",
    "\n",
    "# lin_reg =  LinearRegression()\n",
    "# lin_reg = lin_reg.fit(x_train4, y_train4)\n",
    "\n",
    "scores = cross_val_score(lin_reg, x_train , x_target ,cv=40 , scoring = \"r2\" )\n",
    "\n",
    "display_scores(scores)\n",
    "print (\"score:\" , lin_reg.score(x_test4 , y_test4))\n"
   ]
  },
  {
   "cell_type": "code",
   "execution_count": 543,
   "id": "399b799d",
   "metadata": {},
   "outputs": [
    {
     "name": "stdout",
     "output_type": "stream",
     "text": [
      "r = 0.9740470477033635\n",
      "r^2 = 0.9487676511396385\n",
      "for cv = 77\n"
     ]
    }
   ],
   "source": [
    "#This method check which cv gives the best score.\n",
    "    #if we make this one a function -> the function will return the bestCV\n",
    "CV_COUNT = 100\n",
    "maxScore = 0\n",
    "bestCV = 0\n",
    "bestScoreI = 0\n",
    "scr = np.zeros(CV_COUNT)\n",
    "\n",
    "for i in np.arange(2, CV_COUNT+2):\n",
    "    bestScoreI = 0\n",
    "    ind = cross_val_score(lin_reg, x_train, x_target, cv=i, scoring = \"r2\")\n",
    "    for j in ind:\n",
    "        if j > maxScore:\n",
    "            maxScore = j\n",
    "            bestCV = i\n",
    "        if j > bestScoreI:\n",
    "            scr[i-2] = pow(j, 2)    \n",
    "    \n",
    "print(\"r =\", maxScore)\n",
    "print(\"r^2 =\", pow(maxScore, 2))\n",
    "print(\"for cv =\", bestCV)\n",
    "#print(scr)\n",
    "#print (cross_val_score(lin_reg, x_train, x_target, cv=14)) #a method to print scores by cv."
   ]
  },
  {
   "cell_type": "code",
   "execution_count": 551,
   "id": "fcb77d63",
   "metadata": {},
   "outputs": [
    {
     "name": "stdout",
     "output_type": "stream",
     "text": [
      "0.9545137277864899\n",
      "for cv= 39\n"
     ]
    }
   ],
   "source": [
    "m = 0\n",
    "whatCV = 0\n",
    "\n",
    "for i in np.arange(2, 40):\n",
    "    ind = cross_val_score(lin_reg, x_train, x_target, cv=i)\n",
    "    for j in ind:\n",
    "        if j > m:\n",
    "            m = j\n",
    "            whatCV = i\n",
    "    \n",
    "print(m)\n",
    "print(\"for cv=\", i)\n",
    "# cv=39 זהו ההיפר משתנה הכי טוב שלנו ברגרסיה ליניארית"
   ]
  },
  {
   "cell_type": "markdown",
   "id": "01bcfd24",
   "metadata": {},
   "source": [
    "# DecisionTreeRegressor model"
   ]
  },
  {
   "cell_type": "code",
   "execution_count": 517,
   "id": "e9599b20",
   "metadata": {},
   "outputs": [
    {
     "name": "stdout",
     "output_type": "stream",
     "text": [
      "RMSA: 35414.93098683433\n",
      "\n",
      "score: 0.7904761469770469\n"
     ]
    }
   ],
   "source": [
    "x_train1 , x_test1 , y_train1 , y_test1= sklearn.model_selection.train_test_split(x_train, x_target , test_size=0.1 , random_state = 2) \n",
    "\n",
    "\n",
    "tree_reg =  DecisionTreeRegressor()\n",
    "fit1 = tree_reg.fit(x_train1 , y_train1)\n",
    "pred = fit1.predict(x_test1)\n",
    "#print (f\"\\n{pred}\")\n",
    "print (f\"RMSA: {np.sqrt(mean_squared_error(y_test1 , pred))}\\n\")\n",
    "print (\"score:\" , tree_reg.score(x_test1 , y_test1))"
   ]
  },
  {
   "cell_type": "raw",
   "id": "6376644f",
   "metadata": {},
   "source": [
    "ניתן להבחין שבמודל עץ הנל הדיוק פחות מוצלח ובכל זאת מדובר כאן בניסיון אחד. יכול להיות שאם נשנה את ההיפר פרמטרים נקבל אחוזי הצלחה גבוהים יותר. \n",
    " gridsearch לכן נשתמש ב"
   ]
  },
  {
   "cell_type": "markdown",
   "id": "de24c937",
   "metadata": {},
   "source": [
    "#  gridsearch for Linear Regression:\n"
   ]
  },
  {
   "cell_type": "code",
   "execution_count": 509,
   "id": "25cd050e",
   "metadata": {},
   "outputs": [
    {
     "name": "stderr",
     "output_type": "stream",
     "text": [
      "C:\\Users\\avoav\\anaconda3\\lib\\site-packages\\sklearn\\model_selection\\_split.py:666: UserWarning: The least populated class in y has only 1 members, which is less than n_splits=3.\n",
      "  warnings.warn((\"The least populated class in y has only %d\"\n"
     ]
    },
    {
     "data": {
      "text/html": [
       "<div>\n",
       "<style scoped>\n",
       "    .dataframe tbody tr th:only-of-type {\n",
       "        vertical-align: middle;\n",
       "    }\n",
       "\n",
       "    .dataframe tbody tr th {\n",
       "        vertical-align: top;\n",
       "    }\n",
       "\n",
       "    .dataframe thead th {\n",
       "        text-align: right;\n",
       "    }\n",
       "</style>\n",
       "<table border=\"1\" class=\"dataframe\">\n",
       "  <thead>\n",
       "    <tr style=\"text-align: right;\">\n",
       "      <th></th>\n",
       "      <th>param_C</th>\n",
       "      <th>param_kernel</th>\n",
       "      <th>mean_test_score</th>\n",
       "    </tr>\n",
       "  </thead>\n",
       "  <tbody>\n",
       "    <tr>\n",
       "      <th>0</th>\n",
       "      <td>1</td>\n",
       "      <td>linear</td>\n",
       "      <td>-3.093177e+09</td>\n",
       "    </tr>\n",
       "    <tr>\n",
       "      <th>1</th>\n",
       "      <td>1</td>\n",
       "      <td>rbf</td>\n",
       "      <td>-6.158225e+09</td>\n",
       "    </tr>\n",
       "    <tr>\n",
       "      <th>2</th>\n",
       "      <td>3</td>\n",
       "      <td>linear</td>\n",
       "      <td>-3.188704e+09</td>\n",
       "    </tr>\n",
       "    <tr>\n",
       "      <th>3</th>\n",
       "      <td>3</td>\n",
       "      <td>rbf</td>\n",
       "      <td>-5.887711e+09</td>\n",
       "    </tr>\n",
       "    <tr>\n",
       "      <th>4</th>\n",
       "      <td>5</td>\n",
       "      <td>linear</td>\n",
       "      <td>-2.910721e+09</td>\n",
       "    </tr>\n",
       "    <tr>\n",
       "      <th>5</th>\n",
       "      <td>5</td>\n",
       "      <td>rbf</td>\n",
       "      <td>-5.773339e+09</td>\n",
       "    </tr>\n",
       "  </tbody>\n",
       "</table>\n",
       "</div>"
      ],
      "text/plain": [
       "  param_C param_kernel  mean_test_score\n",
       "0       1       linear    -3.093177e+09\n",
       "1       1          rbf    -6.158225e+09\n",
       "2       3       linear    -3.188704e+09\n",
       "3       3          rbf    -5.887711e+09\n",
       "4       5       linear    -2.910721e+09\n",
       "5       5          rbf    -5.773339e+09"
      ]
     },
     "execution_count": 509,
     "metadata": {},
     "output_type": "execute_result"
    }
   ],
   "source": [
    "\n",
    "param_grid_LR = [  {'C' : [1 ,3 ,5 ] ,  'kernel': ['linear' , 'rbf']} ]\n",
    "\n",
    "grid_search = GridSearchCV(svm.SVC(gamma = 'auto') , param_grid_LR , cv = 3,\n",
    "                                   scoring = 'neg_mean_squared_error' , return_train_score = False)\n",
    "grid_search.fit(x_train1, y_train1)\n",
    "df = pd.DataFrame(grid_search.cv_results_)\n",
    "df[['param_C' , 'param_kernel' , 'mean_test_score']]\n",
    "\n"
   ]
  },
  {
   "cell_type": "code",
   "execution_count": 502,
   "id": "cf69d9a9",
   "metadata": {},
   "outputs": [
    {
     "name": "stdout",
     "output_type": "stream",
     "text": [
      "best score : -2910721104.1374474\n",
      "best params: {'C': 5, 'kernel': 'linear'}\n"
     ]
    }
   ],
   "source": [
    "print (\"best score :\" , grid_search.best_score_)\n",
    "print (\"best params:\" , grid_search.best_params_)\n"
   ]
  },
  {
   "cell_type": "code",
   "execution_count": 550,
   "id": "36e31bb7",
   "metadata": {},
   "outputs": [
    {
     "data": {
      "text/plain": [
       "0.8733269871229924"
      ]
     },
     "execution_count": 550,
     "metadata": {},
     "output_type": "execute_result"
    }
   ],
   "source": [
    "# שמירה של המודל: \n",
    "LR_model =  LinearRegression()\n",
    "LR_model.fit(x_train1 , y_train1)\n",
    "joblib.dump(LR_model , 'Linear Regression-model_1.joblib')\n",
    "\n",
    "#שימוש במודל קיים : \n",
    "model = joblib.load('Linear Regression-model_1.joblib')\n",
    "pred = model.predict(x_test1)\n",
    "model.score(x_test1 , y_test1)"
   ]
  },
  {
   "cell_type": "markdown",
   "id": "af8e9d8f",
   "metadata": {},
   "source": [
    "#  gridsearch for tree Regressor:\n"
   ]
  },
  {
   "cell_type": "code",
   "execution_count": 511,
   "id": "7ece203b",
   "metadata": {},
   "outputs": [
    {
     "name": "stdout",
     "output_type": "stream",
     "text": [
      "best score : -902201774.6013699\n",
      "best params: {'max_features': 40, 'min_samples_split': 15, 'splitter': 'best'}\n"
     ]
    }
   ],
   "source": [
    "param_grid_DT = [{'splitter' : ['best' , \"random\"] , 'max_features':[10, 15 ,20 , 40] , 'min_samples_split': [2 , 3 , 5, 15], }\n",
    "                ]\n",
    "grid_search = GridSearchCV(tree_reg , param_grid_DT , cv = 3,\n",
    "                                   scoring = 'neg_mean_squared_error' , return_train_score = False)\n",
    "grid_search.fit(x_train1, y_train1)\n",
    "df = pd.DataFrame(grid_search.cv_results_)\n",
    "\n",
    "df[['param_max_features' , 'param_min_samples_split' , 'param_splitter' , 'params' , 'mean_test_score']]\n",
    "\n",
    "print (\"best score :\" , grid_search.best_score_)\n",
    "print (\"best params:\" , grid_search.best_params_)\n"
   ]
  },
  {
   "cell_type": "code",
   "execution_count": 549,
   "id": "5c57c5b5",
   "metadata": {},
   "outputs": [
    {
     "data": {
      "text/plain": [
       "0.8148117765661046"
      ]
     },
     "execution_count": 549,
     "metadata": {},
     "output_type": "execute_result"
    }
   ],
   "source": [
    "# שמירה של המודל: \n",
    "tree_model =  DecisionTreeRegressor()\n",
    "tree_model.fit(x_train1 , y_train1)\n",
    "joblib.dump(tree_model , 'tree-model_1.joblib')\n",
    "\n",
    "#שימוש במודל קיים : \n",
    "model = joblib.load('tree-model_1.joblib')\n",
    "pred = model.predict(x_test1)\n",
    "model.score(x_test1 , y_test1)"
   ]
  },
  {
   "cell_type": "markdown",
   "id": "54d77539",
   "metadata": {},
   "source": [
    "## found the best classifier and hiperparameters , for the two models"
   ]
  },
  {
   "cell_type": "code",
   "execution_count": 554,
   "id": "6a586152",
   "metadata": {},
   "outputs": [
    {
     "name": "stderr",
     "output_type": "stream",
     "text": [
      "C:\\Users\\avoav\\anaconda3\\lib\\site-packages\\sklearn\\model_selection\\_split.py:666: UserWarning: The least populated class in y has only 1 members, which is less than n_splits=3.\n",
      "  warnings.warn((\"The least populated class in y has only %d\"\n"
     ]
    },
    {
     "name": "stdout",
     "output_type": "stream",
     "text": [
      "best classifier:  GridSearchCV(estimator=DecisionTreeRegressor(),\n",
      "             param_grid=[{'max_features': [2, 10, 20],\n",
      "                          'min_samples_split': [2, 3, 5],\n",
      "                          'splitter': ['best', 'random']}])  Accuracy=  0.8107050958564695\n"
     ]
    }
   ],
   "source": [
    "X_train, X_test, y_train, y_test = train_test_split(x_train,np.ravel(x_target, order = 'C') , test_size=0.20, random_state=4)\n",
    "\n",
    "names = [\"Decision Tree\", \"Linear Regression\", \"zero model\"]\n",
    "\n",
    "param_grid_DT = [{'splitter' : ['best' , \"random\"] , 'max_features':[2 , 10 ,20] , 'min_samples_split': [2 , 3 , 5]}\n",
    "                ]\n",
    "param_grid_LR =  [  {'C' : [1 ,3 ,5] ,  'kernel': ['linear' , 'rbf']} ]\n",
    "\n",
    "classifiers = [\n",
    "    DecisionTreeRegressor()\n",
    "   , LinearRegression() ]\n",
    "\n",
    "score = 0\n",
    "for name, clf in zip(names, classifiers):\n",
    "    if name == \"Decision Tree\":\n",
    "        clf = DecisionTreeRegressor()\n",
    "        grid_search = GridSearchCV(clf, param_grid=param_grid_DT)\n",
    "        grid_search.fit(X_train, y_train)\n",
    "        if grid_search.best_score_ > score:\n",
    "            score = grid_search.best_score_\n",
    "            best_clf = grid_search\n",
    "    \n",
    "    elif name == \"Linear Regression\":\n",
    "        clf = svm.SVC(gamma = 'auto')\n",
    "        grid_search = GridSearchCV(svm.SVC(gamma = 'auto'), param_grid_LR , cv = 3,\n",
    "                                   scoring = 'neg_mean_squared_error' , return_train_score = True)\n",
    "        grid_search.fit(X_train, y_train)\n",
    "        if grid_search.best_score_ > score:\n",
    "            score = grid_search.best_score_\n",
    "            best_clf = grid_search\n",
    "\n",
    "\n",
    "print(\"best classifier: \", best_clf, \" Accuracy= \", score)\n"
   ]
  },
  {
   "cell_type": "code",
   "execution_count": 520,
   "id": "516bcc2e",
   "metadata": {},
   "outputs": [
    {
     "name": "stderr",
     "output_type": "stream",
     "text": [
      "C:\\Users\\avoav\\anaconda3\\lib\\site-packages\\sklearn\\model_selection\\_split.py:666: UserWarning: The least populated class in y has only 1 members, which is less than n_splits=3.\n",
      "  warnings.warn((\"The least populated class in y has only %d\"\n"
     ]
    },
    {
     "data": {
      "text/plain": [
       "array([0.03475336, 0.02693603, 0.03030303])"
      ]
     },
     "execution_count": 520,
     "metadata": {},
     "output_type": "execute_result"
    }
   ],
   "source": [
    "#trying....\n",
    "clf = svm.SVC(kernel='linear', C=1, random_state=2).fit(x_train ,np.ravel(x_target, order = 'C') )\n",
    "scores = cross_val_score(clf, x_train , x_target, cv=3)\n",
    "scores\n"
   ]
  },
  {
   "cell_type": "code",
   "execution_count": 521,
   "id": "b2a1aeee",
   "metadata": {},
   "outputs": [
    {
     "name": "stderr",
     "output_type": "stream",
     "text": [
      "C:\\Users\\avoav\\anaconda3\\lib\\site-packages\\sklearn\\model_selection\\_split.py:666: UserWarning: The least populated class in y has only 1 members, which is less than n_splits=3.\n",
      "  warnings.warn((\"The least populated class in y has only %d\"\n"
     ]
    },
    {
     "data": {
      "text/plain": [
       "0.026905829596412557"
      ]
     },
     "execution_count": 521,
     "metadata": {},
     "output_type": "execute_result"
    }
   ],
   "source": [
    "#so that is the best score :  \n",
    "clf = svm.SVC(kernel='linear', C=5, random_state=2).fit(x_train ,np.ravel(x_target, order = 'C') )\n",
    "scores = cross_val_score(clf, x_train , x_target, cv=3)\n",
    "scores[0]"
   ]
  }
 ],
 "metadata": {
  "kernelspec": {
   "display_name": "Python 3",
   "language": "python",
   "name": "python3"
  },
  "language_info": {
   "codemirror_mode": {
    "name": "ipython",
    "version": 3
   },
   "file_extension": ".py",
   "mimetype": "text/x-python",
   "name": "python",
   "nbconvert_exporter": "python",
   "pygments_lexer": "ipython3",
   "version": "3.8.8"
  }
 },
 "nbformat": 4,
 "nbformat_minor": 5
}
