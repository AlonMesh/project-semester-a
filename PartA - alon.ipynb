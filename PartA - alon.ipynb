{
 "cells": [
  {
   "cell_type": "markdown",
   "id": "9398ff34",
   "metadata": {},
   "source": [
    "# Turning to diffrent base"
   ]
  },
  {
   "cell_type": "code",
   "execution_count": 112,
   "id": "12e6a3f5",
   "metadata": {},
   "outputs": [],
   "source": [
    "def intToBin(n):\n",
    "    bits = []\n",
    "\n",
    "    bits.append(str(0 if n%2 == 0 else 1))\n",
    "    while n > 1:\n",
    "        n = n // 2\n",
    "        bits.append(str(0 if n%2 == 0 else 1))\n",
    "\n",
    "    bits.reverse()\n",
    "    return ''.join(bits)"
   ]
  },
  {
   "cell_type": "code",
   "execution_count": 113,
   "id": "b746dec8",
   "metadata": {},
   "outputs": [],
   "source": [
    "def intToHexa(dec_value):\n",
    "    ret_val = str()\n",
    "    while dec_value > 0:\n",
    "        hex_value=dec_value%16\n",
    "        dec_value=dec_value//16\n",
    "        ret_val = getHexChar(hex_value) + ret_val\n",
    "    return ret_val\n",
    "\n",
    "def getHexChar(dec_digit):\n",
    "    if dec_digit < 10:\n",
    "        return str(dec_digit)\n",
    "    if dec_digit == 10:\n",
    "        return \"A\"\n",
    "    if dec_digit == 11:\n",
    "        return \"B\"\n",
    "    if dec_digit == 12:\n",
    "        return \"C\"\n",
    "    if dec_digit == 13:\n",
    "        return \"D\"\n",
    "    if dec_digit == 14:\n",
    "        return \"E\"\n",
    "    if dec_digit == 15:\n",
    "        return \"F\"\n"
   ]
  },
  {
   "cell_type": "code",
   "execution_count": 126,
   "id": "b17b8c8c",
   "metadata": {},
   "outputs": [],
   "source": [
    "def decToOctal(n):\n",
    " \n",
    "    # array to store\n",
    "    # octal number\n",
    "    octalNum = [0] * 100\n",
    " \n",
    "    # counter for octal\n",
    "    # number array\n",
    "    i = 0\n",
    "    while (n != 0):\n",
    " \n",
    "        # storing remainder\n",
    "        # in octal array\n",
    "        octalNum[i] = n % 8\n",
    "        n = int(n / 8)\n",
    "        i += 1\n",
    " \n",
    "    # printing octal number\n",
    "    # array in reverse order\n",
    "    for j in range(i - 1, -1, -1):\n",
    "        print(octalNum[j], end=\"\")\n"
   ]
  },
  {
   "cell_type": "code",
   "execution_count": 139,
   "id": "7935a6c3",
   "metadata": {
    "scrolled": true
   },
   "outputs": [
    {
     "name": "stdout",
     "output_type": "stream",
     "text": [
      "10100\n",
      "2D\n",
      "6405"
     ]
    }
   ],
   "source": [
    "print(intToBin(20))\n",
    "print(intToHexa(45))\n",
    "decToOctal(3333)"
   ]
  },
  {
   "cell_type": "markdown",
   "id": "ef5735ab",
   "metadata": {},
   "source": [
    "# Pandas "
   ]
  },
  {
   "cell_type": "code",
   "execution_count": 143,
   "id": "f560b706",
   "metadata": {},
   "outputs": [],
   "source": [
    "import pandas as pd\n",
    "cast = pd.read_csv(r'C:\\Users\\Alon\\Desktop\\קורסים\\מדעי הנתונים\\cast.csv')"
   ]
  },
  {
   "cell_type": "code",
   "execution_count": null,
   "id": "01dd5a2f",
   "metadata": {},
   "outputs": [],
   "source": [
    "# How many movies have the title \"Hamlet\"?"
   ]
  },
  {
   "cell_type": "code",
   "execution_count": 166,
   "id": "ee1079df",
   "metadata": {
    "scrolled": true
   },
   "outputs": [
    {
     "data": {
      "text/plain": [
       "234"
      ]
     },
     "execution_count": 166,
     "metadata": {},
     "output_type": "execute_result"
    }
   ],
   "source": [
    "cast[cast.title == 'Hamlet'].dropna().title.count()"
   ]
  },
  {
   "cell_type": "code",
   "execution_count": null,
   "id": "165ee359",
   "metadata": {},
   "outputs": [],
   "source": [
    "#List all of the \"Treasure Island\" movies from earliest to most recent"
   ]
  },
  {
   "cell_type": "code",
   "execution_count": 160,
   "id": "82211b0a",
   "metadata": {
    "scrolled": true
   },
   "outputs": [
    {
     "data": {
      "text/html": [
       "<div>\n",
       "<style scoped>\n",
       "    .dataframe tbody tr th:only-of-type {\n",
       "        vertical-align: middle;\n",
       "    }\n",
       "\n",
       "    .dataframe tbody tr th {\n",
       "        vertical-align: top;\n",
       "    }\n",
       "\n",
       "    .dataframe thead th {\n",
       "        text-align: right;\n",
       "    }\n",
       "</style>\n",
       "<table border=\"1\" class=\"dataframe\">\n",
       "  <thead>\n",
       "    <tr style=\"text-align: right;\">\n",
       "      <th></th>\n",
       "      <th>title</th>\n",
       "      <th>year</th>\n",
       "      <th>name</th>\n",
       "      <th>type</th>\n",
       "      <th>character</th>\n",
       "      <th>n</th>\n",
       "    </tr>\n",
       "  </thead>\n",
       "  <tbody>\n",
       "    <tr>\n",
       "      <th>3046750</th>\n",
       "      <td>Treasure Island</td>\n",
       "      <td>1918.0</td>\n",
       "      <td>Violet Radcliffe</td>\n",
       "      <td>actress</td>\n",
       "      <td>Long John Silver</td>\n",
       "      <td>3.0</td>\n",
       "    </tr>\n",
       "    <tr>\n",
       "      <th>1801138</th>\n",
       "      <td>Treasure Island</td>\n",
       "      <td>1918.0</td>\n",
       "      <td>Lewis Sargent</td>\n",
       "      <td>actor</td>\n",
       "      <td>Ben Gunn</td>\n",
       "      <td>5.0</td>\n",
       "    </tr>\n",
       "    <tr>\n",
       "      <th>1587847</th>\n",
       "      <td>Treasure Island</td>\n",
       "      <td>1918.0</td>\n",
       "      <td>Lloyd Perl</td>\n",
       "      <td>actor</td>\n",
       "      <td>Black Dog</td>\n",
       "      <td>4.0</td>\n",
       "    </tr>\n",
       "    <tr>\n",
       "      <th>2454056</th>\n",
       "      <td>Treasure Island</td>\n",
       "      <td>1918.0</td>\n",
       "      <td>Virginia Lee Corbin</td>\n",
       "      <td>actress</td>\n",
       "      <td>Louise Trelawney</td>\n",
       "      <td>2.0</td>\n",
       "    </tr>\n",
       "    <tr>\n",
       "      <th>313097</th>\n",
       "      <td>Treasure Island</td>\n",
       "      <td>1918.0</td>\n",
       "      <td>Francis Carpenter</td>\n",
       "      <td>actor</td>\n",
       "      <td>Jim Hawkins</td>\n",
       "      <td>1.0</td>\n",
       "    </tr>\n",
       "    <tr>\n",
       "      <th>...</th>\n",
       "      <td>...</td>\n",
       "      <td>...</td>\n",
       "      <td>...</td>\n",
       "      <td>...</td>\n",
       "      <td>...</td>\n",
       "      <td>...</td>\n",
       "    </tr>\n",
       "    <tr>\n",
       "      <th>1828160</th>\n",
       "      <td>Treasure Island</td>\n",
       "      <td>1999.0</td>\n",
       "      <td>Dolph Scott</td>\n",
       "      <td>actor</td>\n",
       "      <td>Parker</td>\n",
       "      <td>11.0</td>\n",
       "    </tr>\n",
       "    <tr>\n",
       "      <th>866136</th>\n",
       "      <td>Treasure Island</td>\n",
       "      <td>1999.0</td>\n",
       "      <td>Pat Healy</td>\n",
       "      <td>actor</td>\n",
       "      <td>Clark</td>\n",
       "      <td>4.0</td>\n",
       "    </tr>\n",
       "    <tr>\n",
       "      <th>1075489</th>\n",
       "      <td>Treasure Island</td>\n",
       "      <td>1999.0</td>\n",
       "      <td>Scott King</td>\n",
       "      <td>actor</td>\n",
       "      <td>Walter</td>\n",
       "      <td>15.0</td>\n",
       "    </tr>\n",
       "    <tr>\n",
       "      <th>2649006</th>\n",
       "      <td>Treasure Island</td>\n",
       "      <td>1999.0</td>\n",
       "      <td>Daisy Hall</td>\n",
       "      <td>actress</td>\n",
       "      <td>Penny</td>\n",
       "      <td>8.0</td>\n",
       "    </tr>\n",
       "    <tr>\n",
       "      <th>807985</th>\n",
       "      <td>Treasure Island</td>\n",
       "      <td>1999.0</td>\n",
       "      <td>Paul Gutrecht</td>\n",
       "      <td>actor</td>\n",
       "      <td>Some Guy</td>\n",
       "      <td>20.0</td>\n",
       "    </tr>\n",
       "  </tbody>\n",
       "</table>\n",
       "<p>135 rows × 6 columns</p>\n",
       "</div>"
      ],
      "text/plain": [
       "                   title    year                 name     type  \\\n",
       "3046750  Treasure Island  1918.0     Violet Radcliffe  actress   \n",
       "1801138  Treasure Island  1918.0        Lewis Sargent    actor   \n",
       "1587847  Treasure Island  1918.0           Lloyd Perl    actor   \n",
       "2454056  Treasure Island  1918.0  Virginia Lee Corbin  actress   \n",
       "313097   Treasure Island  1918.0    Francis Carpenter    actor   \n",
       "...                  ...     ...                  ...      ...   \n",
       "1828160  Treasure Island  1999.0          Dolph Scott    actor   \n",
       "866136   Treasure Island  1999.0            Pat Healy    actor   \n",
       "1075489  Treasure Island  1999.0           Scott King    actor   \n",
       "2649006  Treasure Island  1999.0           Daisy Hall  actress   \n",
       "807985   Treasure Island  1999.0        Paul Gutrecht    actor   \n",
       "\n",
       "                character     n  \n",
       "3046750  Long John Silver   3.0  \n",
       "1801138          Ben Gunn   5.0  \n",
       "1587847         Black Dog   4.0  \n",
       "2454056  Louise Trelawney   2.0  \n",
       "313097        Jim Hawkins   1.0  \n",
       "...                   ...   ...  \n",
       "1828160            Parker  11.0  \n",
       "866136              Clark   4.0  \n",
       "1075489            Walter  15.0  \n",
       "2649006             Penny   8.0  \n",
       "807985           Some Guy  20.0  \n",
       "\n",
       "[135 rows x 6 columns]"
      ]
     },
     "execution_count": 160,
     "metadata": {},
     "output_type": "execute_result"
    }
   ],
   "source": [
    "cast.where(cast.title == 'Treasure Island').dropna().sort_values(by='year')"
   ]
  },
  {
   "cell_type": "code",
   "execution_count": null,
   "id": "b327acc9",
   "metadata": {},
   "outputs": [],
   "source": [
    "#How many roles were credited in the silent 1921 version of Hamlet?"
   ]
  },
  {
   "cell_type": "code",
   "execution_count": 171,
   "id": "93a0407c",
   "metadata": {},
   "outputs": [
    {
     "data": {
      "text/plain": [
       "9"
      ]
     },
     "execution_count": 171,
     "metadata": {},
     "output_type": "execute_result"
    }
   ],
   "source": [
    "cast[cast.title == 'Hamlet'].where(cast.year == 1921).dropna().character.count()"
   ]
  },
  {
   "cell_type": "code",
   "execution_count": null,
   "id": "34a54b0a",
   "metadata": {},
   "outputs": [],
   "source": [
    "#Use groupby() to plot the number of \"Hamlet\" films made each decade"
   ]
  },
  {
   "cell_type": "code",
   "execution_count": 230,
   "id": "9760d62a",
   "metadata": {},
   "outputs": [
    {
     "data": {
      "text/plain": [
       "4"
      ]
     },
     "execution_count": 230,
     "metadata": {},
     "output_type": "execute_result"
    }
   ],
   "source": [
    "int(1945.0 / 10) % 10"
   ]
  },
  {
   "cell_type": "code",
   "execution_count": 232,
   "id": "bac6b5af",
   "metadata": {
    "scrolled": false
   },
   "outputs": [],
   "source": [
    "col = cast.year.apply(lambda x: int(x/10) % 10)\n",
    "cast.insert(3, \"decade\", col)"
   ]
  },
  {
   "cell_type": "code",
   "execution_count": 242,
   "id": "7e907913",
   "metadata": {
    "scrolled": true
   },
   "outputs": [
    {
     "data": {
      "text/plain": [
       "decade\n",
       "0    55\n",
       "1    46\n",
       "2     9\n",
       "4    25\n",
       "5     1\n",
       "6    57\n",
       "7    19\n",
       "8     3\n",
       "9    84\n",
       "Name: title, dtype: int64"
      ]
     },
     "execution_count": 242,
     "metadata": {},
     "output_type": "execute_result"
    }
   ],
   "source": [
    "cast[cast.title == 'Hamlet'].groupby(cast.decade).title.count()"
   ]
  },
  {
   "cell_type": "code",
   "execution_count": null,
   "id": "19bd5ba3",
   "metadata": {},
   "outputs": [],
   "source": [
    "# How many leading (n=1) roles were available to actors, and how many to actresses, in each year of the 1950s?"
   ]
  },
  {
   "cell_type": "code",
   "execution_count": 288,
   "id": "cec58394",
   "metadata": {
    "scrolled": true
   },
   "outputs": [
    {
     "data": {
      "text/html": [
       "<div>\n",
       "<style scoped>\n",
       "    .dataframe tbody tr th:only-of-type {\n",
       "        vertical-align: middle;\n",
       "    }\n",
       "\n",
       "    .dataframe tbody tr th {\n",
       "        vertical-align: top;\n",
       "    }\n",
       "\n",
       "    .dataframe thead th {\n",
       "        text-align: right;\n",
       "    }\n",
       "</style>\n",
       "<table border=\"1\" class=\"dataframe\">\n",
       "  <thead>\n",
       "    <tr style=\"text-align: right;\">\n",
       "      <th></th>\n",
       "      <th></th>\n",
       "      <th></th>\n",
       "      <th>title</th>\n",
       "      <th>name</th>\n",
       "      <th>decade</th>\n",
       "      <th>character</th>\n",
       "    </tr>\n",
       "    <tr>\n",
       "      <th>year</th>\n",
       "      <th>n</th>\n",
       "      <th>type</th>\n",
       "      <th></th>\n",
       "      <th></th>\n",
       "      <th></th>\n",
       "      <th></th>\n",
       "    </tr>\n",
       "  </thead>\n",
       "  <tbody>\n",
       "    <tr>\n",
       "      <th rowspan=\"2\" valign=\"top\">1950.0</th>\n",
       "      <th rowspan=\"2\" valign=\"top\">1.0</th>\n",
       "      <th>actor</th>\n",
       "      <td>604</td>\n",
       "      <td>604</td>\n",
       "      <td>604</td>\n",
       "      <td>604</td>\n",
       "    </tr>\n",
       "    <tr>\n",
       "      <th>actress</th>\n",
       "      <td>271</td>\n",
       "      <td>271</td>\n",
       "      <td>271</td>\n",
       "      <td>271</td>\n",
       "    </tr>\n",
       "    <tr>\n",
       "      <th rowspan=\"2\" valign=\"top\">1951.0</th>\n",
       "      <th rowspan=\"2\" valign=\"top\">1.0</th>\n",
       "      <th>actor</th>\n",
       "      <td>633</td>\n",
       "      <td>633</td>\n",
       "      <td>633</td>\n",
       "      <td>633</td>\n",
       "    </tr>\n",
       "    <tr>\n",
       "      <th>actress</th>\n",
       "      <td>272</td>\n",
       "      <td>272</td>\n",
       "      <td>272</td>\n",
       "      <td>272</td>\n",
       "    </tr>\n",
       "    <tr>\n",
       "      <th rowspan=\"2\" valign=\"top\">1952.0</th>\n",
       "      <th rowspan=\"2\" valign=\"top\">1.0</th>\n",
       "      <th>actor</th>\n",
       "      <td>591</td>\n",
       "      <td>591</td>\n",
       "      <td>591</td>\n",
       "      <td>591</td>\n",
       "    </tr>\n",
       "    <tr>\n",
       "      <th>actress</th>\n",
       "      <td>284</td>\n",
       "      <td>284</td>\n",
       "      <td>284</td>\n",
       "      <td>284</td>\n",
       "    </tr>\n",
       "    <tr>\n",
       "      <th rowspan=\"2\" valign=\"top\">1953.0</th>\n",
       "      <th rowspan=\"2\" valign=\"top\">1.0</th>\n",
       "      <th>actor</th>\n",
       "      <td>634</td>\n",
       "      <td>634</td>\n",
       "      <td>634</td>\n",
       "      <td>634</td>\n",
       "    </tr>\n",
       "    <tr>\n",
       "      <th>actress</th>\n",
       "      <td>290</td>\n",
       "      <td>290</td>\n",
       "      <td>290</td>\n",
       "      <td>290</td>\n",
       "    </tr>\n",
       "    <tr>\n",
       "      <th rowspan=\"2\" valign=\"top\">1954.0</th>\n",
       "      <th rowspan=\"2\" valign=\"top\">1.0</th>\n",
       "      <th>actor</th>\n",
       "      <td>626</td>\n",
       "      <td>626</td>\n",
       "      <td>626</td>\n",
       "      <td>626</td>\n",
       "    </tr>\n",
       "    <tr>\n",
       "      <th>actress</th>\n",
       "      <td>298</td>\n",
       "      <td>298</td>\n",
       "      <td>298</td>\n",
       "      <td>298</td>\n",
       "    </tr>\n",
       "    <tr>\n",
       "      <th rowspan=\"2\" valign=\"top\">1955.0</th>\n",
       "      <th rowspan=\"2\" valign=\"top\">1.0</th>\n",
       "      <th>actor</th>\n",
       "      <td>606</td>\n",
       "      <td>606</td>\n",
       "      <td>606</td>\n",
       "      <td>606</td>\n",
       "    </tr>\n",
       "    <tr>\n",
       "      <th>actress</th>\n",
       "      <td>264</td>\n",
       "      <td>264</td>\n",
       "      <td>264</td>\n",
       "      <td>264</td>\n",
       "    </tr>\n",
       "    <tr>\n",
       "      <th rowspan=\"2\" valign=\"top\">1956.0</th>\n",
       "      <th rowspan=\"2\" valign=\"top\">1.0</th>\n",
       "      <th>actor</th>\n",
       "      <td>614</td>\n",
       "      <td>614</td>\n",
       "      <td>614</td>\n",
       "      <td>614</td>\n",
       "    </tr>\n",
       "    <tr>\n",
       "      <th>actress</th>\n",
       "      <td>288</td>\n",
       "      <td>288</td>\n",
       "      <td>288</td>\n",
       "      <td>288</td>\n",
       "    </tr>\n",
       "    <tr>\n",
       "      <th rowspan=\"2\" valign=\"top\">1957.0</th>\n",
       "      <th rowspan=\"2\" valign=\"top\">1.0</th>\n",
       "      <th>actor</th>\n",
       "      <td>708</td>\n",
       "      <td>708</td>\n",
       "      <td>708</td>\n",
       "      <td>708</td>\n",
       "    </tr>\n",
       "    <tr>\n",
       "      <th>actress</th>\n",
       "      <td>284</td>\n",
       "      <td>284</td>\n",
       "      <td>284</td>\n",
       "      <td>284</td>\n",
       "    </tr>\n",
       "    <tr>\n",
       "      <th rowspan=\"2\" valign=\"top\">1958.0</th>\n",
       "      <th rowspan=\"2\" valign=\"top\">1.0</th>\n",
       "      <th>actor</th>\n",
       "      <td>694</td>\n",
       "      <td>694</td>\n",
       "      <td>694</td>\n",
       "      <td>694</td>\n",
       "    </tr>\n",
       "    <tr>\n",
       "      <th>actress</th>\n",
       "      <td>275</td>\n",
       "      <td>275</td>\n",
       "      <td>275</td>\n",
       "      <td>275</td>\n",
       "    </tr>\n",
       "    <tr>\n",
       "      <th rowspan=\"2\" valign=\"top\">1959.0</th>\n",
       "      <th rowspan=\"2\" valign=\"top\">1.0</th>\n",
       "      <th>actor</th>\n",
       "      <td>678</td>\n",
       "      <td>678</td>\n",
       "      <td>678</td>\n",
       "      <td>678</td>\n",
       "    </tr>\n",
       "    <tr>\n",
       "      <th>actress</th>\n",
       "      <td>287</td>\n",
       "      <td>287</td>\n",
       "      <td>287</td>\n",
       "      <td>287</td>\n",
       "    </tr>\n",
       "  </tbody>\n",
       "</table>\n",
       "</div>"
      ],
      "text/plain": [
       "                    title  name  decade  character\n",
       "year   n   type                                   \n",
       "1950.0 1.0 actor      604   604     604        604\n",
       "           actress    271   271     271        271\n",
       "1951.0 1.0 actor      633   633     633        633\n",
       "           actress    272   272     272        272\n",
       "1952.0 1.0 actor      591   591     591        591\n",
       "           actress    284   284     284        284\n",
       "1953.0 1.0 actor      634   634     634        634\n",
       "           actress    290   290     290        290\n",
       "1954.0 1.0 actor      626   626     626        626\n",
       "           actress    298   298     298        298\n",
       "1955.0 1.0 actor      606   606     606        606\n",
       "           actress    264   264     264        264\n",
       "1956.0 1.0 actor      614   614     614        614\n",
       "           actress    288   288     288        288\n",
       "1957.0 1.0 actor      708   708     708        708\n",
       "           actress    284   284     284        284\n",
       "1958.0 1.0 actor      694   694     694        694\n",
       "           actress    275   275     275        275\n",
       "1959.0 1.0 actor      678   678     678        678\n",
       "           actress    287   287     287        287"
      ]
     },
     "execution_count": 288,
     "metadata": {},
     "output_type": "execute_result"
    }
   ],
   "source": [
    "cast[cast.decade == 5].where(cast.n == 1).groupby(['year', 'n', 'type']).count()"
   ]
  },
  {
   "cell_type": "code",
   "execution_count": null,
   "id": "0f77baa6",
   "metadata": {},
   "outputs": [],
   "source": [
    "#List the 10 actors/actresses that have the most leading roles (n=1) since the 1990's."
   ]
  },
  {
   "cell_type": "code",
   "execution_count": 281,
   "id": "5f29daa6",
   "metadata": {
    "scrolled": true
   },
   "outputs": [
    {
     "data": {
      "text/plain": [
       "Jagathi Sreekumar    275\n",
       "Eric Roberts         248\n",
       "Brahmanandam         243\n",
       "Anupam Kher          242\n",
       "Shakti Kapoor        236\n",
       "Gulshan Grover       227\n",
       "Lloyd Kaufman        192\n",
       "Paresh Rawal         184\n",
       "Johnny Lever         184\n",
       "Danny Trejo          180\n",
       "Name: name, dtype: int64"
      ]
     },
     "execution_count": 281,
     "metadata": {},
     "output_type": "execute_result"
    }
   ],
   "source": [
    "cast[cast.year >= 1990].name.value_counts().head(10)"
   ]
  },
  {
   "cell_type": "code",
   "execution_count": null,
   "id": "56965f48",
   "metadata": {},
   "outputs": [],
   "source": [
    "#List, in order by year, each of the films in which Frank Oz has played more than 1 role"
   ]
  },
  {
   "cell_type": "code",
   "execution_count": 310,
   "id": "dbf34e9f",
   "metadata": {},
   "outputs": [
    {
     "data": {
      "text/plain": [
       "year  title                                   \n",
       "1979  The Muppet Movie                            8\n",
       "1981  An American Werewolf in London              2\n",
       "      The Great Muppet Caper                      6\n",
       "1982  The Dark Crystal                            2\n",
       "1984  The Muppets Take Manhattan                  7\n",
       "1985  Sesame Street Presents: Follow that Bird    3\n",
       "1992  The Muppet Christmas Carol                  7\n",
       "1996  Muppet Treasure Island                      4\n",
       "1999  Muppets from Space                          4\n",
       "      The Adventures of Elmo in Grouchland        3\n",
       "dtype: int64"
      ]
     },
     "execution_count": 310,
     "metadata": {},
     "output_type": "execute_result"
    }
   ],
   "source": [
    "c = cast[cast.name == 'Frank Oz']\n",
    "d = c.groupby(['year','title']).size()\n",
    "d[d > 1].sort_index()"
   ]
  }
 ],
 "metadata": {
  "kernelspec": {
   "display_name": "Python 3",
   "language": "python",
   "name": "python3"
  },
  "language_info": {
   "codemirror_mode": {
    "name": "ipython",
    "version": 3
   },
   "file_extension": ".py",
   "mimetype": "text/x-python",
   "name": "python",
   "nbconvert_exporter": "python",
   "pygments_lexer": "ipython3",
   "version": "3.8.8"
  }
 },
 "nbformat": 4,
 "nbformat_minor": 5
}
